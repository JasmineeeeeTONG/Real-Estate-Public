{
 "cells": [
  {
   "cell_type": "code",
   "execution_count": 1,
   "metadata": {},
   "outputs": [
    {
     "name": "stderr",
     "output_type": "stream",
     "text": [
      "Using TensorFlow backend.\n"
     ]
    }
   ],
   "source": [
    "import time\n",
    "import pandas as pd\n",
    "import numpy as np\n",
    "\n",
    "from lightgbm import LGBMRegressor\n",
    "from xgboost import XGBRegressor\n",
    "from sklearn.linear_model import RidgeCV\n",
    "from sklearn import svm\n",
    "from sklearn.model_selection import GridSearchCV\n",
    "\n",
    "import pickle\n",
    "from sklearn.externals import joblib\n",
    "import warnings\n",
    "warnings.filterwarnings(\"ignore\")\n",
    "\n",
    "import src.utils as utils"
   ]
  },
  {
   "cell_type": "markdown",
   "metadata": {},
   "source": [
    "# Condos"
   ]
  },
  {
   "cell_type": "code",
   "execution_count": 2,
   "metadata": {},
   "outputs": [],
   "source": [
    "data_filename = 'data/features/CON_feats_remarks.pkl'"
   ]
  },
  {
   "cell_type": "markdown",
   "metadata": {},
   "source": [
    "### Test-Train Split, Response = 'SOLDPRICE'"
   ]
  },
  {
   "cell_type": "code",
   "execution_count": 3,
   "metadata": {},
   "outputs": [
    {
     "name": "stdout",
     "output_type": "stream",
     "text": [
      "Number of features from zillow:  10\n",
      "Number of features from redfin:  20\n",
      "Number of features from images:  2048\n",
      "Number of features from remarks:  20\n",
      "Number of training samples:  36842\n",
      "Number of validation samples:  4094\n"
     ]
    }
   ],
   "source": [
    "response_col = 'SOLDPRICE'\n",
    "test_size = 0.1\n",
    "random_state = 9001\n",
    "\n",
    "# read in data \n",
    "df = utils.read_preprocess_df(data_filename, response_col=response_col)\n",
    "\n",
    "# test train split\n",
    "X_train_dict, X_val_dict, y_train, y_val = utils.split_normalize_df(df=df, response_col=response_col, test_size=test_size, random_state=random_state)"
   ]
  },
  {
   "cell_type": "markdown",
   "metadata": {},
   "source": [
    "### Train models"
   ]
  },
  {
   "cell_type": "code",
   "execution_count": 4,
   "metadata": {},
   "outputs": [],
   "source": [
    "train_features = X_train_dict['zillow_redfin_remarks']\n",
    "val_features = X_val_dict['zillow_redfin_remarks']"
   ]
  },
  {
   "cell_type": "code",
   "execution_count": 5,
   "metadata": {},
   "outputs": [
    {
     "name": "stdout",
     "output_type": "stream",
     "text": [
      "Ridge model: \n",
      "best alpha:  1.0\n",
      "----- Training scores -----\n",
      "R2 on log scale:  0.7587561565525761\n",
      "MAE on log scale:  0.2584223390492803\n",
      "MAE on original $ scale:  130983.78878844756\n",
      "----- Validation scores -----\n",
      "R2 on log scale:  0.7712947586642951\n",
      "MAE on log scale:  0.25271014378069906\n",
      "MAE on original $ scale:  132988.4900187464\n"
     ]
    }
   ],
   "source": [
    "# Ridge\n",
    "filename = 'models/soldprice/data_models/condo_price_zillow-redfin-remarks_ridge.pkl'\n",
    "\n",
    "print(\"Ridge model: \")\n",
    "# t0 = time.time()\n",
    "\n",
    "# # train and save model\n",
    "# model = RidgeCV(alphas=(0.5, 1, 1.5, 2, 2.5, 3))\n",
    "# utils.train_save_model(model, X=train_features, y=y_train, filename=filename)\n",
    "# print(\"training time: \", time.time()-t0)\n",
    "\n",
    "# load savced model and evaluate model performance\n",
    "utils.load_eval_model(filename=filename, X_train=train_features, X_val=val_features, y_train=y_train, y_val=y_val)"
   ]
  },
  {
   "cell_type": "code",
   "execution_count": 6,
   "metadata": {},
   "outputs": [
    {
     "name": "stdout",
     "output_type": "stream",
     "text": [
      "XGBoost model: \n",
      "XGBRegressor(base_score=0.5, booster='gbtree', colsample_bylevel=1,\n",
      "       colsample_bytree=1, gamma=0.1, learning_rate=0.1, max_delta_step=0,\n",
      "       max_depth=31, min_child_weight=1, missing=nan, n_estimators=100,\n",
      "       n_jobs=1, nthread=None, objective='reg:linear', random_seed=9001,\n",
      "       random_state=0, reg_alpha=0.001, reg_lambda=1, scale_pos_weight=1,\n",
      "       seed=None, silent=True, subsample=1)\n",
      "----- Training scores -----\n",
      "R2 on log scale:  0.9887095718184126\n",
      "MAE on log scale:  0.06005614430488262\n",
      "MAE on original $ scale:  28661.09152060865\n",
      "----- Validation scores -----\n",
      "R2 on log scale:  0.9441967158606474\n",
      "MAE on log scale:  0.11978942918052694\n",
      "MAE on original $ scale:  59636.02004450111\n"
     ]
    }
   ],
   "source": [
    "# XGBoost\n",
    "filename = 'models/soldprice/data_models/condo_price_zillow-redfin-remarks_XGBoost.pkl'\n",
    "params = {\n",
    "    'max_depth':range(27,35,2),\n",
    "    'gamma':[i/10.0 for i in range(1,4)],\n",
    "    'reg_alpha':[0, 1e-3, 1e-2],\n",
    "    'reg_lambda': [0, 1e-2, 1, 10]\n",
    "}\n",
    "\n",
    "print(\"XGBoost model: \")\n",
    "# t0 = time.time()\n",
    "\n",
    "# # model\n",
    "# model = XGBRegressor(random_seed=9001)\n",
    "# grid = GridSearchCV(model, params, verbose=1, n_jobs=-1)\n",
    "\n",
    "# # train and save model\n",
    "# utils.train_save_model(grid, X=train_features, y=y_train, filename=filename)\n",
    "# print(\"training time: \", time.time()-t0)\n",
    "\n",
    "# load savced model and evaluate model performance\n",
    "utils.load_eval_model(filename=filename, X_train=train_features, X_val=val_features, y_train=y_train, y_val=y_val)"
   ]
  },
  {
   "cell_type": "code",
   "execution_count": 7,
   "metadata": {},
   "outputs": [
    {
     "name": "stdout",
     "output_type": "stream",
     "text": [
      "Light GBM model: \n",
      "LGBMRegressor(boosting_type='gbdt', class_weight=None, colsample_bytree=1.0,\n",
      "       learning_rate=0.1, max_depth=-1, min_child_samples=20,\n",
      "       min_child_weight=0.001, min_split_gain=0.0, n_estimators=1024,\n",
      "       n_jobs=-1, num_leaves=30, objective=None, random_state=9001,\n",
      "       reg_alpha=0.0, reg_lambda=0.0, silent=True, subsample=1.0,\n",
      "       subsample_for_bin=200000, subsample_freq=1)\n",
      "----- Training scores -----\n",
      "R2 on log scale:  0.9833154140777688\n",
      "MAE on log scale:  0.06524832844490958\n",
      "MAE on original $ scale:  30449.832169494464\n",
      "----- Validation scores -----\n",
      "R2 on log scale:  0.9502263365705589\n",
      "MAE on log scale:  0.11522078474979952\n",
      "MAE on original $ scale:  56385.44643313938\n"
     ]
    }
   ],
   "source": [
    "# Light GBM\n",
    "filename = 'models/soldprice/data_models/condo_price_zillow-redfin-remarks_LGBM.pkl'\n",
    "params = {'num_leaves': [15, 30, 100], \n",
    "          'max_depth':[-1, 8, 16, 32], \n",
    "          'n_estimators':[256, 512, 1024]\n",
    "         }\n",
    "\n",
    "print(\"Light GBM model: \")\n",
    "# t0 = time.time()\n",
    "\n",
    "# # model\n",
    "# model = model = LGBMRegressor(random_state=9001)\n",
    "# grid = GridSearchCV(model, params, verbose=1, n_jobs=-1)\n",
    "\n",
    "# # train and save model\n",
    "# utils.train_save_model(grid, X=train_features, y=y_train, filename=filename)\n",
    "# print(\"training time: \", time.time()-t0)\n",
    "\n",
    "# load savced model and evaluate model performance\n",
    "utils.load_eval_model(filename=filename, X_train=train_features, X_val=val_features, y_train=y_train, y_val=y_val)"
   ]
  },
  {
   "cell_type": "markdown",
   "metadata": {},
   "source": [
    "### Test-Train Split, Response = 'DOM'"
   ]
  },
  {
   "cell_type": "code",
   "execution_count": 8,
   "metadata": {},
   "outputs": [
    {
     "name": "stdout",
     "output_type": "stream",
     "text": [
      "Number of features from zillow:  10\n",
      "Number of features from redfin:  20\n",
      "Number of features from images:  2048\n",
      "Number of features from remarks:  20\n",
      "Number of training samples:  36842\n",
      "Number of validation samples:  4094\n"
     ]
    }
   ],
   "source": [
    "response_col = 'DOM'\n",
    "test_size = 0.1\n",
    "random_state = 9001\n",
    "\n",
    "# read in data \n",
    "df = utils.read_preprocess_df(data_filename, response_col=response_col)\n",
    "\n",
    "# test train split\n",
    "X_train_dict, X_val_dict, y_train, y_val = utils.split_normalize_df(df=df, response_col=response_col, test_size=test_size, random_state=random_state)"
   ]
  },
  {
   "cell_type": "markdown",
   "metadata": {},
   "source": [
    "### Train models"
   ]
  },
  {
   "cell_type": "code",
   "execution_count": 9,
   "metadata": {},
   "outputs": [],
   "source": [
    "train_features = X_train_dict['zillow_redfin_remarks']\n",
    "val_features = X_val_dict['zillow_redfin_remarks']"
   ]
  },
  {
   "cell_type": "code",
   "execution_count": 10,
   "metadata": {},
   "outputs": [
    {
     "name": "stdout",
     "output_type": "stream",
     "text": [
      "Ridge model: \n",
      "best alpha:  1.0\n",
      "----- Training scores -----\n",
      "R2 on log scale:  0.09391412332366034\n",
      "MAE on log scale:  0.19593081642740193\n",
      "MAE on original $ scale:  0.6978604053440208\n",
      "----- Validation scores -----\n",
      "R2 on log scale:  0.0805092942425577\n",
      "MAE on log scale:  0.20153137067438764\n",
      "MAE on original $ scale:  0.7168191172931464\n"
     ]
    }
   ],
   "source": [
    "# Ridge\n",
    "filename = 'models/dom/data_models/condo_dom_zillow-redfin-remarks_ridge.pkl'\n",
    "\n",
    "print(\"Ridge model: \")\n",
    "# t0 = time.time()\n",
    "\n",
    "# # train and save model\n",
    "# model = RidgeCV(alphas=(0.5, 1, 1.5, 2, 2.5, 3))\n",
    "# utils.train_save_model(model, X=train_features, y=y_train, filename=filename)\n",
    "# print(\"training time: \", time.time()-t0)\n",
    "\n",
    "# load savced model and evaluate model performance\n",
    "utils.load_eval_model(filename=filename, X_train=train_features, X_val=val_features, y_train=y_train, y_val=y_val)"
   ]
  },
  {
   "cell_type": "code",
   "execution_count": 12,
   "metadata": {},
   "outputs": [
    {
     "name": "stdout",
     "output_type": "stream",
     "text": [
      "XGBoost model: \n",
      "XGBRegressor(base_score=0.5, booster='gbtree', colsample_bylevel=1,\n",
      "       colsample_bytree=1, gamma=0.1, learning_rate=0.1, max_delta_step=0,\n",
      "       max_depth=15, min_child_weight=1, missing=nan, n_estimators=128,\n",
      "       n_jobs=1, nthread=None, objective='reg:linear', random_seed=9001,\n",
      "       random_state=0, reg_alpha=0, reg_lambda=100, scale_pos_weight=1,\n",
      "       seed=None, silent=True, subsample=1)\n",
      "----- Training scores -----\n",
      "R2 on log scale:  0.5766418579767049\n",
      "MAE on log scale:  0.13365997794084788\n",
      "MAE on original $ scale:  0.47641091119407675\n",
      "----- Validation scores -----\n",
      "R2 on log scale:  0.2116770931417471\n",
      "MAE on log scale:  0.18631890659683883\n",
      "MAE on original $ scale:  0.6626776763184433\n"
     ]
    }
   ],
   "source": [
    "# XGBoost\n",
    "filename = 'models/dom/data_models/condo_dom_zillow-redfin-remarks_XGBoost.pkl'\n",
    "params = {\n",
    "    'max_depth':[13, 15, 17, 19],\n",
    "    'reg_lambda':[10, 100, 1000],\n",
    "    'n_estimators': [100, 128, 256],\n",
    "    'gamma':[0, 0.1, 0.2]\n",
    "}\n",
    "\n",
    "print(\"XGBoost model: \")\n",
    "# t0 = time.time()\n",
    "\n",
    "# # model\n",
    "# model = XGBRegressor(random_seed=9001)\n",
    "# grid = GridSearchCV(model, params, verbose=1, n_jobs=-1)\n",
    "\n",
    "# # train and save model\n",
    "# utils.train_save_model(grid, X=train_features, y=y_train, filename=filename)\n",
    "# print(\"training time: \", time.time()-t0)\n",
    "\n",
    "# load savced model and evaluate model performance\n",
    "utils.load_eval_model(filename=filename, X_train=train_features, X_val=val_features, y_train=y_train, y_val=y_val)"
   ]
  },
  {
   "cell_type": "code",
   "execution_count": 13,
   "metadata": {},
   "outputs": [
    {
     "name": "stdout",
     "output_type": "stream",
     "text": [
      "Light GBM model: \n",
      "LGBMRegressor(boosting_type='gbdt', class_weight=None, colsample_bytree=1.0,\n",
      "       learning_rate=0.1, max_depth=-1, min_child_samples=20,\n",
      "       min_child_weight=0.001, min_split_gain=0.0, n_estimators=512,\n",
      "       n_jobs=-1, num_leaves=15, objective=None, random_state=9001,\n",
      "       reg_alpha=0.0, reg_lambda=100, silent=True, subsample=1.0,\n",
      "       subsample_for_bin=200000, subsample_freq=1)\n",
      "----- Training scores -----\n",
      "R2 on log scale:  0.35650885971385937\n",
      "MAE on log scale:  0.1656770789661144\n",
      "MAE on original $ scale:  0.5891632116867122\n",
      "----- Validation scores -----\n",
      "R2 on log scale:  0.20091545278203393\n",
      "MAE on log scale:  0.18754303170396325\n",
      "MAE on original $ scale:  0.6670959743919369\n"
     ]
    }
   ],
   "source": [
    "# Light GBM\n",
    "filename = 'models/dom/data_models/condo_dom_zillow-redfin-remarks_LGBM.pkl'\n",
    "params = {'num_leaves': [5, 15, 30], \n",
    "          'n_estimators':[256, 512, 1024],\n",
    "          'reg_lambda': [10, 100, 1000]\n",
    "         }\n",
    "\n",
    "print(\"Light GBM model: \")\n",
    "# t0 = time.time()\n",
    "\n",
    "# # model\n",
    "# model = model = LGBMRegressor(random_state=9001)\n",
    "# grid = GridSearchCV(model, params, verbose=1, n_jobs=-1)\n",
    "\n",
    "# # train and save model\n",
    "# utils.train_save_model(grid, X=train_features, y=y_train, filename=filename)\n",
    "# print(\"training time: \", time.time()-t0)\n",
    "\n",
    "# load savced model and evaluate model performance\n",
    "utils.load_eval_model(filename=filename, X_train=train_features, X_val=val_features, y_train=y_train, y_val=y_val)"
   ]
  },
  {
   "cell_type": "markdown",
   "metadata": {},
   "source": [
    "# Multi Families"
   ]
  },
  {
   "cell_type": "code",
   "execution_count": 14,
   "metadata": {},
   "outputs": [],
   "source": [
    "data_filename = 'data/features/MF_feats_remarks.pkl'"
   ]
  },
  {
   "cell_type": "markdown",
   "metadata": {},
   "source": [
    "### Test-Train Split, Response = 'SOLDPRICE'"
   ]
  },
  {
   "cell_type": "code",
   "execution_count": 15,
   "metadata": {},
   "outputs": [
    {
     "name": "stdout",
     "output_type": "stream",
     "text": [
      "Number of features from zillow:  10\n",
      "Number of features from redfin:  20\n",
      "Number of features from images:  2048\n",
      "Number of features from remarks:  20\n",
      "Number of training samples:  11965\n",
      "Number of validation samples:  1330\n"
     ]
    }
   ],
   "source": [
    "response_col = 'SOLDPRICE'\n",
    "test_size = 0.1\n",
    "random_state = 9001\n",
    "\n",
    "# read in data \n",
    "df = utils.read_preprocess_df(data_filename, response_col=response_col)\n",
    "\n",
    "# test train split\n",
    "X_train_dict, X_val_dict, y_train, y_val = utils.split_normalize_df(df=df, response_col=response_col, test_size=test_size, random_state=random_state)"
   ]
  },
  {
   "cell_type": "markdown",
   "metadata": {},
   "source": [
    "### Train models"
   ]
  },
  {
   "cell_type": "code",
   "execution_count": 16,
   "metadata": {},
   "outputs": [],
   "source": [
    "train_features = X_train_dict['zillow_redfin_remarks']\n",
    "val_features = X_val_dict['zillow_redfin_remarks']"
   ]
  },
  {
   "cell_type": "code",
   "execution_count": 17,
   "metadata": {},
   "outputs": [
    {
     "name": "stdout",
     "output_type": "stream",
     "text": [
      "Ridge model: \n",
      "best alpha:  2.0\n",
      "----- Training scores -----\n",
      "R2 on log scale:  0.646918645149337\n",
      "MAE on log scale:  0.30800555546826375\n",
      "MAE on original $ scale:  188322.00845235246\n",
      "----- Validation scores -----\n",
      "R2 on log scale:  0.6463869875368184\n",
      "MAE on log scale:  0.3136232311077448\n",
      "MAE on original $ scale:  153748.89968234452\n"
     ]
    }
   ],
   "source": [
    "# Ridge\n",
    "filename = 'models/soldprice/data_models/mf_price_zillow-redfin-remarks_ridge.pkl'\n",
    "\n",
    "print(\"Ridge model: \")\n",
    "# t0 = time.time()\n",
    "\n",
    "# # train and save model\n",
    "# model = RidgeCV(alphas=(1.5, 2, 2.5, 3, 3.5, 4))\n",
    "# utils.train_save_model(model, X=train_features, y=y_train, filename=filename)\n",
    "# print(\"training time: \", time.time()-t0)\n",
    "\n",
    "# load savced model and evaluate model performance\n",
    "utils.load_eval_model(filename=filename, X_train=train_features, X_val=val_features, y_train=y_train, y_val=y_val)"
   ]
  },
  {
   "cell_type": "code",
   "execution_count": 18,
   "metadata": {},
   "outputs": [
    {
     "name": "stdout",
     "output_type": "stream",
     "text": [
      "XGBoost model: \n",
      "Fitting 3 folds for each of 36 candidates, totalling 108 fits\n"
     ]
    },
    {
     "name": "stderr",
     "output_type": "stream",
     "text": [
      "[Parallel(n_jobs=-1)]: Done  34 tasks      | elapsed:  3.7min\n",
      "[Parallel(n_jobs=-1)]: Done 108 out of 108 | elapsed: 17.4min finished\n"
     ]
    },
    {
     "name": "stdout",
     "output_type": "stream",
     "text": [
      "training time:  1141.4351761341095\n",
      "XGBRegressor(base_score=0.5, booster='gbtree', colsample_bylevel=1,\n",
      "       colsample_bytree=1, gamma=0.2, learning_rate=0.1, max_delta_step=0,\n",
      "       max_depth=15, min_child_weight=1, missing=nan, n_estimators=1024,\n",
      "       n_jobs=1, nthread=None, objective='reg:linear', random_seed=9001,\n",
      "       random_state=0, reg_alpha=0, reg_lambda=100, scale_pos_weight=1,\n",
      "       seed=None, silent=True, subsample=1)\n",
      "----- Training scores -----\n",
      "R2 on log scale:  0.9551695422095061\n",
      "MAE on log scale:  0.1073301908582671\n",
      "MAE on original $ scale:  54577.89475918716\n",
      "----- Validation scores -----\n",
      "R2 on log scale:  0.8643345656117478\n",
      "MAE on log scale:  0.18299987729945838\n",
      "MAE on original $ scale:  88428.55361254701\n"
     ]
    }
   ],
   "source": [
    "# XGBoost\n",
    "filename = 'models/soldprice/data_models/mf_price_zillow-redfin-remarks_XGBoost.pkl'\n",
    "params = {\n",
    "    'max_depth':range(11,19,2),\n",
    "    'reg_lambda':[10, 100, 1000],\n",
    "    'n_estimators':[256, 512, 1024]\n",
    "}\n",
    "\n",
    "print(\"XGBoost model: \")\n",
    "t0 = time.time()\n",
    "\n",
    "# model\n",
    "model = XGBRegressor(random_seed=9001, gamma=0.2)\n",
    "grid = GridSearchCV(model, params, verbose=1, n_jobs=-1)\n",
    "\n",
    "# train and save model\n",
    "utils.train_save_model(grid, X=train_features, y=y_train, filename=filename)\n",
    "print(\"training time: \", time.time()-t0)\n",
    "\n",
    "# load savced model and evaluate model performance\n",
    "utils.load_eval_model(filename=filename, X_train=train_features, X_val=val_features, y_train=y_train, y_val=y_val)"
   ]
  },
  {
   "cell_type": "code",
   "execution_count": 19,
   "metadata": {},
   "outputs": [
    {
     "name": "stdout",
     "output_type": "stream",
     "text": [
      "Light GBM model: \n",
      "LGBMRegressor(boosting_type='gbdt', class_weight=None, colsample_bytree=1.0,\n",
      "       learning_rate=0.1, max_depth=-1, min_child_samples=20,\n",
      "       min_child_weight=0.001, min_split_gain=0.0, n_estimators=256,\n",
      "       n_jobs=-1, num_leaves=31, objective=None, random_state=9001,\n",
      "       reg_alpha=0.0, reg_lambda=100, silent=True, subsample=1.0,\n",
      "       subsample_for_bin=200000, subsample_freq=1)\n",
      "----- Training scores -----\n",
      "R2 on log scale:  0.9262942270322592\n",
      "MAE on log scale:  0.12721437334501387\n",
      "MAE on original $ scale:  63813.53537647143\n",
      "----- Validation scores -----\n",
      "R2 on log scale:  0.866623468802058\n",
      "MAE on log scale:  0.1837046222519254\n",
      "MAE on original $ scale:  88828.51452154995\n"
     ]
    }
   ],
   "source": [
    "# Light GBM\n",
    "filename = 'models/soldprice/data_models/mf_price_zillow-redfin-remarks_LGBM.pkl'\n",
    "params = {'reg_lambda': [10, 100, 500], \n",
    "          'learning_rate':[0.01, 0.1, 1], \n",
    "          'n_estimators':[128, 256, 512]\n",
    "         }\n",
    "\n",
    "print(\"Light GBM model: \")\n",
    "# t0 = time.time()\n",
    "\n",
    "# # model\n",
    "# model = model = LGBMRegressor(random_state=9001)\n",
    "# grid = GridSearchCV(model, params, verbose=1, n_jobs=-1)\n",
    "\n",
    "# # train and save model\n",
    "# utils.train_save_model(grid, X=train_features, y=y_train, filename=filename)\n",
    "# print(\"training time: \", time.time()-t0)\n",
    "\n",
    "# load savced model and evaluate model performance\n",
    "utils.load_eval_model(filename=filename, X_train=train_features, X_val=val_features, y_train=y_train, y_val=y_val)"
   ]
  },
  {
   "cell_type": "markdown",
   "metadata": {},
   "source": [
    "### Test-Train Split, Response = 'DOM'"
   ]
  },
  {
   "cell_type": "code",
   "execution_count": 20,
   "metadata": {},
   "outputs": [
    {
     "name": "stdout",
     "output_type": "stream",
     "text": [
      "Number of features from zillow:  10\n",
      "Number of features from redfin:  20\n",
      "Number of features from images:  2048\n",
      "Number of features from remarks:  20\n",
      "Number of training samples:  11965\n",
      "Number of validation samples:  1330\n"
     ]
    }
   ],
   "source": [
    "response_col = 'DOM'\n",
    "test_size = 0.1\n",
    "random_state = 9001\n",
    "\n",
    "# read in data \n",
    "df = utils.read_preprocess_df(data_filename, response_col=response_col)\n",
    "\n",
    "# test train split\n",
    "X_train_dict, X_val_dict, y_train, y_val = utils.split_normalize_df(df=df, response_col=response_col, test_size=test_size, random_state=random_state)"
   ]
  },
  {
   "cell_type": "markdown",
   "metadata": {},
   "source": [
    "### Train models"
   ]
  },
  {
   "cell_type": "code",
   "execution_count": 21,
   "metadata": {},
   "outputs": [
    {
     "name": "stdout",
     "output_type": "stream",
     "text": [
      "Ridge model: \n",
      "best alpha:  3.0\n",
      "----- Training scores -----\n",
      "R2 on log scale:  0.07096800075294174\n",
      "MAE on log scale:  0.2007738442777016\n",
      "MAE on original $ scale:  0.7368750429455887\n",
      "----- Validation scores -----\n",
      "R2 on log scale:  0.07454910913310497\n",
      "MAE on log scale:  0.202025197088306\n",
      "MAE on original $ scale:  0.742053105983663\n"
     ]
    }
   ],
   "source": [
    "# Ridge\n",
    "filename = 'models/dom/data_models/mf_dom_zillow-redfin-remarks_ridge.pkl'\n",
    "\n",
    "print(\"Ridge model: \")\n",
    "# t0 = time.time()\n",
    "\n",
    "# # train and save model\n",
    "# model = RidgeCV(alphas=(1, 1.5, 2, 2.5, 3, 3.5, 4, 4.5, 5, 5.5))\n",
    "# utils.train_save_model(model, X=train_features, y=y_train, filename=filename)\n",
    "# print(\"training time: \", time.time()-t0)\n",
    "\n",
    "# load savced model and evaluate model performance\n",
    "utils.load_eval_model(filename=filename, X_train=train_features, X_val=val_features, y_train=y_train, y_val=y_val)"
   ]
  },
  {
   "cell_type": "code",
   "execution_count": 22,
   "metadata": {},
   "outputs": [
    {
     "name": "stdout",
     "output_type": "stream",
     "text": [
      "XGBoost model: \n",
      "Fitting 3 folds for each of 36 candidates, totalling 108 fits\n"
     ]
    },
    {
     "name": "stderr",
     "output_type": "stream",
     "text": [
      "[Parallel(n_jobs=-1)]: Done  34 tasks      | elapsed: 32.7min\n",
      "[Parallel(n_jobs=-1)]: Done 108 out of 108 | elapsed: 58.2min finished\n"
     ]
    },
    {
     "name": "stdout",
     "output_type": "stream",
     "text": [
      "training time:  3615.5078217983246\n",
      "XGBRegressor(base_score=0.5, booster='gbtree', colsample_bylevel=1,\n",
      "       colsample_bytree=1, gamma=0.2, learning_rate=0.1, max_delta_step=0,\n",
      "       max_depth=17, min_child_weight=1, missing=nan, n_estimators=1024,\n",
      "       n_jobs=1, nthread=None, objective='reg:linear', random_seed=9001,\n",
      "       random_state=0, reg_alpha=10, reg_lambda=1, scale_pos_weight=1,\n",
      "       seed=None, silent=True, subsample=1)\n",
      "----- Training scores -----\n",
      "R2 on log scale:  0.258027782823984\n",
      "MAE on log scale:  0.1790049879985472\n",
      "MAE on original $ scale:  0.6577509580107286\n",
      "----- Validation scores -----\n",
      "R2 on log scale:  0.10823341540566633\n",
      "MAE on log scale:  0.19775306616692492\n",
      "MAE on original $ scale:  0.7259870751366181\n"
     ]
    }
   ],
   "source": [
    "# XGBoost\n",
    "filename = 'models/dom/data_models/mf_dom_zillow-redfin-remarks_XGBoost.pkl'\n",
    "params = {\n",
    "    'max_depth':[15, 17, 19, 21],\n",
    "    'reg_alpha':[1, 10, 100],\n",
    "    'reg_lambda':[1, 10, 100]\n",
    "}\n",
    "\n",
    "print(\"XGBoost model: \")\n",
    "t0 = time.time()\n",
    "\n",
    "# model\n",
    "model = XGBRegressor(random_seed=9001, n_estimators=1024, gamma=0.2)\n",
    "grid = GridSearchCV(model, params, verbose=1, n_jobs=-1)\n",
    "\n",
    "# train and save model\n",
    "utils.train_save_model(grid, X=train_features, y=y_train, filename=filename)\n",
    "print(\"training time: \", time.time()-t0)\n",
    "\n",
    "# load savced model and evaluate model performance\n",
    "utils.load_eval_model(filename=filename, X_train=train_features, X_val=val_features, y_train=y_train, y_val=y_val)"
   ]
  },
  {
   "cell_type": "code",
   "execution_count": 23,
   "metadata": {},
   "outputs": [
    {
     "name": "stdout",
     "output_type": "stream",
     "text": [
      "Light GBM model: \n",
      "LGBMRegressor(boosting_type='gbdt', class_weight=None, colsample_bytree=1.0,\n",
      "       learning_rate=0.01, max_depth=-1, min_child_samples=20,\n",
      "       min_child_weight=0.001, min_split_gain=0.0, n_estimators=256,\n",
      "       n_jobs=-1, num_leaves=31, objective=None, random_state=9001,\n",
      "       reg_alpha=0.0, reg_lambda=10, silent=True, subsample=1.0,\n",
      "       subsample_for_bin=200000, subsample_freq=1)\n",
      "----- Training scores -----\n",
      "R2 on log scale:  0.19092918582589513\n",
      "MAE on log scale:  0.18737007378188933\n",
      "MAE on original $ scale:  0.6877907178985545\n",
      "----- Validation scores -----\n",
      "R2 on log scale:  0.10777679896716319\n",
      "MAE on log scale:  0.19830314917487604\n",
      "MAE on original $ scale:  0.7288005479257166\n"
     ]
    }
   ],
   "source": [
    "# Light GBM\n",
    "filename = 'models/dom/data_models/mf_dom_zillow-redfin-remarks_LGBM.pkl'\n",
    "params = {'reg_lambda': [1, 10, 100], \n",
    "          'learning_rate':[0.001, 0.01, 0.1], \n",
    "          'n_estimators':[128, 256, 512]\n",
    "         }\n",
    "\n",
    "print(\"Light GBM model: \")\n",
    "# t0 = time.time()\n",
    "\n",
    "# # model\n",
    "# model = model = LGBMRegressor(random_state=9001)\n",
    "# grid = GridSearchCV(model, params, verbose=1, n_jobs=-1)\n",
    "\n",
    "# # train and save model\n",
    "# utils.train_save_model(grid, X=train_features, y=y_train, filename=filename)\n",
    "# print(\"training time: \", time.time()-t0)\n",
    "\n",
    "# load savced model and evaluate model performance\n",
    "utils.load_eval_model(filename=filename, X_train=train_features, X_val=val_features, y_train=y_train, y_val=y_val)"
   ]
  },
  {
   "cell_type": "code",
   "execution_count": null,
   "metadata": {},
   "outputs": [],
   "source": []
  },
  {
   "cell_type": "code",
   "execution_count": null,
   "metadata": {},
   "outputs": [],
   "source": []
  }
 ],
 "metadata": {
  "kernelspec": {
   "display_name": "Python 3",
   "language": "python",
   "name": "python3"
  },
  "language_info": {
   "codemirror_mode": {
    "name": "ipython",
    "version": 3
   },
   "file_extension": ".py",
   "mimetype": "text/x-python",
   "name": "python",
   "nbconvert_exporter": "python",
   "pygments_lexer": "ipython3",
   "version": "3.6.4"
  }
 },
 "nbformat": 4,
 "nbformat_minor": 2
}

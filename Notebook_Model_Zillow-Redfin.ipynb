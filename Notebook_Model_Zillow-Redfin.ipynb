{
 "cells": [
  {
   "cell_type": "code",
   "execution_count": 1,
   "metadata": {},
   "outputs": [
    {
     "name": "stderr",
     "output_type": "stream",
     "text": [
      "Using TensorFlow backend.\n"
     ]
    }
   ],
   "source": [
    "import time\n",
    "import pandas as pd\n",
    "import numpy as np\n",
    "\n",
    "from lightgbm import LGBMRegressor\n",
    "from xgboost import XGBRegressor\n",
    "from sklearn.linear_model import RidgeCV\n",
    "from sklearn import svm\n",
    "from sklearn.model_selection import GridSearchCV\n",
    "\n",
    "import pickle\n",
    "from sklearn.externals import joblib\n",
    "import warnings\n",
    "warnings.filterwarnings(\"ignore\")\n",
    "\n",
    "import src.utils as utils"
   ]
  },
  {
   "cell_type": "markdown",
   "metadata": {},
   "source": [
    "# Condos"
   ]
  },
  {
   "cell_type": "code",
   "execution_count": 2,
   "metadata": {},
   "outputs": [],
   "source": [
    "data_filename = 'data/features/CON_feats_remarks.pkl'"
   ]
  },
  {
   "cell_type": "markdown",
   "metadata": {},
   "source": [
    "### Test-Train Split, Response = 'SOLDPRICE'"
   ]
  },
  {
   "cell_type": "code",
   "execution_count": 3,
   "metadata": {},
   "outputs": [
    {
     "name": "stdout",
     "output_type": "stream",
     "text": [
      "Number of features from zillow:  10\n",
      "Number of features from redfin:  20\n",
      "Number of features from images:  2048\n",
      "Number of features from remarks:  20\n",
      "Number of training samples:  36842\n",
      "Number of validation samples:  4094\n"
     ]
    }
   ],
   "source": [
    "response_col = 'SOLDPRICE'\n",
    "test_size = 0.1\n",
    "random_state = 9001\n",
    "\n",
    "# read in data \n",
    "df = utils.read_preprocess_df(data_filename, response_col=response_col)\n",
    "\n",
    "# test train split\n",
    "X_train_dict, X_val_dict, y_train, y_val = utils.split_normalize_df(df=df, response_col=response_col, test_size=test_size, random_state=random_state)"
   ]
  },
  {
   "cell_type": "markdown",
   "metadata": {},
   "source": [
    "### Train models"
   ]
  },
  {
   "cell_type": "code",
   "execution_count": 4,
   "metadata": {},
   "outputs": [],
   "source": [
    "train_features = X_train_dict['zillow_redfin']\n",
    "val_features = X_val_dict['zillow_redfin']"
   ]
  },
  {
   "cell_type": "code",
   "execution_count": 5,
   "metadata": {},
   "outputs": [
    {
     "name": "stdout",
     "output_type": "stream",
     "text": [
      "Ridge model: \n",
      "best alpha:  1.0\n",
      "----- Training scores -----\n",
      "R2 on log scale:  0.6382971002880207\n",
      "MAE on log scale:  0.3185230138089127\n",
      "MAE on original $ scale:  160144.8875919427\n",
      "----- Validation scores -----\n",
      "R2 on log scale:  0.6292163815737918\n",
      "MAE on log scale:  0.3171481689170869\n",
      "MAE on original $ scale:  192083.79349019701\n"
     ]
    }
   ],
   "source": [
    "# Ridge\n",
    "filename = 'models/soldprice/data_models/condo_price_zillow-redfin_ridge.pkl'\n",
    "\n",
    "print(\"Ridge model: \")\n",
    "# t0 = time.time()\n",
    "\n",
    "# # train and save model\n",
    "# model = RidgeCV(alphas=(1, 1.5, 2, 2.5, 3))\n",
    "# utils.train_save_model(model, X=train_features, y=y_train, filename=filename)\n",
    "# print(\"training time: \", time.time()-t0)\n",
    "\n",
    "# load savced model and evaluate model performance\n",
    "utils.load_eval_model(filename=filename, X_train=train_features, X_val=val_features, y_train=y_train, y_val=y_val)"
   ]
  },
  {
   "cell_type": "code",
   "execution_count": 6,
   "metadata": {},
   "outputs": [
    {
     "name": "stdout",
     "output_type": "stream",
     "text": [
      "XGBoost model: \n",
      "XGBRegressor(base_score=0.5, booster='gbtree', colsample_bylevel=1,\n",
      "       colsample_bytree=1, gamma=0.0, learning_rate=0.1, max_delta_step=0,\n",
      "       max_depth=23, min_child_weight=1, missing=nan, n_estimators=100,\n",
      "       n_jobs=1, nthread=None, objective='reg:linear', random_seed=9001,\n",
      "       random_state=0, reg_alpha=1, reg_lambda=1, scale_pos_weight=1,\n",
      "       seed=None, silent=True, subsample=1)\n",
      "----- Training scores -----\n",
      "R2 on log scale:  0.9865527050239752\n",
      "MAE on log scale:  0.057272628423993964\n",
      "MAE on original $ scale:  26947.47150444139\n",
      "----- Validation scores -----\n",
      "R2 on log scale:  0.9452556746101984\n",
      "MAE on log scale:  0.11473856539000461\n",
      "MAE on original $ scale:  57163.18539364009\n"
     ]
    }
   ],
   "source": [
    "# XGBoost\n",
    "filename = 'models/soldprice/data_models/condo_price_zillow-redfin_XGBoost.pkl'\n",
    "params = {\n",
    "    'max_depth':range(21,28,2),\n",
    "    'gamma':[i/10.0 for i in range(0,3)],\n",
    "    'reg_alpha':[1e-2, 0.1, 1, 10]\n",
    "}\n",
    "\n",
    "print(\"XGBoost model: \")\n",
    "# t0 = time.time()\n",
    "\n",
    "# model\n",
    "# model = XGBRegressor(random_seed=9001)\n",
    "# grid = GridSearchCV(model, params, verbose=1, n_jobs=-1)\n",
    "\n",
    "# train and save model\n",
    "# utils.train_save_model(model, X=train_features, y=y_train, filename=filename)\n",
    "# print(\"training time: \", time.time()-t0)\n",
    "\n",
    "# load savced model and evaluate model performance\n",
    "utils.load_eval_model(filename=filename, X_train=train_features, X_val=val_features, y_train=y_train, y_val=y_val)"
   ]
  },
  {
   "cell_type": "code",
   "execution_count": 7,
   "metadata": {},
   "outputs": [
    {
     "name": "stdout",
     "output_type": "stream",
     "text": [
      "Light GBM model: \n",
      "LGBMRegressor(boosting_type='gbdt', class_weight=None, colsample_bytree=1.0,\n",
      "       learning_rate=0.1, max_depth=16, min_child_samples=20,\n",
      "       min_child_weight=0.001, min_split_gain=0.0, n_estimators=2048,\n",
      "       n_jobs=-1, num_leaves=30, objective=None, random_state=9001,\n",
      "       reg_alpha=0.0, reg_lambda=0.0, silent=True, subsample=1.0,\n",
      "       subsample_for_bin=200000, subsample_freq=1)\n",
      "----- Training scores -----\n",
      "R2 on log scale:  0.9832844145177274\n",
      "MAE on log scale:  0.059777141672348155\n",
      "MAE on original $ scale:  26655.79428002409\n",
      "----- Validation scores -----\n",
      "R2 on log scale:  0.9475539824570391\n",
      "MAE on log scale:  0.11431590043015316\n",
      "MAE on original $ scale:  57069.10543402096\n"
     ]
    }
   ],
   "source": [
    "# Light GBM\n",
    "filename = 'models/soldprice/data_models/condo_price_zillow-redfin_LGBM.pkl'\n",
    "params = {'num_leaves': [30, 100, 200], \n",
    "          'max_depth':[-1, 16, 32, 64], \n",
    "          'learning_rate':[0.01, 0.1, 1], \n",
    "          'n_estimators':[128, 256, 512]\n",
    "         }\n",
    "\n",
    "print(\"Light GBM model: \")\n",
    "# t0 = time.time()\n",
    "\n",
    "# model\n",
    "# model = model = LGBMRegressor(random_state=9001)\n",
    "# grid = GridSearchCV(model, params, verbose=1, n_jobs=-1)\n",
    "\n",
    "# train and save model\n",
    "# utils.train_save_model(model, X=train_features, y=y_train, filename=filename)\n",
    "# print(\"training time: \", time.time()-t0)\n",
    "\n",
    "# load savced model and evaluate model performance\n",
    "utils.load_eval_model(filename=filename, X_train=train_features, X_val=val_features, y_train=y_train, y_val=y_val)"
   ]
  },
  {
   "cell_type": "markdown",
   "metadata": {},
   "source": [
    "### Test-Train Split, Response = 'DOM'"
   ]
  },
  {
   "cell_type": "code",
   "execution_count": 8,
   "metadata": {},
   "outputs": [
    {
     "name": "stdout",
     "output_type": "stream",
     "text": [
      "Number of features from zillow:  10\n",
      "Number of features from redfin:  20\n",
      "Number of features from images:  2048\n",
      "Number of features from remarks:  20\n",
      "Number of training samples:  36842\n",
      "Number of validation samples:  4094\n"
     ]
    }
   ],
   "source": [
    "response_col = 'DOM'\n",
    "test_size = 0.1\n",
    "random_state = 9001\n",
    "\n",
    "# read in data \n",
    "df = utils.read_preprocess_df(data_filename, response_col=response_col)\n",
    "\n",
    "# test train split\n",
    "X_train_dict, X_val_dict, y_train, y_val = utils.split_normalize_df(df=df, response_col=response_col, test_size=test_size, random_state=random_state)"
   ]
  },
  {
   "cell_type": "markdown",
   "metadata": {},
   "source": [
    "### Train models"
   ]
  },
  {
   "cell_type": "code",
   "execution_count": 9,
   "metadata": {},
   "outputs": [],
   "source": [
    "train_features = X_train_dict['zillow_redfin']\n",
    "val_features = X_val_dict['zillow_redfin']"
   ]
  },
  {
   "cell_type": "code",
   "execution_count": 10,
   "metadata": {},
   "outputs": [
    {
     "name": "stdout",
     "output_type": "stream",
     "text": [
      "Ridge model: \n",
      "best alpha:  1.0\n",
      "----- Training scores -----\n",
      "R2 on log scale:  0.07316034102448887\n",
      "MAE on log scale:  0.19855581322303706\n",
      "MAE on original $ scale:  0.7072533653093103\n",
      "----- Validation scores -----\n",
      "R2 on log scale:  0.05862482536363722\n",
      "MAE on log scale:  0.2050005368842763\n",
      "MAE on original $ scale:  0.7290693080585253\n"
     ]
    }
   ],
   "source": [
    "# Ridge\n",
    "filename = 'models/dom/data_models/condo_dom_zillow-redfin_ridge.pkl'\n",
    "\n",
    "print(\"Ridge model: \")\n",
    "# t0 = time.time()\n",
    "\n",
    "# # train and save model\n",
    "# model = RidgeCV(alphas=(0.5, 1, 1.5, 2))\n",
    "# utils.train_save_model(model, X=train_features, y=y_train, filename=filename)\n",
    "# print(\"training time: \", time.time()-t0)\n",
    "\n",
    "# load savced model and evaluate model performance\n",
    "utils.load_eval_model(filename=filename, X_train=train_features, X_val=val_features, y_train=y_train, y_val=y_val)"
   ]
  },
  {
   "cell_type": "code",
   "execution_count": 11,
   "metadata": {},
   "outputs": [
    {
     "name": "stdout",
     "output_type": "stream",
     "text": [
      "XGBoost model: \n",
      "XGBRegressor(base_score=0.5, booster='gbtree', colsample_bylevel=1,\n",
      "       colsample_bytree=1, gamma=0.2, learning_rate=0.1, max_delta_step=0,\n",
      "       max_depth=18, min_child_weight=1, missing=nan, n_estimators=100,\n",
      "       n_jobs=1, nthread=None, objective='reg:linear', random_seed=9001,\n",
      "       random_state=0, reg_alpha=1, reg_lambda=1, scale_pos_weight=1,\n",
      "       seed=None, silent=True, subsample=1)\n",
      "----- Training scores -----\n",
      "R2 on log scale:  0.4750179091072324\n",
      "MAE on log scale:  0.15055135281140122\n",
      "MAE on original $ scale:  0.5364716456178968\n",
      "----- Validation scores -----\n",
      "R2 on log scale:  0.1779568551006866\n",
      "MAE on log scale:  0.19025634498462451\n",
      "MAE on original $ scale:  0.6762753617847805\n"
     ]
    }
   ],
   "source": [
    "# XGBoost\n",
    "filename = 'models/dom/data_models/condo_dom_zillow-redfin_XGBoost.pkl'\n",
    "params = {\n",
    "    'max_depth':range(18,23,2),\n",
    "    'gamma':[i/10.0 for i in range(0,3)],\n",
    "    'reg_alpha':[1e-2, 0.1, 1, 10]\n",
    "}\n",
    "\n",
    "print(\"XGBoost model: \")\n",
    "# t0 = time.time()\n",
    "\n",
    "# # model\n",
    "# model = XGBRegressor(random_seed=9001)\n",
    "# grid = GridSearchCV(model, params, verbose=1, n_jobs=-1)\n",
    "\n",
    "# # train and save model\n",
    "# utils.train_save_model(grid, X=train_features, y=y_train, filename=filename)\n",
    "# print(\"training time: \", time.time()-t0)\n",
    "\n",
    "# load savced model and evaluate model performance\n",
    "utils.load_eval_model(filename=filename, X_train=train_features, X_val=val_features, y_train=y_train, y_val=y_val)"
   ]
  },
  {
   "cell_type": "code",
   "execution_count": 14,
   "metadata": {},
   "outputs": [
    {
     "name": "stdout",
     "output_type": "stream",
     "text": [
      "Light GBM model: \n",
      "Fitting 3 folds for each of 108 candidates, totalling 324 fits\n"
     ]
    },
    {
     "name": "stderr",
     "output_type": "stream",
     "text": [
      "[Parallel(n_jobs=1)]: Done 324 out of 324 | elapsed:  8.8min finished\n"
     ]
    },
    {
     "name": "stdout",
     "output_type": "stream",
     "text": [
      "training time:  535.0616109371185\n",
      "LGBMRegressor(boosting_type='gbdt', class_weight=None, colsample_bytree=1.0,\n",
      "       learning_rate=0.01, max_depth=-1, min_child_samples=20,\n",
      "       min_child_weight=0.001, min_split_gain=0.0, n_estimators=512,\n",
      "       n_jobs=-1, num_leaves=200, objective=None, random_state=9001,\n",
      "       reg_alpha=0.0, reg_lambda=0.0, silent=True, subsample=1.0,\n",
      "       subsample_for_bin=200000, subsample_freq=1)\n",
      "----- Training scores -----\n",
      "R2 on log scale:  0.4235505747964915\n",
      "MAE on log scale:  0.1572258950778728\n",
      "MAE on original $ scale:  0.5590334326958408\n",
      "----- Validation scores -----\n",
      "R2 on log scale:  0.18789981237809472\n",
      "MAE on log scale:  0.1894706139118776\n",
      "MAE on original $ scale:  0.6738703637160046\n"
     ]
    }
   ],
   "source": [
    "# Light GBM\n",
    "filename = 'models/dom/data_models/condo_dom_zillow-redfin_LGBM.pkl'\n",
    "params = {'num_leaves': [30, 100, 200], \n",
    "          'max_depth':[-1, 16, 32, 64], \n",
    "          'learning_rate':[0.01, 0.1, 1], \n",
    "          'n_estimators':[128, 256, 512]\n",
    "         }\n",
    "\n",
    "print(\"Light GBM model: \")\n",
    "t0 = time.time()\n",
    "\n",
    "# model\n",
    "model = model = LGBMRegressor(random_state=9001)\n",
    "grid = GridSearchCV(model, params, verbose=1)\n",
    "\n",
    "# train and save model\n",
    "utils.train_save_model(grid, X=train_features, y=y_train, filename=filename)\n",
    "print(\"training time: \", time.time()-t0)\n",
    "\n",
    "# load savced model and evaluate model performance\n",
    "utils.load_eval_model(filename=filename, X_train=train_features, X_val=val_features, y_train=y_train, y_val=y_val)"
   ]
  },
  {
   "cell_type": "markdown",
   "metadata": {},
   "source": [
    "# Multi Families"
   ]
  },
  {
   "cell_type": "code",
   "execution_count": 15,
   "metadata": {},
   "outputs": [],
   "source": [
    "data_filename = 'data/features/MF_feats_remarks.pkl'"
   ]
  },
  {
   "cell_type": "markdown",
   "metadata": {},
   "source": [
    "### Test-Train Split, Response = 'SOLDPRICE'"
   ]
  },
  {
   "cell_type": "code",
   "execution_count": 16,
   "metadata": {},
   "outputs": [
    {
     "name": "stdout",
     "output_type": "stream",
     "text": [
      "Number of features from zillow:  10\n",
      "Number of features from redfin:  20\n",
      "Number of features from images:  2048\n",
      "Number of features from remarks:  20\n",
      "Number of training samples:  11965\n",
      "Number of validation samples:  1330\n"
     ]
    }
   ],
   "source": [
    "response_col = 'SOLDPRICE'\n",
    "test_size = 0.1\n",
    "random_state = 9001\n",
    "\n",
    "# read in data \n",
    "df = utils.read_preprocess_df(data_filename, response_col=response_col)\n",
    "\n",
    "# test train split\n",
    "X_train_dict, X_val_dict, y_train, y_val = utils.split_normalize_df(df=df, response_col=response_col, test_size=test_size, random_state=random_state)"
   ]
  },
  {
   "cell_type": "markdown",
   "metadata": {},
   "source": [
    "### Train models"
   ]
  },
  {
   "cell_type": "code",
   "execution_count": 17,
   "metadata": {},
   "outputs": [],
   "source": [
    "train_features = X_train_dict['zillow_redfin']\n",
    "val_features = X_val_dict['zillow_redfin']"
   ]
  },
  {
   "cell_type": "code",
   "execution_count": 18,
   "metadata": {},
   "outputs": [
    {
     "name": "stdout",
     "output_type": "stream",
     "text": [
      "Ridge model: \n",
      "best alpha:  2.5\n",
      "----- Training scores -----\n",
      "R2 on log scale:  0.5417342593516201\n",
      "MAE on log scale:  0.34693197029251505\n",
      "MAE on original $ scale:  241020.27993794376\n",
      "----- Validation scores -----\n",
      "R2 on log scale:  0.5362543705460012\n",
      "MAE on log scale:  0.3503044007103347\n",
      "MAE on original $ scale:  165764.26074559786\n"
     ]
    }
   ],
   "source": [
    "# Ridge\n",
    "filename = 'models/soldprice/data_models/mf_price_zillow-redfin_ridge.pkl'\n",
    "\n",
    "print(\"Ridge model: \")\n",
    "# t0 = time.time()\n",
    "\n",
    "# # train and save model\n",
    "# model = RidgeCV(alphas=(3.5, 4, 4.5, 5, 5.5))\n",
    "# utils.train_save_model(model, X=train_features, y=y_train, filename=filename)\n",
    "# print(\"training time: \", time.time()-t0)\n",
    "\n",
    "# load savced model and evaluate model performance\n",
    "utils.load_eval_model(filename=filename, X_train=train_features, X_val=val_features, y_train=y_train, y_val=y_val)"
   ]
  },
  {
   "cell_type": "code",
   "execution_count": 19,
   "metadata": {},
   "outputs": [
    {
     "name": "stdout",
     "output_type": "stream",
     "text": [
      "XGBoost model: \n",
      "XGBRegressor(base_score=0.5, booster='gbtree', colsample_bylevel=1,\n",
      "       colsample_bytree=1, gamma=0.3, learning_rate=0.1, max_delta_step=0,\n",
      "       max_depth=27, min_child_weight=1, missing=nan, n_estimators=100,\n",
      "       n_jobs=1, nthread=None, objective='reg:linear', random_seed=9001,\n",
      "       random_state=0, reg_alpha=1, reg_lambda=1, scale_pos_weight=1,\n",
      "       seed=None, silent=True, subsample=1)\n",
      "----- Training scores -----\n",
      "R2 on log scale:  0.926527391605652\n",
      "MAE on log scale:  0.14671760425120417\n",
      "MAE on original $ scale:  66488.96989508197\n",
      "----- Validation scores -----\n",
      "R2 on log scale:  0.8108434310530985\n",
      "MAE on log scale:  0.21652329641836707\n",
      "MAE on original $ scale:  94344.66500234966\n"
     ]
    }
   ],
   "source": [
    "# XGBoost\n",
    "filename = 'models/soldprice/data_models/mf_price_zillow-redfin_XGBoost.pkl'\n",
    "params = {\n",
    "    'max_depth':range(21,28,2),\n",
    "    'gamma':[i/10.0 for i in range(0,3)],\n",
    "    'reg_alpha':[1e-2, 0.1, 1, 10]\n",
    "}\n",
    "\n",
    "print(\"XGBoost model: \")\n",
    "# t0 = time.time()\n",
    "\n",
    "# model\n",
    "# model = XGBRegressor(random_seed=9001)\n",
    "# grid = GridSearchCV(model, params, verbose=1, n_jobs=-1)\n",
    "\n",
    "# train and save model\n",
    "# utils.train_save_model(model, X=train_features, y=y_train, filename=filename)\n",
    "# print(\"training time: \", time.time()-t0)\n",
    "\n",
    "# load savced model and evaluate model performance\n",
    "utils.load_eval_model(filename=filename, X_train=train_features, X_val=val_features, y_train=y_train, y_val=y_val)"
   ]
  },
  {
   "cell_type": "code",
   "execution_count": 20,
   "metadata": {},
   "outputs": [
    {
     "name": "stdout",
     "output_type": "stream",
     "text": [
      "Light GBM model: \n",
      "LGBMRegressor(boosting_type='gbdt', class_weight=None, colsample_bytree=1.0,\n",
      "       learning_rate=0.01, max_depth=8, min_child_samples=20,\n",
      "       min_child_weight=0.001, min_split_gain=0.0, n_estimators=1024,\n",
      "       n_jobs=-1, num_leaves=100, objective=None, random_state=9001,\n",
      "       reg_alpha=0.0, reg_lambda=0.0, silent=True, subsample=1.0,\n",
      "       subsample_for_bin=200000, subsample_freq=1)\n",
      "----- Training scores -----\n",
      "R2 on log scale:  0.8931280770060035\n",
      "MAE on log scale:  0.15417419475347055\n",
      "MAE on original $ scale:  65270.60297681228\n",
      "----- Validation scores -----\n",
      "R2 on log scale:  0.8197024078169651\n",
      "MAE on log scale:  0.21232030963747797\n",
      "MAE on original $ scale:  91166.02958921483\n"
     ]
    }
   ],
   "source": [
    "# Light GBM\n",
    "filename = 'models/soldprice/data_models/mf_price_zillow-redfin_LGBM.pkl'\n",
    "params = {'num_leaves': [30, 100, 200], \n",
    "          'max_depth':[-1, 16, 32, 64], \n",
    "          'learning_rate':[0.01, 0.1, 1], \n",
    "          'n_estimators':[128, 256, 512]\n",
    "         }\n",
    "\n",
    "print(\"Light GBM model: \")\n",
    "# t0 = time.time()\n",
    "\n",
    "# model\n",
    "# model = model = LGBMRegressor(random_state=9001)\n",
    "# grid = GridSearchCV(model, params, verbose=1, n_jobs=-1)\n",
    "\n",
    "# train and save model\n",
    "# utils.train_save_model(model, X=train_features, y=y_train, filename=filename)\n",
    "# print(\"training time: \", time.time()-t0)\n",
    "\n",
    "# load savced model and evaluate model performance\n",
    "utils.load_eval_model(filename=filename, X_train=train_features, X_val=val_features, y_train=y_train, y_val=y_val)"
   ]
  },
  {
   "cell_type": "markdown",
   "metadata": {},
   "source": [
    "### Test-Train Split, Response = 'DOM'"
   ]
  },
  {
   "cell_type": "code",
   "execution_count": 21,
   "metadata": {},
   "outputs": [
    {
     "name": "stdout",
     "output_type": "stream",
     "text": [
      "Number of features from zillow:  10\n",
      "Number of features from redfin:  20\n",
      "Number of features from images:  2048\n",
      "Number of features from remarks:  20\n",
      "Number of training samples:  11965\n",
      "Number of validation samples:  1330\n"
     ]
    }
   ],
   "source": [
    "response_col = 'DOM'\n",
    "test_size = 0.1\n",
    "random_state = 9001\n",
    "\n",
    "# read in data \n",
    "df = utils.read_preprocess_df(data_filename, response_col=response_col)\n",
    "\n",
    "# test train split\n",
    "X_train_dict, X_val_dict, y_train, y_val = utils.split_normalize_df(df=df, response_col=response_col, test_size=test_size, random_state=random_state)"
   ]
  },
  {
   "cell_type": "markdown",
   "metadata": {},
   "source": [
    "### Train models"
   ]
  },
  {
   "cell_type": "code",
   "execution_count": 22,
   "metadata": {},
   "outputs": [
    {
     "name": "stdout",
     "output_type": "stream",
     "text": [
      "Ridge model: \n",
      "training time:  0.10653996467590332\n",
      "best alpha:  1.5\n",
      "----- Training scores -----\n",
      "R2 on log scale:  0.05096114416778208\n",
      "MAE on log scale:  0.20394676057522335\n",
      "MAE on original $ scale:  0.7484476129422661\n",
      "----- Validation scores -----\n",
      "R2 on log scale:  0.056166591716771186\n",
      "MAE on log scale:  0.20408252074843689\n",
      "MAE on original $ scale:  0.750006292696872\n"
     ]
    }
   ],
   "source": [
    "# Ridge\n",
    "filename = 'models/dom/data_models/mf_dom_zillow-redfin_ridge.pkl'\n",
    "\n",
    "print(\"Ridge model: \")\n",
    "t0 = time.time()\n",
    "\n",
    "# train and save model\n",
    "model = RidgeCV(alphas=(0.5, 1, 1.5, 2, 2.5, 3, 3.5, 4))\n",
    "utils.train_save_model(model, X=train_features, y=y_train, filename=filename)\n",
    "print(\"training time: \", time.time()-t0)\n",
    "\n",
    "# load savced model and evaluate model performance\n",
    "utils.load_eval_model(filename=filename, X_train=train_features, X_val=val_features, y_train=y_train, y_val=y_val)"
   ]
  },
  {
   "cell_type": "code",
   "execution_count": 27,
   "metadata": {},
   "outputs": [
    {
     "name": "stdout",
     "output_type": "stream",
     "text": [
      "XGBoost model: \n",
      "Fitting 3 folds for each of 45 candidates, totalling 135 fits\n"
     ]
    },
    {
     "name": "stderr",
     "output_type": "stream",
     "text": [
      "[Parallel(n_jobs=-1)]: Done  34 tasks      | elapsed:   33.9s\n",
      "[Parallel(n_jobs=-1)]: Done 135 out of 135 | elapsed:  2.3min finished\n"
     ]
    },
    {
     "name": "stdout",
     "output_type": "stream",
     "text": [
      "training time:  142.94370102882385\n",
      "XGBRegressor(base_score=0.5, booster='gbtree', colsample_bylevel=1,\n",
      "       colsample_bytree=1, gamma=0.2, learning_rate=0.1, max_delta_step=0,\n",
      "       max_depth=17, min_child_weight=1, missing=nan, n_estimators=100,\n",
      "       n_jobs=1, nthread=None, objective='reg:linear', random_seed=9001,\n",
      "       random_state=0, reg_alpha=10, reg_lambda=1, scale_pos_weight=1,\n",
      "       seed=None, silent=True, subsample=1)\n",
      "----- Training scores -----\n",
      "R2 on log scale:  0.127076427344058\n",
      "MAE on log scale:  0.1951283940892945\n",
      "MAE on original $ scale:  0.7163421743382833\n",
      "----- Validation scores -----\n",
      "R2 on log scale:  0.09335287704717898\n",
      "MAE on log scale:  0.19958877655409699\n",
      "MAE on original $ scale:  0.7333152267167388\n"
     ]
    }
   ],
   "source": [
    "# XGBoost\n",
    "filename = 'models/dom/data_models/mf_dom_zillow-redfin_XGBoost.pkl'\n",
    "params = {\n",
    "    'max_depth':range(13,22,2),\n",
    "    'gamma':[i/10.0 for i in range(0,3)],\n",
    "    'reg_alpha':[1, 10, 15]\n",
    "}\n",
    "\n",
    "print(\"XGBoost model: \")\n",
    "t0 = time.time()\n",
    "\n",
    "# model\n",
    "model = XGBRegressor(random_seed=9001)\n",
    "grid = GridSearchCV(model, params, verbose=1, n_jobs=-1)\n",
    "\n",
    "# train and save model\n",
    "utils.train_save_model(grid, X=train_features, y=y_train, filename=filename)\n",
    "print(\"training time: \", time.time()-t0)\n",
    "\n",
    "# load savced model and evaluate model performance\n",
    "utils.load_eval_model(filename=filename, X_train=train_features, X_val=val_features, y_train=y_train, y_val=y_val)"
   ]
  },
  {
   "cell_type": "code",
   "execution_count": 26,
   "metadata": {},
   "outputs": [
    {
     "name": "stdout",
     "output_type": "stream",
     "text": [
      "Light GBM model: \n",
      "Fitting 3 folds for each of 108 candidates, totalling 324 fits\n"
     ]
    },
    {
     "name": "stderr",
     "output_type": "stream",
     "text": [
      "[Parallel(n_jobs=-1)]: Done  34 tasks      | elapsed:  3.2min\n",
      "[Parallel(n_jobs=-1)]: Done 184 tasks      | elapsed: 20.1min\n",
      "[Parallel(n_jobs=-1)]: Done 324 out of 324 | elapsed: 34.8min finished\n"
     ]
    },
    {
     "name": "stdout",
     "output_type": "stream",
     "text": [
      "training time:  2091.482544183731\n",
      "LGBMRegressor(boosting_type='gbdt', class_weight=None, colsample_bytree=1.0,\n",
      "       learning_rate=0.01, max_depth=8, min_child_samples=20,\n",
      "       min_child_weight=0.001, min_split_gain=0.0, n_estimators=256,\n",
      "       n_jobs=-1, num_leaves=30, objective=None, random_state=9001,\n",
      "       reg_alpha=0.0, reg_lambda=0.0, silent=True, subsample=1.0,\n",
      "       subsample_for_bin=200000, subsample_freq=1)\n",
      "----- Training scores -----\n",
      "R2 on log scale:  0.15583573819524577\n",
      "MAE on log scale:  0.19176706626067455\n",
      "MAE on original $ scale:  0.7031587964246946\n",
      "----- Validation scores -----\n",
      "R2 on log scale:  0.09327083797444657\n",
      "MAE on log scale:  0.20005387893895954\n",
      "MAE on original $ scale:  0.7350927332839327\n"
     ]
    }
   ],
   "source": [
    "# Light GBM\n",
    "filename = 'models/dom/data_models/mf_dom_zillow-redfin_LGBM.pkl'\n",
    "params = {'num_leaves': [15, 30, 100], \n",
    "          'max_depth':[-1, 8, 16, 32], \n",
    "          'learning_rate':[0.001, 0.01, 0.1], \n",
    "          'n_estimators':[128, 256, 512]\n",
    "         }\n",
    "\n",
    "print(\"Light GBM model: \")\n",
    "t0 = time.time()\n",
    "\n",
    "# model\n",
    "model = model = LGBMRegressor(random_state=9001)\n",
    "grid = GridSearchCV(model, params, verbose=1, n_jobs=-1)\n",
    "\n",
    "# train and save model\n",
    "utils.train_save_model(grid, X=train_features, y=y_train, filename=filename)\n",
    "print(\"training time: \", time.time()-t0)\n",
    "\n",
    "# load savced model and evaluate model performance\n",
    "utils.load_eval_model(filename=filename, X_train=train_features, X_val=val_features, y_train=y_train, y_val=y_val)"
   ]
  },
  {
   "cell_type": "code",
   "execution_count": null,
   "metadata": {},
   "outputs": [],
   "source": []
  },
  {
   "cell_type": "code",
   "execution_count": null,
   "metadata": {},
   "outputs": [],
   "source": []
  }
 ],
 "metadata": {
  "kernelspec": {
   "display_name": "Python 3",
   "language": "python",
   "name": "python3"
  },
  "language_info": {
   "codemirror_mode": {
    "name": "ipython",
    "version": 3
   },
   "file_extension": ".py",
   "mimetype": "text/x-python",
   "name": "python",
   "nbconvert_exporter": "python",
   "pygments_lexer": "ipython3",
   "version": "3.6.4"
  }
 },
 "nbformat": 4,
 "nbformat_minor": 2
}

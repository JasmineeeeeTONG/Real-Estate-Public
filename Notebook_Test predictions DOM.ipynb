{
 "cells": [
  {
   "cell_type": "code",
   "execution_count": 1,
   "metadata": {},
   "outputs": [
    {
     "name": "stderr",
     "output_type": "stream",
     "text": [
      "/anaconda3/lib/python3.6/site-packages/h5py/__init__.py:36: FutureWarning: Conversion of the second argument of issubdtype from `float` to `np.floating` is deprecated. In future, it will be treated as `np.float64 == np.dtype(float).type`.\n",
      "  from ._conv import register_converters as _register_converters\n",
      "Using TensorFlow backend.\n"
     ]
    }
   ],
   "source": [
    "import time\n",
    "import pandas as pd\n",
    "import numpy as np\n",
    "\n",
    "from lightgbm import LGBMRegressor\n",
    "from xgboost import XGBRegressor\n",
    "from sklearn.linear_model import RidgeCV\n",
    "from sklearn.linear_model import LinearRegression\n",
    "from sklearn.linear_model import LassoCV\n",
    "from sklearn import svm\n",
    "from sklearn.neighbors import KNeighborsRegressor\n",
    "from sklearn.model_selection import GridSearchCV\n",
    "\n",
    "import keras\n",
    "from keras.wrappers.scikit_learn import KerasRegressor\n",
    "from keras.models import Sequential\n",
    "from keras.layers import Dense, Activation\n",
    "from keras.optimizers import SGD, Adam\n",
    "from keras.models import load_model\n",
    "\n",
    "from sklearn.preprocessing import MinMaxScaler\n",
    "from sklearn.model_selection import train_test_split\n",
    "from sklearn.metrics import r2_score\n",
    "from sklearn.metrics import mean_squared_error\n",
    "\n",
    "import pickle\n",
    "import re\n",
    "from sklearn.externals import joblib\n",
    "import warnings\n",
    "warnings.filterwarnings(\"ignore\")\n",
    "\n",
    "import matplotlib.pyplot as plt\n",
    "import seaborn as sns\n",
    "%matplotlib inline\n",
    "\n",
    "import src.utils as utils"
   ]
  },
  {
   "cell_type": "markdown",
   "metadata": {},
   "source": [
    "# Condos"
   ]
  },
  {
   "cell_type": "code",
   "execution_count": 2,
   "metadata": {},
   "outputs": [
    {
     "name": "stdout",
     "output_type": "stream",
     "text": [
      "Number of features from zillow:  10\n",
      "Number of features from redfin:  20\n",
      "Number of features from images:  2048\n",
      "Number of features from remarks:  20\n",
      "Number of training samples:  36842\n",
      "Number of test samples:  3563\n"
     ]
    }
   ],
   "source": [
    "# Condos\n",
    "train_data_filename = 'data/features/TRAIN_CON.pkl'\n",
    "test_data_filename = 'data/features/TEST_CON.pkl'\n",
    "\n",
    "response_col = 'DOM'\n",
    "val_size = 0.1\n",
    "random_state = 9001\n",
    "\n",
    "# read in data \n",
    "train_df = utils.read_preprocess_df(train_data_filename, response_col=response_col)\n",
    "test_df = utils.read_preprocess_df(test_data_filename, response_col=response_col, print_info=False)\n",
    "\n",
    "# process test data\n",
    "X_train_dict, X_test_dict, y_train, y_test = utils.process_test_data(test_df, train_df, response_col, val_size, random_state)"
   ]
  },
  {
   "cell_type": "markdown",
   "metadata": {},
   "source": [
    "## Zillow "
   ]
  },
  {
   "cell_type": "code",
   "execution_count": 3,
   "metadata": {},
   "outputs": [
    {
     "name": "stdout",
     "output_type": "stream",
     "text": [
      "LinearRegression(copy_X=True, fit_intercept=True, n_jobs=1, normalize=False)\n",
      "----- Training scores -----\n",
      "R2 on log log scale:  0.3398477624325116\n",
      "MAE on log log scale:  0.16781279992242848\n",
      "MAE on original scale:  0.5956409192537575\n",
      "----- Test scores -----\n",
      "R2 on log log scale:  -0.028729719213153704\n",
      "MAE on log log scale:  0.21744430375541943\n",
      "MAE on original scale:  0.7703313062629066\n"
     ]
    }
   ],
   "source": [
    "# zillow models\n",
    "train_features = X_train_dict['zillow']\n",
    "test_features = X_test_dict['zillow']\n",
    "\n",
    "# model file names\n",
    "ridge = 'models/dom/data_models/condo_dom_zillow_ridge.pkl'\n",
    "xgboost = 'models/dom/data_models/condo_dom_zillow_XGBoost.pkl'\n",
    "lgbm = 'models/dom/data_models/condo_dom_zillow_LGBM.pkl'\n",
    "\n",
    "model_filenames = [ridge, xgboost, lgbm]\n",
    "\n",
    "new_train_features = utils.generate_ensemble_features(model_filenames, train_features)\n",
    "new_test_features = utils.generate_ensemble_features(model_filenames, test_features)\n",
    "\n",
    "# load savced model and evaluate model performance\n",
    "ensemble_model_filename = 'models/dom/ensemble_models/condo_dom_zillow.pkl'\n",
    "utils.load_eval_model(filename=ensemble_model_filename, X_train=new_train_features, X_val=new_test_features, y_train=y_train, y_val=y_test, val_set='Test')\n"
   ]
  },
  {
   "cell_type": "markdown",
   "metadata": {},
   "source": [
    "## Zillow + Redfin"
   ]
  },
  {
   "cell_type": "code",
   "execution_count": 4,
   "metadata": {},
   "outputs": [
    {
     "name": "stdout",
     "output_type": "stream",
     "text": [
      "LinearRegression(copy_X=True, fit_intercept=True, n_jobs=1, normalize=False)\n",
      "----- Training scores -----\n",
      "R2 on log log scale:  0.5286715397347033\n",
      "MAE on log log scale:  0.14139525205668996\n",
      "MAE on original scale:  0.5019954432545306\n",
      "----- Test scores -----\n",
      "R2 on log log scale:  -0.014445607769800528\n",
      "MAE on log log scale:  0.2159311428438548\n",
      "MAE on original scale:  0.7653476137033777\n"
     ]
    }
   ],
   "source": [
    "# zillow + redfin models\n",
    "train_features = X_train_dict['zillow_redfin']\n",
    "test_features = X_test_dict['zillow_redfin']\n",
    "\n",
    "# model file names\n",
    "ridge = 'models/dom/data_models/condo_dom_zillow-redfin_ridge.pkl'\n",
    "xgboost = 'models/dom/data_models/condo_dom_zillow-redfin_XGBoost.pkl'\n",
    "lgbm = 'models/dom/data_models/condo_dom_zillow-redfin_LGBM.pkl'\n",
    "\n",
    "model_filenames = [ridge, xgboost, lgbm]\n",
    "\n",
    "new_train_features = utils.generate_ensemble_features(model_filenames, train_features)\n",
    "new_test_features = utils.generate_ensemble_features(model_filenames, test_features)\n",
    "\n",
    "# load savced model and evaluate model performance\n",
    "ensemble_model_filename = 'models/dom/ensemble_models/condo_dom_zillow-redfin.pkl'\n",
    "utils.load_eval_model(filename=ensemble_model_filename, X_train=new_train_features, X_val=new_test_features, y_train=y_train, y_val=y_test, val_set='Test')"
   ]
  },
  {
   "cell_type": "markdown",
   "metadata": {},
   "source": [
    "## Zillow + Redfin / Images"
   ]
  },
  {
   "cell_type": "code",
   "execution_count": 5,
   "metadata": {},
   "outputs": [
    {
     "name": "stdout",
     "output_type": "stream",
     "text": [
      "LinearRegression(copy_X=True, fit_intercept=True, n_jobs=1, normalize=False)\n",
      "----- Training scores -----\n",
      "R2 on log log scale:  0.7484467384102397\n",
      "MAE on log log scale:  0.09753184158898864\n",
      "MAE on original scale:  0.35225254933680317\n",
      "----- Test scores -----\n",
      "R2 on log log scale:  0.031166037106677313\n",
      "MAE on log log scale:  0.2119237375683688\n",
      "MAE on original scale:  0.7510986413677274\n"
     ]
    }
   ],
   "source": [
    "# zillow + redfin models\n",
    "train_features = X_train_dict['zillow_redfin']\n",
    "test_features = X_test_dict['zillow_redfin']\n",
    "\n",
    "# model file names\n",
    "ridge = 'models/dom/data_models/condo_dom_zillow-redfin_ridge.pkl'\n",
    "xgboost = 'models/dom/data_models/condo_dom_zillow-redfin_XGBoost.pkl'\n",
    "lgbm = 'models/dom/data_models/condo_dom_zillow-redfin_LGBM.pkl'\n",
    "\n",
    "model_filenames = [ridge, xgboost, lgbm]\n",
    "\n",
    "X_train_zilred = utils.generate_ensemble_features(model_filenames, train_features)\n",
    "X_test_zilred = utils.generate_ensemble_features(model_filenames, test_features)\n",
    "\n",
    "# image models\n",
    "train_features = X_train_dict['img']\n",
    "test_features = X_test_dict['img']\n",
    "\n",
    "# model file names\n",
    "img_ridge = 'models/dom/image_models/condo_dom_img_ridge.pkl'\n",
    "img_lgbm = 'models/dom/image_models/condo_dom_img_LGBM.pkl'\n",
    "img_nn = 'models/dom/image_models/condo_dom_img_nn.h5'\n",
    "\n",
    "img_model_filenames = [img_ridge, img_lgbm, img_nn]\n",
    "\n",
    "X_train_img = utils.generate_ensemble_features(img_model_filenames, train_features)\n",
    "X_test_img = utils.generate_ensemble_features(img_model_filenames, test_features)\n",
    "\n",
    "new_train_features = pd.concat([X_train_zilred, X_train_img], axis=1)\n",
    "new_test_features = pd.concat([X_test_zilred, X_test_img], axis=1)\n",
    "\n",
    "# load savced model and evaluate model performance\n",
    "ensemble_model_filename = 'models/dom/ensemble_models/condo_dom_zillow-redfin_img.pkl'\n",
    "utils.load_eval_model(filename=ensemble_model_filename, X_train=new_train_features, X_val=new_test_features, y_train=y_train, y_val=y_test, val_set='Test')\n"
   ]
  },
  {
   "cell_type": "markdown",
   "metadata": {},
   "source": [
    "## Zillow + Remarks"
   ]
  },
  {
   "cell_type": "code",
   "execution_count": 6,
   "metadata": {},
   "outputs": [
    {
     "name": "stdout",
     "output_type": "stream",
     "text": [
      "LinearRegression(copy_X=True, fit_intercept=True, n_jobs=1, normalize=False)\n",
      "----- Training scores -----\n",
      "R2 on log log scale:  0.5069212335582984\n",
      "MAE on log log scale:  0.14356732597774535\n",
      "MAE on original scale:  0.5085166266604516\n",
      "----- Test scores -----\n",
      "R2 on log log scale:  0.020320638705354388\n",
      "MAE on log log scale:  0.20958950332203907\n",
      "MAE on original scale:  0.7431651858413999\n"
     ]
    }
   ],
   "source": [
    "# zillow + redfin models\n",
    "train_features = X_train_dict['zillow_remarks']\n",
    "test_features = X_test_dict['zillow_remarks']\n",
    "\n",
    "# model file names\n",
    "ridge = 'models/dom/data_models/condo_dom_zillow-remarks_ridge.pkl'\n",
    "xgboost = 'models/dom/data_models/condo_dom_zillow-remarks_XGBoost.pkl'\n",
    "lgbm = 'models/dom/data_models/condo_dom_zillow-remarks_LGBM.pkl'\n",
    "\n",
    "model_filenames = [ridge, xgboost, lgbm]\n",
    "\n",
    "new_train_features = utils.generate_ensemble_features(model_filenames, train_features)\n",
    "new_test_features = utils.generate_ensemble_features(model_filenames, test_features)\n",
    "\n",
    "# load savced model and evaluate model performance\n",
    "ensemble_model_filename = 'models/dom/ensemble_models/condo_dom_zillow-remarks.pkl'\n",
    "utils.load_eval_model(filename=ensemble_model_filename, X_train=new_train_features, X_val=new_test_features, y_train=y_train, y_val=y_test, val_set='Test')"
   ]
  },
  {
   "cell_type": "markdown",
   "metadata": {},
   "source": [
    "## Zillow + Redfin + Remarks"
   ]
  },
  {
   "cell_type": "code",
   "execution_count": 7,
   "metadata": {
    "scrolled": true
   },
   "outputs": [
    {
     "name": "stdout",
     "output_type": "stream",
     "text": [
      "LinearRegression(copy_X=True, fit_intercept=True, n_jobs=1, normalize=False)\n",
      "----- Training scores -----\n",
      "R2 on log log scale:  0.5859737985531802\n",
      "MAE on log log scale:  0.13104493870701325\n",
      "MAE on original scale:  0.4642343678928489\n",
      "----- Test scores -----\n",
      "R2 on log log scale:  0.06423103744671577\n",
      "MAE on log log scale:  0.20538882051288931\n",
      "MAE on original scale:  0.7278025406301263\n"
     ]
    }
   ],
   "source": [
    "# zillow + redfin models\n",
    "train_features = X_train_dict['zillow_redfin_remarks']\n",
    "test_features = X_test_dict['zillow_redfin_remarks']\n",
    "\n",
    "# model file names\n",
    "ridge = 'models/dom/data_models/condo_dom_zillow-redfin-remarks_ridge.pkl'\n",
    "xgboost = 'models/dom/data_models/condo_dom_zillow-redfin-remarks_XGBoost.pkl'\n",
    "lgbm = 'models/dom/data_models/condo_dom_zillow-redfin-remarks_LGBM.pkl'\n",
    "\n",
    "model_filenames = [ridge, xgboost, lgbm]\n",
    "\n",
    "new_train_features = utils.generate_ensemble_features(model_filenames, train_features)\n",
    "new_test_features = utils.generate_ensemble_features(model_filenames, test_features)\n",
    "\n",
    "# load savced model and evaluate model performance\n",
    "ensemble_model_filename = 'models/dom/ensemble_models/condo_dom_zillow-redfin-remarks.pkl'\n",
    "utils.load_eval_model(filename=ensemble_model_filename, X_train=new_train_features, X_val=new_test_features, y_train=y_train, y_val=y_test, val_set='Test')"
   ]
  },
  {
   "cell_type": "markdown",
   "metadata": {},
   "source": [
    "## Zillow + Redfin + Remarks / Images"
   ]
  },
  {
   "cell_type": "code",
   "execution_count": 8,
   "metadata": {},
   "outputs": [
    {
     "name": "stdout",
     "output_type": "stream",
     "text": [
      "LinearRegression(copy_X=True, fit_intercept=True, n_jobs=1, normalize=False)\n",
      "----- Training scores -----\n",
      "R2 on log log scale:  0.7631986879665615\n",
      "MAE on log log scale:  0.09505704770325671\n",
      "MAE on original scale:  0.34224102371289283\n",
      "----- Test scores -----\n",
      "R2 on log log scale:  0.06130265742469787\n",
      "MAE on log log scale:  0.20742324349228675\n",
      "MAE on original scale:  0.7348165424580724\n"
     ]
    }
   ],
   "source": [
    "# zillow + redfin models\n",
    "train_features = X_train_dict['zillow_redfin_remarks']\n",
    "test_features = X_test_dict['zillow_redfin_remarks']\n",
    "\n",
    "# model file names\n",
    "ridge = 'models/dom/data_models/condo_dom_zillow-redfin-remarks_ridge.pkl'\n",
    "xgboost = 'models/dom/data_models/condo_dom_zillow-redfin-remarks_XGBoost.pkl'\n",
    "lgbm = 'models/dom/data_models/condo_dom_zillow-redfin-remarks_LGBM.pkl'\n",
    "\n",
    "model_filenames = [ridge, xgboost, lgbm]\n",
    "\n",
    "X_train_zilredrmk = utils.generate_ensemble_features(model_filenames, train_features)\n",
    "X_test_zilredrmk = utils.generate_ensemble_features(model_filenames, test_features)\n",
    "\n",
    "# image models\n",
    "train_features = X_train_dict['img']\n",
    "test_features = X_test_dict['img']\n",
    "\n",
    "# model file names\n",
    "img_ridge = 'models/dom/image_models/condo_dom_img_ridge.pkl'\n",
    "img_lgbm = 'models/dom/image_models/condo_dom_img_LGBM.pkl'\n",
    "img_nn = 'models/dom/image_models/condo_dom_img_nn.h5'\n",
    "\n",
    "img_model_filenames = [img_ridge, img_lgbm, img_nn]\n",
    "\n",
    "X_train_img = utils.generate_ensemble_features(img_model_filenames, train_features)\n",
    "X_test_img = utils.generate_ensemble_features(img_model_filenames, test_features)\n",
    "\n",
    "\n",
    "new_train_features = pd.concat([X_train_zilredrmk, X_train_img], axis=1)\n",
    "new_test_features = pd.concat([X_test_zilredrmk, X_test_img], axis=1)\n",
    "\n",
    "# load savced model and evaluate model performance\n",
    "ensemble_model_filename = 'models/dom/ensemble_models/condo_dom_zillow-redfin-remarks_img.pkl'\n",
    "utils.load_eval_model(filename=ensemble_model_filename, X_train=new_train_features, X_val=new_test_features, y_train=y_train, y_val=y_test, val_set='Test')"
   ]
  },
  {
   "cell_type": "markdown",
   "metadata": {},
   "source": [
    "# Multi Families"
   ]
  },
  {
   "cell_type": "code",
   "execution_count": 9,
   "metadata": {},
   "outputs": [
    {
     "name": "stdout",
     "output_type": "stream",
     "text": [
      "Number of features from zillow:  10\n",
      "Number of features from redfin:  20\n",
      "Number of features from images:  2048\n",
      "Number of features from remarks:  20\n",
      "Number of training samples:  11965\n",
      "Number of test samples:  1324\n"
     ]
    }
   ],
   "source": [
    "# Condos\n",
    "train_data_filename = 'data/features/TRAIN_MF.pkl'\n",
    "test_data_filename = 'data/features/TEST_MF.pkl'\n",
    "\n",
    "response_col = 'DOM'\n",
    "val_size = 0.1\n",
    "random_state = 9001\n",
    "\n",
    "# read in data \n",
    "train_df = utils.read_preprocess_df(train_data_filename, response_col=response_col)\n",
    "test_df = utils.read_preprocess_df(test_data_filename, response_col=response_col, print_info=False)\n",
    "\n",
    "# process test data\n",
    "X_train_dict, X_test_dict, y_train, y_test = utils.process_test_data(test_df, train_df, response_col, val_size, random_state)"
   ]
  },
  {
   "cell_type": "markdown",
   "metadata": {},
   "source": [
    "## Zillow"
   ]
  },
  {
   "cell_type": "code",
   "execution_count": 10,
   "metadata": {},
   "outputs": [
    {
     "name": "stdout",
     "output_type": "stream",
     "text": [
      "LinearRegression(copy_X=True, fit_intercept=True, n_jobs=1, normalize=False)\n",
      "----- Training scores -----\n",
      "R2 on log log scale:  0.13444073263721212\n",
      "MAE on log log scale:  0.19368852352255275\n",
      "MAE on original scale:  0.7096305342863652\n",
      "----- Test scores -----\n",
      "R2 on log log scale:  -0.053182911076012696\n",
      "MAE on log log scale:  0.19060219534339531\n",
      "MAE on original scale:  0.6878817885697619\n"
     ]
    }
   ],
   "source": [
    "# zillow models\n",
    "train_features = X_train_dict['zillow']\n",
    "test_features = X_test_dict['zillow']\n",
    "\n",
    "# model file names\n",
    "ridge = 'models/dom/data_models/mf_dom_zillow_ridge.pkl'\n",
    "xgboost = 'models/dom/data_models/mf_dom_zillow_XGBoost.pkl'\n",
    "lgbm = 'models/dom/data_models/mf_dom_zillow_LGBM.pkl'\n",
    "\n",
    "model_filenames = [ridge, xgboost, lgbm]\n",
    "\n",
    "new_train_features = utils.generate_ensemble_features(model_filenames, train_features)\n",
    "new_test_features = utils.generate_ensemble_features(model_filenames, test_features)\n",
    "\n",
    "# load savced model and evaluate model performance\n",
    "ensemble_model_filename = 'models/dom/ensemble_models/mf_dom_zillow.pkl'\n",
    "utils.load_eval_model(filename=ensemble_model_filename, X_train=new_train_features, X_val=new_test_features, y_train=y_train, y_val=y_test, val_set='Test')"
   ]
  },
  {
   "cell_type": "markdown",
   "metadata": {},
   "source": [
    "## Zillow + Redfin"
   ]
  },
  {
   "cell_type": "code",
   "execution_count": 11,
   "metadata": {},
   "outputs": [
    {
     "name": "stdout",
     "output_type": "stream",
     "text": [
      "LinearRegression(copy_X=True, fit_intercept=True, n_jobs=1, normalize=False)\n",
      "----- Training scores -----\n",
      "R2 on log log scale:  0.20592303571762505\n",
      "MAE on log log scale:  0.18463802810563487\n",
      "MAE on original scale:  0.6753947697595227\n",
      "----- Test scores -----\n",
      "R2 on log log scale:  -0.13146675608212166\n",
      "MAE on log log scale:  0.1978789690549227\n",
      "MAE on original scale:  0.7201404880514913\n"
     ]
    }
   ],
   "source": [
    "# zillow + redfin models\n",
    "train_features = X_train_dict['zillow_redfin']\n",
    "test_features = X_test_dict['zillow_redfin']\n",
    "\n",
    "# model file names\n",
    "ridge = 'models/dom/data_models/mf_dom_zillow-redfin_ridge.pkl'\n",
    "xgboost = 'models/dom/data_models/mf_dom_zillow-redfin_XGBoost.pkl'\n",
    "lgbm = 'models/dom/data_models/mf_dom_zillow-redfin_LGBM.pkl'\n",
    "\n",
    "model_filenames = [ridge, xgboost, lgbm]\n",
    "\n",
    "new_train_features = utils.generate_ensemble_features(model_filenames, train_features)\n",
    "new_test_features = utils.generate_ensemble_features(model_filenames, test_features)\n",
    "\n",
    "# load savced model and evaluate model performance\n",
    "ensemble_model_filename = 'models/dom/ensemble_models/mf_dom_zillow-redfin.pkl'\n",
    "utils.load_eval_model(filename=ensemble_model_filename, X_train=new_train_features, X_val=new_test_features, y_train=y_train, y_val=y_test, val_set='Test')"
   ]
  },
  {
   "cell_type": "markdown",
   "metadata": {},
   "source": [
    "## Zillow + Redfin / Images"
   ]
  },
  {
   "cell_type": "code",
   "execution_count": 12,
   "metadata": {},
   "outputs": [
    {
     "name": "stdout",
     "output_type": "stream",
     "text": [
      "LinearRegression(copy_X=True, fit_intercept=True, n_jobs=1, normalize=False)\n",
      "----- Training scores -----\n",
      "R2 on log log scale:  0.7527477597380803\n",
      "MAE on log log scale:  0.08718618176543402\n",
      "MAE on original scale:  0.3254538419079815\n",
      "----- Test scores -----\n",
      "R2 on log log scale:  -0.13327521722096836\n",
      "MAE on log log scale:  0.19828243644286822\n",
      "MAE on original scale:  0.712999517913087\n"
     ]
    }
   ],
   "source": [
    "# zillow + redfin models\n",
    "train_features = X_train_dict['zillow_redfin']\n",
    "test_features = X_test_dict['zillow_redfin']\n",
    "\n",
    "# model file names\n",
    "ridge = 'models/dom/data_models/mf_dom_zillow-redfin_ridge.pkl'\n",
    "xgboost = 'models/dom/data_models/mf_dom_zillow-redfin_XGBoost.pkl'\n",
    "lgbm = 'models/dom/data_models/mf_dom_zillow-redfin_LGBM.pkl'\n",
    "\n",
    "model_filenames = [ridge, xgboost, lgbm]\n",
    "\n",
    "X_train_zilred = utils.generate_ensemble_features(model_filenames, train_features)\n",
    "X_test_zilred = utils.generate_ensemble_features(model_filenames, test_features)\n",
    "\n",
    "# image models\n",
    "train_features = X_train_dict['img']\n",
    "test_features = X_test_dict['img']\n",
    "\n",
    "# model file names\n",
    "img_ridge = 'models/dom/image_models/mf_dom_img_ridge.pkl'\n",
    "img_lgbm = 'models/dom/image_models/mf_dom_img_LGBM.pkl'\n",
    "img_nn = 'models/dom/image_models/mf_dom_img_nn.h5'\n",
    "\n",
    "img_model_filenames = [img_ridge, img_lgbm, img_nn]\n",
    "\n",
    "X_train_img = utils.generate_ensemble_features(img_model_filenames, train_features)\n",
    "X_test_img = utils.generate_ensemble_features(img_model_filenames, test_features)\n",
    "\n",
    "new_train_features = pd.concat([X_train_zilred, X_train_img], axis=1)\n",
    "new_test_features = pd.concat([X_test_zilred, X_test_img], axis=1)\n",
    "\n",
    "# load savced model and evaluate model performance\n",
    "ensemble_model_filename = 'models/dom/ensemble_models/mf_dom_zillow-redfin_img.pkl'\n",
    "utils.load_eval_model(filename=ensemble_model_filename, X_train=new_train_features, X_val=new_test_features, y_train=y_train, y_val=y_test, val_set='Test')"
   ]
  },
  {
   "cell_type": "markdown",
   "metadata": {},
   "source": [
    "## Zillow + Remarks"
   ]
  },
  {
   "cell_type": "code",
   "execution_count": 13,
   "metadata": {},
   "outputs": [
    {
     "name": "stdout",
     "output_type": "stream",
     "text": [
      "LinearRegression(copy_X=True, fit_intercept=True, n_jobs=1, normalize=False)\n",
      "----- Training scores -----\n",
      "R2 on log log scale:  0.21940038250998217\n",
      "MAE on log log scale:  0.18338606488112816\n",
      "MAE on original scale:  0.6718662450228235\n",
      "----- Test scores -----\n",
      "R2 on log log scale:  -0.08691592920004432\n",
      "MAE on log log scale:  0.19279030221937335\n",
      "MAE on original scale:  0.6968939172695326\n"
     ]
    }
   ],
   "source": [
    "# zillow  models\n",
    "train_features = X_train_dict['zillow_remarks']\n",
    "test_features = X_test_dict['zillow_remarks']\n",
    "\n",
    "# model file names\n",
    "ridge = 'models/dom/data_models/mf_dom_zillow-remarks_ridge.pkl'\n",
    "xgboost = 'models/dom/data_models/mf_dom_zillow-remarks_XGBoost.pkl'\n",
    "lgbm = 'models/dom/data_models/mf_dom_zillow-remarks_LGBM.pkl'\n",
    "\n",
    "model_filenames = [ridge, xgboost, lgbm]\n",
    "\n",
    "new_train_features = utils.generate_ensemble_features(model_filenames, train_features)\n",
    "new_test_features = utils.generate_ensemble_features(model_filenames, test_features)\n",
    "\n",
    "# load savced model and evaluate model performance\n",
    "ensemble_model_filename = 'models/dom/ensemble_models/mf_dom_zillow-remarks.pkl'\n",
    "utils.load_eval_model(filename=ensemble_model_filename, X_train=new_train_features, X_val=new_test_features, y_train=y_train, y_val=y_test, val_set='Test')"
   ]
  },
  {
   "cell_type": "markdown",
   "metadata": {},
   "source": [
    "## Zillow + Redfin + Remarks"
   ]
  },
  {
   "cell_type": "code",
   "execution_count": 14,
   "metadata": {
    "scrolled": true
   },
   "outputs": [
    {
     "name": "stdout",
     "output_type": "stream",
     "text": [
      "LinearRegression(copy_X=True, fit_intercept=True, n_jobs=1, normalize=False)\n",
      "----- Training scores -----\n",
      "R2 on log log scale:  0.3557079085547513\n",
      "MAE on log log scale:  0.16619164440274772\n",
      "MAE on original scale:  0.6092872011232693\n",
      "----- Validation scores -----\n",
      "R2 on log log scale:  -0.18389444949267975\n",
      "MAE on log log scale:  0.20209471594920647\n",
      "MAE on original scale:  0.7342074219443181\n"
     ]
    }
   ],
   "source": [
    "# zillow + redfin models\n",
    "train_features = X_train_dict['zillow_redfin_remarks']\n",
    "test_features = X_test_dict['zillow_redfin_remarks']\n",
    "\n",
    "# model file names\n",
    "ridge = 'models/dom/data_models/mf_dom_zillow-redfin-remarks_ridge.pkl'\n",
    "xgboost = 'models/dom/data_models/mf_dom_zillow-redfin-remarks_XGBoost.pkl'\n",
    "lgbm = 'models/dom/data_models/mf_dom_zillow-redfin-remarks_LGBM.pkl'\n",
    "\n",
    "model_filenames = [ridge, xgboost, lgbm]\n",
    "\n",
    "new_train_features = utils.generate_ensemble_features(model_filenames, train_features)\n",
    "new_test_features = utils.generate_ensemble_features(model_filenames, test_features)\n",
    "\n",
    "# load savced model and evaluate model performance\n",
    "ensemble_model_filename = 'models/dom/ensemble_models/mf_dom_zillow-redfin-remarks.pkl'\n",
    "utils.load_eval_model(filename=ensemble_model_filename, X_train=new_train_features, X_val=new_test_features, y_train=y_train, y_val=y_test)"
   ]
  },
  {
   "cell_type": "markdown",
   "metadata": {},
   "source": [
    "## Zillow + Redfin + Remarks / Images"
   ]
  },
  {
   "cell_type": "code",
   "execution_count": 15,
   "metadata": {},
   "outputs": [
    {
     "name": "stdout",
     "output_type": "stream",
     "text": [
      "LinearRegression(copy_X=True, fit_intercept=True, n_jobs=1, normalize=False)\n",
      "----- Training scores -----\n",
      "R2 on log log scale:  0.7670185198979312\n",
      "MAE on log log scale:  0.08698988809583881\n",
      "MAE on original scale:  0.3238160709424381\n",
      "----- Test scores -----\n",
      "R2 on log log scale:  -0.11397505989913514\n",
      "MAE on log log scale:  0.19670349969553405\n",
      "MAE on original scale:  0.707627610950544\n"
     ]
    }
   ],
   "source": [
    "# zillow + redfin models\n",
    "train_features = X_train_dict['zillow_redfin_remarks']\n",
    "test_features = X_test_dict['zillow_redfin_remarks']\n",
    "\n",
    "# model file names\n",
    "ridge = 'models/dom/data_models/mf_dom_zillow-redfin-remarks_ridge.pkl'\n",
    "xgboost = 'models/dom/data_models/mf_dom_zillow-redfin-remarks_XGBoost.pkl'\n",
    "lgbm = 'models/dom/data_models/mf_dom_zillow-redfin-remarks_LGBM.pkl'\n",
    "\n",
    "model_filenames = [ridge, xgboost, lgbm]\n",
    "\n",
    "X_train_zilredrmk = utils.generate_ensemble_features(model_filenames, train_features)\n",
    "X_test_zilredrmk = utils.generate_ensemble_features(model_filenames, test_features)\n",
    "\n",
    "# image models\n",
    "train_features = X_train_dict['img']\n",
    "test_features = X_test_dict['img']\n",
    "\n",
    "# model file names\n",
    "img_ridge = 'models/dom/image_models/mf_dom_img_ridge.pkl'\n",
    "img_lgbm = 'models/dom/image_models/mf_dom_img_LGBM.pkl'\n",
    "img_nn = 'models/dom/image_models/mf_dom_img_nn.h5'\n",
    "\n",
    "img_model_filenames = [img_ridge, img_lgbm, img_nn]\n",
    "\n",
    "X_train_img = utils.generate_ensemble_features(img_model_filenames, train_features)\n",
    "X_test_img = utils.generate_ensemble_features(img_model_filenames, test_features)\n",
    "\n",
    "\n",
    "new_train_features = pd.concat([X_train_zilredrmk, X_train_img], axis=1)\n",
    "new_test_features = pd.concat([X_test_zilredrmk, X_test_img], axis=1)\n",
    "\n",
    "# load savced model and evaluate model performance\n",
    "ensemble_model_filename = 'models/dom/ensemble_models/mf_dom_zillow-redfin-remarks_img.pkl'\n",
    "utils.load_eval_model(filename=ensemble_model_filename, X_train=new_train_features, X_val=new_test_features, y_train=y_train, y_val=y_test, val_set='Test')"
   ]
  },
  {
   "cell_type": "code",
   "execution_count": null,
   "metadata": {},
   "outputs": [],
   "source": []
  }
 ],
 "metadata": {
  "kernelspec": {
   "display_name": "Python 3",
   "language": "python",
   "name": "python3"
  },
  "language_info": {
   "codemirror_mode": {
    "name": "ipython",
    "version": 3
   },
   "file_extension": ".py",
   "mimetype": "text/x-python",
   "name": "python",
   "nbconvert_exporter": "python",
   "pygments_lexer": "ipython3",
   "version": "3.6.4"
  }
 },
 "nbformat": 4,
 "nbformat_minor": 2
}

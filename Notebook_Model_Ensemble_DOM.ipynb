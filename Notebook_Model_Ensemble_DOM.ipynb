{
 "cells": [
  {
   "cell_type": "code",
   "execution_count": 1,
   "metadata": {},
   "outputs": [
    {
     "name": "stderr",
     "output_type": "stream",
     "text": [
      "/anaconda3/lib/python3.6/site-packages/h5py/__init__.py:36: FutureWarning: Conversion of the second argument of issubdtype from `float` to `np.floating` is deprecated. In future, it will be treated as `np.float64 == np.dtype(float).type`.\n",
      "  from ._conv import register_converters as _register_converters\n",
      "Using TensorFlow backend.\n"
     ]
    }
   ],
   "source": [
    "import time\n",
    "import pandas as pd\n",
    "import numpy as np\n",
    "\n",
    "from lightgbm import LGBMRegressor\n",
    "from xgboost import XGBRegressor\n",
    "from sklearn.linear_model import RidgeCV\n",
    "from sklearn.linear_model import LinearRegression\n",
    "from sklearn.linear_model import LassoCV\n",
    "from sklearn import svm\n",
    "from sklearn.neighbors import KNeighborsRegressor\n",
    "from sklearn.model_selection import GridSearchCV\n",
    "\n",
    "import keras\n",
    "from keras.wrappers.scikit_learn import KerasRegressor\n",
    "from keras.models import Sequential\n",
    "from keras.layers import Dense, Activation\n",
    "from keras.optimizers import SGD, Adam\n",
    "from keras.models import load_model\n",
    "\n",
    "from sklearn.preprocessing import MinMaxScaler\n",
    "from sklearn.model_selection import train_test_split\n",
    "from sklearn.metrics import r2_score\n",
    "from sklearn.metrics import mean_squared_error\n",
    "\n",
    "import pickle\n",
    "import re\n",
    "from sklearn.externals import joblib\n",
    "import warnings\n",
    "warnings.filterwarnings(\"ignore\")\n",
    "\n",
    "import matplotlib.pyplot as plt\n",
    "import seaborn as sns\n",
    "%matplotlib inline\n",
    "\n",
    "import src.utils as utils"
   ]
  },
  {
   "cell_type": "markdown",
   "metadata": {},
   "source": [
    "# Condos"
   ]
  },
  {
   "cell_type": "code",
   "execution_count": 2,
   "metadata": {},
   "outputs": [],
   "source": [
    "data_filename = 'data/features/CON_feats_remarks.pkl'"
   ]
  },
  {
   "cell_type": "markdown",
   "metadata": {},
   "source": [
    "## Response = 'DOM'"
   ]
  },
  {
   "cell_type": "code",
   "execution_count": 3,
   "metadata": {},
   "outputs": [
    {
     "name": "stdout",
     "output_type": "stream",
     "text": [
      "Number of features from zillow:  10\n",
      "Number of features from redfin:  20\n",
      "Number of features from images:  2048\n",
      "Number of features from remarks:  20\n",
      "Number of training samples:  36842\n",
      "Number of validation samples:  4094\n"
     ]
    }
   ],
   "source": [
    "response_col = 'DOM'\n",
    "test_size = 0.1\n",
    "random_state = 9001\n",
    "\n",
    "# read in data \n",
    "df = utils.read_preprocess_df(data_filename, response_col=response_col)\n",
    "\n",
    "# test train split\n",
    "X_train_dict, X_val_dict, y_train, y_val = utils.split_normalize_df(df=df, response_col=response_col, test_size=test_size, random_state=random_state)"
   ]
  },
  {
   "cell_type": "markdown",
   "metadata": {},
   "source": [
    "## Zillow "
   ]
  },
  {
   "cell_type": "code",
   "execution_count": 4,
   "metadata": {},
   "outputs": [],
   "source": [
    "# zillow models\n",
    "train_features = X_train_dict['zillow']\n",
    "val_features = X_val_dict['zillow']\n",
    "\n",
    "# model file names\n",
    "ridge = 'models/dom/data_models/condo_dom_zillow_ridge.pkl'\n",
    "xgboost = 'models/dom/data_models/condo_dom_zillow_XGBoost.pkl'\n",
    "lgbm = 'models/dom/data_models/condo_dom_zillow_LGBM.pkl'\n",
    "\n",
    "model_filenames = [ridge, xgboost, lgbm]\n",
    "\n",
    "new_train_features = utils.generate_ensemble_features(model_filenames, train_features)\n",
    "new_val_features = utils.generate_ensemble_features(model_filenames, val_features)"
   ]
  },
  {
   "cell_type": "code",
   "execution_count": 5,
   "metadata": {},
   "outputs": [
    {
     "name": "stdout",
     "output_type": "stream",
     "text": [
      "LinearRegression(copy_X=True, fit_intercept=True, n_jobs=1, normalize=False)\n",
      "----- Training scores -----\n",
      "R2 on log log scale:  0.3398477624325116\n",
      "MAE on log log scale:  0.16781279992242848\n",
      "MAE on original scale:  0.5956409192537575\n",
      "----- Validation scores -----\n",
      "R2 on log log scale:  0.12479274315185596\n",
      "MAE on log log scale:  0.19472271612503908\n",
      "MAE on original scale:  0.6914220932897549\n"
     ]
    }
   ],
   "source": [
    "filename = 'models/dom/ensemble_models/condo_dom_zillow.pkl'\n",
    "model = LinearRegression()\n",
    "\n",
    "# train and save model\n",
    "utils.train_save_model(model, X=new_train_features, y=y_train, filename=filename)\n",
    "# load savced model and evaluate model performance\n",
    "utils.load_eval_model(filename=filename, X_train=new_train_features, X_val=new_val_features, y_train=y_train, y_val=y_val)"
   ]
  },
  {
   "cell_type": "markdown",
   "metadata": {},
   "source": [
    "## Zillow + Redfin"
   ]
  },
  {
   "cell_type": "code",
   "execution_count": 7,
   "metadata": {},
   "outputs": [],
   "source": [
    "# zillow + redfin models\n",
    "train_features = X_train_dict['zillow_redfin']\n",
    "val_features = X_val_dict['zillow_redfin']\n",
    "\n",
    "# model file names\n",
    "ridge = 'models/dom/data_models/condo_dom_zillow-redfin_ridge.pkl'\n",
    "xgboost = 'models/dom/data_models/condo_dom_zillow-redfin_XGBoost.pkl'\n",
    "lgbm = 'models/dom/data_models/condo_dom_zillow-redfin_LGBM.pkl'\n",
    "\n",
    "model_filenames = [ridge, xgboost, lgbm]\n",
    "\n",
    "new_train_features = utils.generate_ensemble_features(model_filenames, train_features)\n",
    "new_val_features = utils.generate_ensemble_features(model_filenames, val_features)"
   ]
  },
  {
   "cell_type": "code",
   "execution_count": 8,
   "metadata": {},
   "outputs": [
    {
     "name": "stdout",
     "output_type": "stream",
     "text": [
      "LinearRegression(copy_X=True, fit_intercept=True, n_jobs=1, normalize=False)\n",
      "----- Training scores -----\n",
      "R2 on log log scale:  0.5286715397347033\n",
      "MAE on log log scale:  0.14139525205668996\n",
      "MAE on original scale:  0.5019954432545306\n",
      "----- Validation scores -----\n",
      "R2 on log log scale:  0.1076578708560667\n",
      "MAE on log log scale:  0.19691778911275706\n",
      "MAE on original scale:  0.6965939908721506\n"
     ]
    }
   ],
   "source": [
    "filename = 'models/dom/ensemble_models/condo_dom_zillow-redfin.pkl'\n",
    "model = LinearRegression()\n",
    "\n",
    "# train and save model\n",
    "utils.train_save_model(model, X=new_train_features, y=y_train, filename=filename)\n",
    "# load savced model and evaluate model performance\n",
    "utils.load_eval_model(filename=filename, X_train=new_train_features, X_val=new_val_features, y_train=y_train, y_val=y_val)"
   ]
  },
  {
   "cell_type": "markdown",
   "metadata": {},
   "source": [
    "## Zillow + Redfin / Images"
   ]
  },
  {
   "cell_type": "code",
   "execution_count": 9,
   "metadata": {},
   "outputs": [],
   "source": [
    "# zillow + redfin models\n",
    "train_features = X_train_dict['zillow_redfin']\n",
    "val_features = X_val_dict['zillow_redfin']\n",
    "\n",
    "# model file names\n",
    "ridge = 'models/dom/data_models/condo_dom_zillow-redfin_ridge.pkl'\n",
    "xgboost = 'models/dom/data_models/condo_dom_zillow-redfin_XGBoost.pkl'\n",
    "lgbm = 'models/dom/data_models/condo_dom_zillow-redfin_LGBM.pkl'\n",
    "\n",
    "model_filenames = [ridge, xgboost, lgbm]\n",
    "\n",
    "X_train_zilred = utils.generate_ensemble_features(model_filenames, train_features)\n",
    "X_val_zilred = utils.generate_ensemble_features(model_filenames, val_features)\n",
    "\n",
    "# image models\n",
    "train_features = X_train_dict['img']\n",
    "val_features = X_val_dict['img']\n",
    "\n",
    "# model file names\n",
    "img_ridge = 'models/dom/image_models/condo_dom_img_ridge.pkl'\n",
    "img_lgbm = 'models/dom/image_models/condo_dom_img_LGBM.pkl'\n",
    "img_nn = 'models/dom/image_models/condo_dom_img_nn.h5'\n",
    "\n",
    "img_model_filenames = [img_ridge, img_lgbm, img_nn]\n",
    "\n",
    "X_train_img = utils.generate_ensemble_features(img_model_filenames, train_features)\n",
    "X_val_img = utils.generate_ensemble_features(img_model_filenames, val_features)\n",
    "\n",
    "new_train_features = pd.concat([X_train_zilred, X_train_img], axis=1)\n",
    "new_val_features = pd.concat([X_val_zilred, X_val_img], axis=1)"
   ]
  },
  {
   "cell_type": "code",
   "execution_count": 10,
   "metadata": {},
   "outputs": [
    {
     "name": "stdout",
     "output_type": "stream",
     "text": [
      "LinearRegression(copy_X=True, fit_intercept=True, n_jobs=1, normalize=False)\n",
      "----- Training scores -----\n",
      "R2 on log log scale:  0.7484467384102397\n",
      "MAE on log log scale:  0.09753184158898864\n",
      "MAE on original scale:  0.35225254933680317\n",
      "----- Validation scores -----\n",
      "R2 on log log scale:  0.10560300852408289\n",
      "MAE on log log scale:  0.19980440832900387\n",
      "MAE on original scale:  0.7106761729615927\n"
     ]
    }
   ],
   "source": [
    "filename = 'models/dom/ensemble_models/condo_dom_zillow-redfin_img.pkl'\n",
    "model = LinearRegression()\n",
    "\n",
    "# train and save model\n",
    "utils.train_save_model(model, X=new_train_features, y=y_train, filename=filename)\n",
    "# load savced model and evaluate model performance\n",
    "utils.load_eval_model(filename=filename, X_train=new_train_features, X_val=new_val_features, y_train=y_train, y_val=y_val)"
   ]
  },
  {
   "cell_type": "markdown",
   "metadata": {},
   "source": [
    "## Zillow + Remarks"
   ]
  },
  {
   "cell_type": "code",
   "execution_count": 12,
   "metadata": {},
   "outputs": [],
   "source": [
    "# zillow models\n",
    "train_features = X_train_dict['zillow_remarks']\n",
    "val_features = X_val_dict['zillow_remarks']\n",
    "\n",
    "# model file names\n",
    "ridge = 'models/dom/data_models/condo_dom_zillow-remarks_ridge.pkl'\n",
    "xgboost = 'models/dom/data_models/condo_dom_zillow-remarks_XGBoost.pkl'\n",
    "lgbm = 'models/dom/data_models/condo_dom_zillow-remarks_LGBM.pkl'\n",
    "\n",
    "model_filenames = [ridge, xgboost, lgbm]\n",
    "\n",
    "new_train_features = utils.generate_ensemble_features(model_filenames, train_features)\n",
    "new_val_features = utils.generate_ensemble_features(model_filenames, val_features)"
   ]
  },
  {
   "cell_type": "code",
   "execution_count": 13,
   "metadata": {},
   "outputs": [
    {
     "name": "stdout",
     "output_type": "stream",
     "text": [
      "LinearRegression(copy_X=True, fit_intercept=True, n_jobs=1, normalize=False)\n",
      "----- Training scores -----\n",
      "R2 on log log scale:  0.5069212335582984\n",
      "MAE on log log scale:  0.14356732597774535\n",
      "MAE on original scale:  0.5085166266604516\n",
      "----- Validation scores -----\n",
      "R2 on log log scale:  0.1268709995305034\n",
      "MAE on log log scale:  0.19376574390002899\n",
      "MAE on original scale:  0.6872967528904693\n"
     ]
    }
   ],
   "source": [
    "filename = 'models/dom/ensemble_models/condo_dom_zillow-remarks.pkl'\n",
    "model = LinearRegression()\n",
    "\n",
    "# train and save model\n",
    "utils.train_save_model(model, X=new_train_features, y=y_train, filename=filename)\n",
    "# load savced model and evaluate model performance\n",
    "utils.load_eval_model(filename=filename, X_train=new_train_features, X_val=new_val_features, y_train=y_train, y_val=y_val)"
   ]
  },
  {
   "cell_type": "markdown",
   "metadata": {},
   "source": [
    "## Zillow + Redfin + Remarks"
   ]
  },
  {
   "cell_type": "code",
   "execution_count": 14,
   "metadata": {},
   "outputs": [],
   "source": [
    "# zillow +redfin + remarks models\n",
    "train_features = X_train_dict['zillow_redfin_remarks']\n",
    "val_features = X_val_dict['zillow_redfin_remarks']\n",
    "\n",
    "# model file names\n",
    "ridge = 'models/dom/data_models/condo_dom_zillow-redfin-remarks_ridge.pkl'\n",
    "xgboost = 'models/dom/data_models/condo_dom_zillow-redfin-remarks_XGBoost.pkl'\n",
    "lgbm = 'models/dom/data_models/condo_dom_zillow-redfin-remarks_LGBM.pkl'\n",
    "\n",
    "model_filenames = [ridge, xgboost, lgbm]\n",
    "\n",
    "new_train_features = utils.generate_ensemble_features(model_filenames, train_features)\n",
    "new_val_features = utils.generate_ensemble_features(model_filenames, val_features)"
   ]
  },
  {
   "cell_type": "code",
   "execution_count": 15,
   "metadata": {},
   "outputs": [
    {
     "name": "stdout",
     "output_type": "stream",
     "text": [
      "LinearRegression(copy_X=True, fit_intercept=True, n_jobs=1, normalize=False)\n",
      "----- Training scores -----\n",
      "R2 on log log scale:  0.5859737985531802\n",
      "MAE on log log scale:  0.13104493870701325\n",
      "MAE on original scale:  0.4642343678928489\n",
      "----- Validation scores -----\n",
      "R2 on log log scale:  0.16534761244044172\n",
      "MAE on log log scale:  0.18954181203241038\n",
      "MAE on original scale:  0.6725467198100459\n"
     ]
    }
   ],
   "source": [
    "filename = 'models/dom/ensemble_models/condo_dom_zillow-redfin-remarks.pkl'\n",
    "model = LinearRegression()\n",
    "\n",
    "# train and save model\n",
    "utils.train_save_model(model, X=new_train_features, y=y_train, filename=filename)\n",
    "# load savced model and evaluate model performance\n",
    "utils.load_eval_model(filename=filename, X_train=new_train_features, X_val=new_val_features, y_train=y_train, y_val=y_val)"
   ]
  },
  {
   "cell_type": "markdown",
   "metadata": {},
   "source": [
    "## Zillow + Redfin + Remarks / Images"
   ]
  },
  {
   "cell_type": "code",
   "execution_count": 16,
   "metadata": {},
   "outputs": [],
   "source": [
    "# zillow + redfin models\n",
    "train_features = X_train_dict['zillow_redfin_remarks']\n",
    "val_features = X_val_dict['zillow_redfin_remarks']\n",
    "\n",
    "# model file names\n",
    "ridge = 'models/dom/data_models/condo_dom_zillow-redfin-remarks_ridge.pkl'\n",
    "xgboost = 'models/dom/data_models/condo_dom_zillow-redfin-remarks_XGBoost.pkl'\n",
    "lgbm = 'models/dom/data_models/condo_dom_zillow-redfin-remarks_LGBM.pkl'\n",
    "\n",
    "model_filenames = [ridge, xgboost, lgbm]\n",
    "\n",
    "X_train_zilred = utils.generate_ensemble_features(model_filenames, train_features)\n",
    "X_val_zilred = utils.generate_ensemble_features(model_filenames, val_features)\n",
    "\n",
    "# image models\n",
    "train_features = X_train_dict['img']\n",
    "val_features = X_val_dict['img']\n",
    "\n",
    "# model file names\n",
    "img_ridge = 'models/dom/image_models/condo_dom_img_ridge.pkl'\n",
    "img_lgbm = 'models/dom/image_models/condo_dom_img_LGBM.pkl'\n",
    "img_nn = 'models/dom/image_models/condo_dom_img_nn.h5'\n",
    "\n",
    "img_model_filenames = [img_ridge, img_lgbm, img_nn]\n",
    "\n",
    "X_train_img = utils.generate_ensemble_features(img_model_filenames, train_features)\n",
    "X_val_img = utils.generate_ensemble_features(img_model_filenames, val_features)\n",
    "\n",
    "new_train_features = pd.concat([X_train_zilred, X_train_img], axis=1)\n",
    "new_val_features = pd.concat([X_val_zilred, X_val_img], axis=1)"
   ]
  },
  {
   "cell_type": "code",
   "execution_count": 17,
   "metadata": {},
   "outputs": [
    {
     "name": "stdout",
     "output_type": "stream",
     "text": [
      "LinearRegression(copy_X=True, fit_intercept=True, n_jobs=1, normalize=False)\n",
      "----- Training scores -----\n",
      "R2 on log log scale:  0.7631986879665615\n",
      "MAE on log log scale:  0.09505704770325671\n",
      "MAE on original scale:  0.34224102371289283\n",
      "----- Validation scores -----\n",
      "R2 on log log scale:  0.14359947976190135\n",
      "MAE on log log scale:  0.1950757426743516\n",
      "MAE on original scale:  0.6944675427683112\n"
     ]
    }
   ],
   "source": [
    "filename = 'models/dom/ensemble_models/condo_dom_zillow-redfin-remarks_img.pkl'\n",
    "model = LinearRegression()\n",
    "\n",
    "# train and save model\n",
    "utils.train_save_model(model, X=new_train_features, y=y_train, filename=filename)\n",
    "# load savced model and evaluate model performance\n",
    "utils.load_eval_model(filename=filename, X_train=new_train_features, X_val=new_val_features, y_train=y_train, y_val=y_val)"
   ]
  },
  {
   "cell_type": "markdown",
   "metadata": {},
   "source": [
    "# Multi Families"
   ]
  },
  {
   "cell_type": "code",
   "execution_count": 18,
   "metadata": {},
   "outputs": [
    {
     "name": "stdout",
     "output_type": "stream",
     "text": [
      "Number of features from zillow:  10\n",
      "Number of features from redfin:  20\n",
      "Number of features from images:  2048\n",
      "Number of features from remarks:  20\n",
      "Number of training samples:  11965\n",
      "Number of validation samples:  1330\n"
     ]
    }
   ],
   "source": [
    "data_filename = 'data/features/MF_feats_remarks.pkl'\n",
    "response_col = 'DOM'\n",
    "test_size = 0.1\n",
    "random_state = 9001\n",
    "\n",
    "# read in data \n",
    "df = utils.read_preprocess_df(data_filename, response_col=response_col)\n",
    "\n",
    "# test train split\n",
    "X_train_dict, X_val_dict, y_train, y_val = utils.split_normalize_df(df=df, response_col=response_col, test_size=test_size, random_state=random_state)"
   ]
  },
  {
   "cell_type": "markdown",
   "metadata": {},
   "source": [
    "## Zillow"
   ]
  },
  {
   "cell_type": "code",
   "execution_count": 19,
   "metadata": {},
   "outputs": [],
   "source": [
    "# zillow models\n",
    "train_features = X_train_dict['zillow']\n",
    "val_features = X_val_dict['zillow']\n",
    "\n",
    "# model file names\n",
    "ridge = 'models/dom/data_models/mf_dom_zillow_ridge.pkl'\n",
    "xgboost = 'models/dom/data_models/mf_dom_zillow_XGBoost.pkl'\n",
    "lgbm = 'models/dom/data_models/mf_dom_zillow_LGBM.pkl'\n",
    "\n",
    "model_filenames = [ridge, xgboost, lgbm]\n",
    "\n",
    "new_train_features = utils.generate_ensemble_features(model_filenames, train_features)\n",
    "new_val_features = utils.generate_ensemble_features(model_filenames, val_features)"
   ]
  },
  {
   "cell_type": "code",
   "execution_count": 20,
   "metadata": {},
   "outputs": [
    {
     "name": "stdout",
     "output_type": "stream",
     "text": [
      "LinearRegression(copy_X=True, fit_intercept=True, n_jobs=1, normalize=False)\n",
      "----- Training scores -----\n",
      "R2 on log log scale:  0.13444073263721212\n",
      "MAE on log log scale:  0.19368852352255275\n",
      "MAE on original scale:  0.7096305342863652\n",
      "----- Validation scores -----\n",
      "R2 on log log scale:  0.08248752570772833\n",
      "MAE on log log scale:  0.20056313476082568\n",
      "MAE on original scale:  0.7370553627016123\n"
     ]
    }
   ],
   "source": [
    "filename = 'models/dom/ensemble_models/mf_dom_zillow.pkl'\n",
    "model = LinearRegression()\n",
    "\n",
    "# train and save model\n",
    "utils.train_save_model(model, X=new_train_features, y=y_train, filename=filename)\n",
    "# load savced model and evaluate model performance\n",
    "utils.load_eval_model(filename=filename, X_train=new_train_features, X_val=new_val_features, y_train=y_train, y_val=y_val)"
   ]
  },
  {
   "cell_type": "markdown",
   "metadata": {},
   "source": [
    "## Zillow + Redfin"
   ]
  },
  {
   "cell_type": "code",
   "execution_count": 21,
   "metadata": {},
   "outputs": [],
   "source": [
    "# zillow + redfin models\n",
    "train_features = X_train_dict['zillow_redfin']\n",
    "val_features = X_val_dict['zillow_redfin']\n",
    "\n",
    "# model file names\n",
    "ridge = 'models/dom/data_models/mf_dom_zillow-redfin_ridge.pkl'\n",
    "xgboost = 'models/dom/data_models/mf_dom_zillow-redfin_XGBoost.pkl'\n",
    "lgbm = 'models/dom/data_models/mf_dom_zillow-redfin_LGBM.pkl'\n",
    "\n",
    "model_filenames = [ridge, xgboost, lgbm]\n",
    "\n",
    "new_train_features = utils.generate_ensemble_features(model_filenames, train_features)\n",
    "new_val_features = utils.generate_ensemble_features(model_filenames, val_features)"
   ]
  },
  {
   "cell_type": "code",
   "execution_count": 22,
   "metadata": {},
   "outputs": [
    {
     "name": "stdout",
     "output_type": "stream",
     "text": [
      "LinearRegression(copy_X=True, fit_intercept=True, n_jobs=1, normalize=False)\n",
      "----- Training scores -----\n",
      "R2 on log log scale:  0.20592303571762505\n",
      "MAE on log log scale:  0.18463802810563487\n",
      "MAE on original scale:  0.6753947697595227\n",
      "----- Validation scores -----\n",
      "R2 on log log scale:  0.05267997456617679\n",
      "MAE on log log scale:  0.20239027659880218\n",
      "MAE on original scale:  0.744585674160795\n"
     ]
    }
   ],
   "source": [
    "filename = 'models/dom/ensemble_models/mf_dom_zillow-redfin.pkl'\n",
    "model = LinearRegression()\n",
    "\n",
    "# train and save model\n",
    "utils.train_save_model(model, X=new_train_features, y=y_train, filename=filename)\n",
    "# load savced model and evaluate model performance\n",
    "utils.load_eval_model(filename=filename, X_train=new_train_features, X_val=new_val_features, y_train=y_train, y_val=y_val)"
   ]
  },
  {
   "cell_type": "markdown",
   "metadata": {},
   "source": [
    "## Zillow + Redfin / Images"
   ]
  },
  {
   "cell_type": "code",
   "execution_count": 23,
   "metadata": {},
   "outputs": [],
   "source": [
    "# zillow + redfin models\n",
    "train_features = X_train_dict['zillow_redfin']\n",
    "val_features = X_val_dict['zillow_redfin']\n",
    "\n",
    "# model file names\n",
    "ridge = 'models/dom/data_models/mf_dom_zillow-redfin_ridge.pkl'\n",
    "xgboost = 'models/dom/data_models/mf_dom_zillow-redfin_XGBoost.pkl'\n",
    "lgbm = 'models/dom/data_models/mf_dom_zillow-redfin_LGBM.pkl'\n",
    "\n",
    "model_filenames = [ridge, xgboost, lgbm]\n",
    "\n",
    "X_train_zilred = utils.generate_ensemble_features(model_filenames, train_features)\n",
    "X_val_zilred = utils.generate_ensemble_features(model_filenames, val_features)\n",
    "\n",
    "# image models\n",
    "train_features = X_train_dict['img']\n",
    "val_features = X_val_dict['img']\n",
    "\n",
    "# model file names\n",
    "img_ridge = 'models/dom/image_models/mf_dom_img_ridge.pkl'\n",
    "img_lgbm = 'models/dom/image_models/mf_dom_img_LGBM.pkl'\n",
    "img_nn = 'models/dom/image_models/mf_dom_img_nn.h5'\n",
    "\n",
    "img_model_filenames = [img_ridge, img_lgbm, img_nn]\n",
    "\n",
    "X_train_img = utils.generate_ensemble_features(img_model_filenames, train_features)\n",
    "X_val_img = utils.generate_ensemble_features(img_model_filenames, val_features)\n",
    "\n",
    "new_train_features = pd.concat([X_train_zilred, X_train_img], axis=1)\n",
    "new_val_features = pd.concat([X_val_zilred, X_val_img], axis=1)"
   ]
  },
  {
   "cell_type": "code",
   "execution_count": 24,
   "metadata": {},
   "outputs": [
    {
     "name": "stdout",
     "output_type": "stream",
     "text": [
      "LinearRegression(copy_X=True, fit_intercept=True, n_jobs=1, normalize=False)\n",
      "----- Training scores -----\n",
      "R2 on log log scale:  0.7527477597380803\n",
      "MAE on log log scale:  0.08718618176543402\n",
      "MAE on original scale:  0.3254538419079815\n",
      "----- Validation scores -----\n",
      "R2 on log log scale:  -0.030647903974755142\n",
      "MAE on log log scale:  0.21275019922368063\n",
      "MAE on original scale:  0.7811051112218914\n"
     ]
    }
   ],
   "source": [
    "filename = 'models/dom/ensemble_models/mf_dom_zillow-redfin_img.pkl'\n",
    "model = LinearRegression()\n",
    "\n",
    "# train and save model\n",
    "utils.train_save_model(model, X=new_train_features, y=y_train, filename=filename)\n",
    "# load savced model and evaluate model performance\n",
    "utils.load_eval_model(filename=filename, X_train=new_train_features, X_val=new_val_features, y_train=y_train, y_val=y_val)"
   ]
  },
  {
   "cell_type": "markdown",
   "metadata": {},
   "source": [
    "## Zillow + Remarks"
   ]
  },
  {
   "cell_type": "code",
   "execution_count": 25,
   "metadata": {},
   "outputs": [],
   "source": [
    "# zillow models\n",
    "train_features = X_train_dict['zillow_remarks']\n",
    "val_features = X_val_dict['zillow_remarks']\n",
    "\n",
    "# model file names\n",
    "ridge = 'models/dom/data_models/mf_dom_zillow-remarks_ridge.pkl'\n",
    "xgboost = 'models/dom/data_models/mf_dom_zillow-remarks_XGBoost.pkl'\n",
    "lgbm = 'models/dom/data_models/mf_dom_zillow-remarks_LGBM.pkl'\n",
    "\n",
    "model_filenames = [ridge, xgboost, lgbm]\n",
    "\n",
    "new_train_features = utils.generate_ensemble_features(model_filenames, train_features)\n",
    "new_val_features = utils.generate_ensemble_features(model_filenames, val_features)"
   ]
  },
  {
   "cell_type": "code",
   "execution_count": 26,
   "metadata": {},
   "outputs": [
    {
     "name": "stdout",
     "output_type": "stream",
     "text": [
      "LinearRegression(copy_X=True, fit_intercept=True, n_jobs=1, normalize=False)\n",
      "----- Training scores -----\n",
      "R2 on log log scale:  0.21940038250998217\n",
      "MAE on log log scale:  0.18338606488112816\n",
      "MAE on original scale:  0.6718662450228235\n",
      "----- Validation scores -----\n",
      "R2 on log log scale:  0.0787563569816625\n",
      "MAE on log log scale:  0.20061414639803185\n",
      "MAE on original scale:  0.7355257817276962\n"
     ]
    }
   ],
   "source": [
    "filename = 'models/dom/ensemble_models/mf_dom_zillow-remarks.pkl'\n",
    "model = LinearRegression()\n",
    "\n",
    "# train and save model\n",
    "utils.train_save_model(model, X=new_train_features, y=y_train, filename=filename)\n",
    "# load savced model and evaluate model performance\n",
    "utils.load_eval_model(filename=filename, X_train=new_train_features, X_val=new_val_features, y_train=y_train, y_val=y_val)"
   ]
  },
  {
   "cell_type": "markdown",
   "metadata": {},
   "source": [
    "## Zillow + Redfin + Remarks"
   ]
  },
  {
   "cell_type": "code",
   "execution_count": 27,
   "metadata": {},
   "outputs": [],
   "source": [
    "# zillow + redfin models\n",
    "train_features = X_train_dict['zillow_redfin_remarks']\n",
    "val_features = X_val_dict['zillow_redfin_remarks']\n",
    "\n",
    "# model file names\n",
    "ridge = 'models/dom/data_models/mf_dom_zillow-redfin-remarks_ridge.pkl'\n",
    "xgboost = 'models/dom/data_models/mf_dom_zillow-redfin-remarks_XGBoost.pkl'\n",
    "lgbm = 'models/dom/data_models/mf_dom_zillow-redfin-remarks_LGBM.pkl'\n",
    "\n",
    "model_filenames = [ridge, xgboost, lgbm]\n",
    "\n",
    "new_train_features = utils.generate_ensemble_features(model_filenames, train_features)\n",
    "new_val_features = utils.generate_ensemble_features(model_filenames, val_features)"
   ]
  },
  {
   "cell_type": "code",
   "execution_count": 28,
   "metadata": {},
   "outputs": [
    {
     "name": "stdout",
     "output_type": "stream",
     "text": [
      "LinearRegression(copy_X=True, fit_intercept=True, n_jobs=1, normalize=False)\n",
      "----- Training scores -----\n",
      "R2 on log log scale:  0.3557079085547513\n",
      "MAE on log log scale:  0.16619164440274772\n",
      "MAE on original scale:  0.6092872011232693\n",
      "----- Validation scores -----\n",
      "R2 on log log scale:  0.013582444175546105\n",
      "MAE on log log scale:  0.20511149043380278\n",
      "MAE on original scale:  0.7508287517226986\n"
     ]
    }
   ],
   "source": [
    "filename = 'models/dom/ensemble_models/mf_dom_zillow-redfin-remarks.pkl'\n",
    "model = LinearRegression()\n",
    "\n",
    "# train and save model\n",
    "utils.train_save_model(model, X=new_train_features, y=y_train, filename=filename)\n",
    "# load savced model and evaluate model performance\n",
    "utils.load_eval_model(filename=filename, X_train=new_train_features, X_val=new_val_features, y_train=y_train, y_val=y_val)"
   ]
  },
  {
   "cell_type": "markdown",
   "metadata": {},
   "source": [
    "## Zillow + Redfin + Remarks / Images"
   ]
  },
  {
   "cell_type": "code",
   "execution_count": 29,
   "metadata": {},
   "outputs": [],
   "source": [
    "# zillow + redfin models\n",
    "train_features = X_train_dict['zillow_redfin_remarks']\n",
    "val_features = X_val_dict['zillow_redfin_remarks']\n",
    "\n",
    "# model file names\n",
    "ridge = 'models/dom/data_models/mf_dom_zillow-redfin-remarks_ridge.pkl'\n",
    "xgboost = 'models/dom/data_models/mf_dom_zillow-redfin-remarks_XGBoost.pkl'\n",
    "lgbm = 'models/dom/data_models/mf_dom_zillow-redfin-remarks_LGBM.pkl'\n",
    "\n",
    "model_filenames = [ridge, xgboost, lgbm]\n",
    "\n",
    "X_train_zilred = utils.generate_ensemble_features(model_filenames, train_features)\n",
    "X_val_zilred = utils.generate_ensemble_features(model_filenames, val_features)\n",
    "\n",
    "# image models\n",
    "train_features = X_train_dict['img']\n",
    "val_features = X_val_dict['img']\n",
    "\n",
    "# model file names\n",
    "img_ridge = 'models/dom/image_models/mf_dom_img_ridge.pkl'\n",
    "img_lgbm = 'models/dom/image_models/mf_dom_img_LGBM.pkl'\n",
    "img_nn = 'models/dom/image_models/mf_dom_img_nn.h5'\n",
    "\n",
    "img_model_filenames = [img_ridge, img_lgbm, img_nn]\n",
    "\n",
    "X_train_img = utils.generate_ensemble_features(img_model_filenames, train_features)\n",
    "X_val_img = utils.generate_ensemble_features(img_model_filenames, val_features)\n",
    "\n",
    "new_train_features = pd.concat([X_train_zilred, X_train_img], axis=1)\n",
    "new_val_features = pd.concat([X_val_zilred, X_val_img], axis=1)"
   ]
  },
  {
   "cell_type": "code",
   "execution_count": 30,
   "metadata": {},
   "outputs": [
    {
     "name": "stdout",
     "output_type": "stream",
     "text": [
      "LinearRegression(copy_X=True, fit_intercept=True, n_jobs=1, normalize=False)\n",
      "----- Training scores -----\n",
      "R2 on log log scale:  0.7670185198979312\n",
      "MAE on log log scale:  0.08698988809583881\n",
      "MAE on original scale:  0.3238160709424381\n",
      "----- Validation scores -----\n",
      "R2 on log log scale:  0.005213910972757363\n",
      "MAE on log log scale:  0.20883064747644875\n",
      "MAE on original scale:  0.766750166302227\n"
     ]
    }
   ],
   "source": [
    "filename = 'models/dom/ensemble_models/mf_dom_zillow-redfin-remarks_img.pkl'\n",
    "model = LinearRegression()\n",
    "\n",
    "# train and save model\n",
    "utils.train_save_model(model, X=new_train_features, y=y_train, filename=filename)\n",
    "# load savced model and evaluate model performance\n",
    "utils.load_eval_model(filename=filename, X_train=new_train_features, X_val=new_val_features, y_train=y_train, y_val=y_val)"
   ]
  },
  {
   "cell_type": "code",
   "execution_count": null,
   "metadata": {},
   "outputs": [],
   "source": []
  }
 ],
 "metadata": {
  "kernelspec": {
   "display_name": "Python 3",
   "language": "python",
   "name": "python3"
  },
  "language_info": {
   "codemirror_mode": {
    "name": "ipython",
    "version": 3
   },
   "file_extension": ".py",
   "mimetype": "text/x-python",
   "name": "python",
   "nbconvert_exporter": "python",
   "pygments_lexer": "ipython3",
   "version": "3.6.4"
  }
 },
 "nbformat": 4,
 "nbformat_minor": 2
}

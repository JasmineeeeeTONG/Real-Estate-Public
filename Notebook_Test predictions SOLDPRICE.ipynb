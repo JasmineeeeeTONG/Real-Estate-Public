{
 "cells": [
  {
   "cell_type": "code",
   "execution_count": 1,
   "metadata": {},
   "outputs": [
    {
     "name": "stderr",
     "output_type": "stream",
     "text": [
      "/anaconda3/lib/python3.6/site-packages/h5py/__init__.py:36: FutureWarning: Conversion of the second argument of issubdtype from `float` to `np.floating` is deprecated. In future, it will be treated as `np.float64 == np.dtype(float).type`.\n",
      "  from ._conv import register_converters as _register_converters\n",
      "Using TensorFlow backend.\n"
     ]
    }
   ],
   "source": [
    "import time\n",
    "import pandas as pd\n",
    "import numpy as np\n",
    "\n",
    "from lightgbm import LGBMRegressor\n",
    "from xgboost import XGBRegressor\n",
    "from sklearn.linear_model import RidgeCV\n",
    "from sklearn.linear_model import LinearRegression\n",
    "from sklearn.linear_model import LassoCV\n",
    "from sklearn import svm\n",
    "from sklearn.neighbors import KNeighborsRegressor\n",
    "from sklearn.model_selection import GridSearchCV\n",
    "\n",
    "import keras\n",
    "from keras.wrappers.scikit_learn import KerasRegressor\n",
    "from keras.models import Sequential\n",
    "from keras.layers import Dense, Activation\n",
    "from keras.optimizers import SGD, Adam\n",
    "from keras.models import load_model\n",
    "\n",
    "from sklearn.preprocessing import MinMaxScaler\n",
    "from sklearn.model_selection import train_test_split\n",
    "from sklearn.metrics import r2_score\n",
    "from sklearn.metrics import mean_squared_error\n",
    "\n",
    "import pickle\n",
    "import re\n",
    "from sklearn.externals import joblib\n",
    "import warnings\n",
    "warnings.filterwarnings(\"ignore\")\n",
    "\n",
    "import matplotlib.pyplot as plt\n",
    "import seaborn as sns\n",
    "%matplotlib inline\n",
    "\n",
    "import src.utils as utils"
   ]
  },
  {
   "cell_type": "markdown",
   "metadata": {},
   "source": [
    "# Condos"
   ]
  },
  {
   "cell_type": "code",
   "execution_count": 2,
   "metadata": {},
   "outputs": [
    {
     "name": "stdout",
     "output_type": "stream",
     "text": [
      "Number of features from zillow:  10\n",
      "Number of features from redfin:  20\n",
      "Number of features from images:  2048\n",
      "Number of features from remarks:  20\n",
      "Number of training samples:  36842\n",
      "Number of test samples:  3563\n"
     ]
    }
   ],
   "source": [
    "# Condos\n",
    "train_data_filename = 'data/features/TRAIN_CON.pkl'\n",
    "test_data_filename = 'data/features/TEST_CON.pkl'\n",
    "\n",
    "response_col = 'SOLDPRICE'\n",
    "val_size = 0.1\n",
    "random_state = 9001\n",
    "\n",
    "# read in data \n",
    "train_df = utils.read_preprocess_df(train_data_filename, response_col=response_col)\n",
    "test_df = utils.read_preprocess_df(test_data_filename, response_col=response_col, print_info=False)\n",
    "\n",
    "# process test data\n",
    "X_train_dict, X_test_dict, y_train, y_test = utils.process_test_data(test_df, train_df, response_col, val_size, random_state)"
   ]
  },
  {
   "cell_type": "markdown",
   "metadata": {},
   "source": [
    "## Zillow "
   ]
  },
  {
   "cell_type": "code",
   "execution_count": 3,
   "metadata": {},
   "outputs": [
    {
     "name": "stdout",
     "output_type": "stream",
     "text": [
      "LinearRegression(copy_X=True, fit_intercept=True, n_jobs=1, normalize=False)\n",
      "----- Training scores -----\n",
      "R2 on log scale:  0.9770709789938143\n",
      "MAE on log scale:  0.08293147045887168\n",
      "MAE on original scale:  39276.541893723486\n",
      "----- Test scores -----\n",
      "R2 on log scale:  0.8844218927870328\n",
      "MAE on log scale:  0.1590807113964601\n",
      "MAE on original scale:  77875.50272889803\n"
     ]
    }
   ],
   "source": [
    "# zillow models\n",
    "train_features = X_train_dict['zillow']\n",
    "test_features = X_test_dict['zillow']\n",
    "\n",
    "# model file names\n",
    "ridge = 'models/soldprice/data_models/condo_price_zillow_ridge.pkl'\n",
    "xgboost = 'models/soldprice/data_models/condo_price_zillow_XGBoost.pkl'\n",
    "lgbm = 'models/soldprice/data_models/condo_price_zillow_LGBM.pkl'\n",
    "\n",
    "model_filenames = [ridge, xgboost, lgbm]\n",
    "\n",
    "new_train_features = utils.generate_ensemble_features(model_filenames, train_features)\n",
    "new_test_features = utils.generate_ensemble_features(model_filenames, test_features)\n",
    "\n",
    "# load savced model and evaluate model performance\n",
    "ensemble_model_filename = 'models/soldprice/ensemble_models/condo_price_zillow.pkl'\n",
    "utils.load_eval_model(filename=ensemble_model_filename, X_train=new_train_features, X_val=new_test_features, y_train=y_train, y_val=y_test, val_set='Test')\n"
   ]
  },
  {
   "cell_type": "markdown",
   "metadata": {},
   "source": [
    "## Zillow + Redfin"
   ]
  },
  {
   "cell_type": "code",
   "execution_count": 4,
   "metadata": {},
   "outputs": [
    {
     "name": "stdout",
     "output_type": "stream",
     "text": [
      "LinearRegression(copy_X=True, fit_intercept=True, n_jobs=1, normalize=False)\n",
      "----- Training scores -----\n",
      "R2 on log scale:  0.9872015695369737\n",
      "MAE on log scale:  0.056293575670782\n",
      "MAE on original scale:  26143.74749291712\n",
      "----- Test scores -----\n",
      "R2 on log scale:  0.8929908587808036\n",
      "MAE on log scale:  0.14891410013422246\n",
      "MAE on original scale:  72815.13313015123\n"
     ]
    }
   ],
   "source": [
    "# zillow + redfin models\n",
    "train_features = X_train_dict['zillow_redfin']\n",
    "test_features = X_test_dict['zillow_redfin']\n",
    "\n",
    "# model file names\n",
    "ridge = 'models/soldprice/data_models/condo_price_zillow-redfin_ridge.pkl'\n",
    "xgboost = 'models/soldprice/data_models/condo_price_zillow-redfin_XGBoost.pkl'\n",
    "lgbm = 'models/soldprice/data_models/condo_price_zillow-redfin_LGBM.pkl'\n",
    "\n",
    "model_filenames = [ridge, xgboost, lgbm]\n",
    "\n",
    "new_train_features = utils.generate_ensemble_features(model_filenames, train_features)\n",
    "new_test_features = utils.generate_ensemble_features(model_filenames, test_features)\n",
    "\n",
    "# load savced model and evaluate model performance\n",
    "ensemble_model_filename = 'models/soldprice/ensemble_models/condo_price_zillow-redfin.pkl'\n",
    "utils.load_eval_model(filename=ensemble_model_filename, X_train=new_train_features, X_val=new_test_features, y_train=y_train, y_val=y_test, val_set='Test')"
   ]
  },
  {
   "cell_type": "markdown",
   "metadata": {},
   "source": [
    "## Zillow + Redfin / Images"
   ]
  },
  {
   "cell_type": "code",
   "execution_count": 5,
   "metadata": {},
   "outputs": [
    {
     "name": "stdout",
     "output_type": "stream",
     "text": [
      "LinearRegression(copy_X=True, fit_intercept=True, n_jobs=1, normalize=False)\n",
      "----- Training scores -----\n",
      "R2 on log scale:  0.987675306965182\n",
      "MAE on log scale:  0.05472775981973835\n",
      "MAE on original scale:  25826.53708718056\n",
      "----- Test scores -----\n",
      "R2 on log scale:  0.898236503535547\n",
      "MAE on log scale:  0.14382700978161156\n",
      "MAE on original scale:  72541.2937249036\n"
     ]
    }
   ],
   "source": [
    "# zillow + redfin models\n",
    "train_features = X_train_dict['zillow_redfin']\n",
    "test_features = X_test_dict['zillow_redfin']\n",
    "\n",
    "# model file names\n",
    "ridge = 'models/soldprice/data_models/condo_price_zillow-redfin_ridge.pkl'\n",
    "xgboost = 'models/soldprice/data_models/condo_price_zillow-redfin_XGBoost.pkl'\n",
    "lgbm = 'models/soldprice/data_models/condo_price_zillow-redfin_LGBM.pkl'\n",
    "\n",
    "model_filenames = [ridge, xgboost, lgbm]\n",
    "\n",
    "X_train_zilred = utils.generate_ensemble_features(model_filenames, train_features)\n",
    "X_test_zilred = utils.generate_ensemble_features(model_filenames, test_features)\n",
    "\n",
    "# image models\n",
    "train_features = X_train_dict['img']\n",
    "test_features = X_test_dict['img']\n",
    "\n",
    "# model file names\n",
    "img_ridge = 'models/soldprice/image_models/condo_price_img_ridge.pkl'\n",
    "img_lgbm = 'models/soldprice/image_models/condo_price_img_LGBM.pkl'\n",
    "img_nn = 'models/soldprice/image_models/condo_price_img_nn.h5'\n",
    "\n",
    "img_model_filenames = [img_ridge, img_lgbm, img_nn]\n",
    "\n",
    "X_train_img = utils.generate_ensemble_features(img_model_filenames, train_features)\n",
    "X_test_img = utils.generate_ensemble_features(img_model_filenames, test_features)\n",
    "\n",
    "new_train_features = pd.concat([X_train_zilred, X_train_img], axis=1)\n",
    "new_test_features = pd.concat([X_test_zilred, X_test_img], axis=1)\n",
    "\n",
    "# load savced model and evaluate model performance\n",
    "ensemble_model_filename = 'models/soldprice/ensemble_models/condo_price_zillow-redfin_img.pkl'\n",
    "utils.load_eval_model(filename=ensemble_model_filename, X_train=new_train_features, X_val=new_test_features, y_train=y_train, y_val=y_test, val_set='Test')\n"
   ]
  },
  {
   "cell_type": "markdown",
   "metadata": {},
   "source": [
    "## Zillow + Remarks"
   ]
  },
  {
   "cell_type": "code",
   "execution_count": 6,
   "metadata": {},
   "outputs": [
    {
     "name": "stdout",
     "output_type": "stream",
     "text": [
      "LinearRegression(copy_X=True, fit_intercept=True, n_jobs=1, normalize=False)\n",
      "----- Training scores -----\n",
      "R2 on log scale:  0.9902656313300511\n",
      "MAE on log scale:  0.04789157698570431\n",
      "MAE on original scale:  22882.34761821519\n",
      "----- Test scores -----\n",
      "R2 on log scale:  0.8985446277354523\n",
      "MAE on log scale:  0.15185953583416362\n",
      "MAE on original scale:  73848.7471576203\n"
     ]
    }
   ],
   "source": [
    "# zillow + redfin models\n",
    "train_features = X_train_dict['zillow_remarks']\n",
    "test_features = X_test_dict['zillow_remarks']\n",
    "\n",
    "# model file names\n",
    "ridge = 'models/soldprice/data_models/condo_price_zillow-remarks_ridge.pkl'\n",
    "xgboost = 'models/soldprice/data_models/condo_price_zillow-remarks_XGBoost.pkl'\n",
    "lgbm = 'models/soldprice/data_models/condo_price_zillow-remarks_LGBM.pkl'\n",
    "\n",
    "model_filenames = [ridge, xgboost, lgbm]\n",
    "\n",
    "new_train_features = utils.generate_ensemble_features(model_filenames, train_features)\n",
    "new_test_features = utils.generate_ensemble_features(model_filenames, test_features)\n",
    "\n",
    "# load savced model and evaluate model performance\n",
    "ensemble_model_filename = 'models/soldprice/ensemble_models/condo_price_zillow-remarks.pkl'\n",
    "utils.load_eval_model(filename=ensemble_model_filename, X_train=new_train_features, X_val=new_test_features, y_train=y_train, y_val=y_test, val_set='Test')"
   ]
  },
  {
   "cell_type": "markdown",
   "metadata": {},
   "source": [
    "## Zillow + Redfin + Remarks"
   ]
  },
  {
   "cell_type": "code",
   "execution_count": 7,
   "metadata": {
    "scrolled": true
   },
   "outputs": [
    {
     "name": "stdout",
     "output_type": "stream",
     "text": [
      "LinearRegression(copy_X=True, fit_intercept=True, n_jobs=1, normalize=False)\n",
      "----- Training scores -----\n",
      "R2 on log scale:  0.9894383123318782\n",
      "MAE on log scale:  0.05804396351855273\n",
      "MAE on original scale:  27769.000150056254\n",
      "----- Test scores -----\n",
      "R2 on log scale:  0.9066367346009893\n",
      "MAE on log scale:  0.14113818614082488\n",
      "MAE on original scale:  69197.37831905279\n"
     ]
    }
   ],
   "source": [
    "# zillow + redfin models\n",
    "train_features = X_train_dict['zillow_redfin_remarks']\n",
    "test_features = X_test_dict['zillow_redfin_remarks']\n",
    "\n",
    "# model file names\n",
    "ridge = 'models/soldprice/data_models/condo_price_zillow-redfin-remarks_ridge.pkl'\n",
    "xgboost = 'models/soldprice/data_models/condo_price_zillow-redfin-remarks_XGBoost.pkl'\n",
    "lgbm = 'models/soldprice/data_models/condo_price_zillow-redfin-remarks_LGBM.pkl'\n",
    "\n",
    "model_filenames = [ridge, xgboost, lgbm]\n",
    "\n",
    "new_train_features = utils.generate_ensemble_features(model_filenames, train_features)\n",
    "new_test_features = utils.generate_ensemble_features(model_filenames, test_features)\n",
    "\n",
    "# load savced model and evaluate model performance\n",
    "ensemble_model_filename = 'models/soldprice/ensemble_models/condo_price_zillow-redfin-remarks.pkl'\n",
    "utils.load_eval_model(filename=ensemble_model_filename, X_train=new_train_features, X_val=new_test_features, y_train=y_train, y_val=y_test, val_set='Test')"
   ]
  },
  {
   "cell_type": "markdown",
   "metadata": {},
   "source": [
    "## Zillow + Redfin + Remarks / Images"
   ]
  },
  {
   "cell_type": "code",
   "execution_count": 8,
   "metadata": {},
   "outputs": [
    {
     "name": "stdout",
     "output_type": "stream",
     "text": [
      "LinearRegression(copy_X=True, fit_intercept=True, n_jobs=1, normalize=False)\n",
      "----- Training scores -----\n",
      "R2 on log scale:  0.9899918233287566\n",
      "MAE on log scale:  0.05631835852917399\n",
      "MAE on original scale:  27492.519217898032\n",
      "----- Test scores -----\n",
      "R2 on log scale:  0.9105807706747923\n",
      "MAE on log scale:  0.13701467606278672\n",
      "MAE on original scale:  68900.19438034944\n"
     ]
    }
   ],
   "source": [
    "# zillow + redfin models\n",
    "train_features = X_train_dict['zillow_redfin_remarks']\n",
    "test_features = X_test_dict['zillow_redfin_remarks']\n",
    "\n",
    "# model file names\n",
    "ridge = 'models/soldprice/data_models/condo_price_zillow-redfin-remarks_ridge.pkl'\n",
    "xgboost = 'models/soldprice/data_models/condo_price_zillow-redfin-remarks_XGBoost.pkl'\n",
    "lgbm = 'models/soldprice/data_models/condo_price_zillow-redfin-remarks_LGBM.pkl'\n",
    "\n",
    "model_filenames = [ridge, xgboost, lgbm]\n",
    "\n",
    "X_train_zilredrmk = utils.generate_ensemble_features(model_filenames, train_features)\n",
    "X_test_zilredrmk = utils.generate_ensemble_features(model_filenames, test_features)\n",
    "\n",
    "# image models\n",
    "train_features = X_train_dict['img']\n",
    "test_features = X_test_dict['img']\n",
    "\n",
    "# model file names\n",
    "img_ridge = 'models/soldprice/image_models/condo_price_img_ridge.pkl'\n",
    "img_lgbm = 'models/soldprice/image_models/condo_price_img_LGBM.pkl'\n",
    "img_nn = 'models/soldprice/image_models/condo_price_img_nn.h5'\n",
    "\n",
    "img_model_filenames = [img_ridge, img_lgbm, img_nn]\n",
    "\n",
    "X_train_img = utils.generate_ensemble_features(img_model_filenames, train_features)\n",
    "X_test_img = utils.generate_ensemble_features(img_model_filenames, test_features)\n",
    "\n",
    "\n",
    "new_train_features = pd.concat([X_train_zilredrmk, X_train_img], axis=1)\n",
    "new_test_features = pd.concat([X_test_zilredrmk, X_test_img], axis=1)\n",
    "\n",
    "# load savced model and evaluate model performance\n",
    "ensemble_model_filename = 'models/soldprice/ensemble_models/condo_price_zillow-redfin-remarks_img.pkl'\n",
    "utils.load_eval_model(filename=ensemble_model_filename, X_train=new_train_features, X_val=new_test_features, y_train=y_train, y_val=y_test, val_set='Test')"
   ]
  },
  {
   "cell_type": "markdown",
   "metadata": {},
   "source": [
    "# Multi Families"
   ]
  },
  {
   "cell_type": "code",
   "execution_count": 9,
   "metadata": {},
   "outputs": [
    {
     "name": "stdout",
     "output_type": "stream",
     "text": [
      "Number of features from zillow:  10\n",
      "Number of features from redfin:  20\n",
      "Number of features from images:  2048\n",
      "Number of features from remarks:  20\n",
      "Number of training samples:  11965\n",
      "Number of test samples:  1324\n"
     ]
    }
   ],
   "source": [
    "# MF\n",
    "train_data_filename = 'data/features/TRAIN_MF.pkl'\n",
    "test_data_filename = 'data/features/TEST_MF.pkl'\n",
    "\n",
    "response_col = 'SOLDPRICE'\n",
    "val_size = 0.1\n",
    "random_state = 9001\n",
    "\n",
    "# read in data \n",
    "train_df = utils.read_preprocess_df(train_data_filename, response_col=response_col)\n",
    "test_df = utils.read_preprocess_df(test_data_filename, response_col=response_col, print_info=False)\n",
    "\n",
    "# process test data\n",
    "X_train_dict, X_test_dict, y_train, y_test = utils.process_test_data(test_df, train_df, response_col, val_size, random_state)"
   ]
  },
  {
   "cell_type": "markdown",
   "metadata": {},
   "source": [
    "## Zillow"
   ]
  },
  {
   "cell_type": "code",
   "execution_count": 10,
   "metadata": {},
   "outputs": [
    {
     "name": "stdout",
     "output_type": "stream",
     "text": [
      "LinearRegression(copy_X=True, fit_intercept=True, n_jobs=1, normalize=False)\n",
      "----- Training scores -----\n",
      "R2 on log scale:  0.9027004422624682\n",
      "MAE on log scale:  0.17135323267619057\n",
      "MAE on original scale:  75952.14815279737\n",
      "----- Test scores -----\n",
      "R2 on log scale:  0.7182566276311096\n",
      "MAE on log scale:  0.26008178601128484\n",
      "MAE on original scale:  101126.66360186638\n"
     ]
    }
   ],
   "source": [
    "# zillow models\n",
    "train_features = X_train_dict['zillow']\n",
    "test_features = X_test_dict['zillow']\n",
    "\n",
    "# model file names\n",
    "ridge = 'models/soldprice/data_models/mf_price_zillow_ridge.pkl'\n",
    "xgboost = 'models/soldprice/data_models/mf_price_zillow_XGBoost.pkl'\n",
    "lgbm = 'models/soldprice/data_models/mf_price_zillow_LGBM.pkl'\n",
    "\n",
    "model_filenames = [ridge, xgboost, lgbm]\n",
    "\n",
    "new_train_features = utils.generate_ensemble_features(model_filenames, train_features)\n",
    "new_test_features = utils.generate_ensemble_features(model_filenames, test_features)\n",
    "\n",
    "# load savced model and evaluate model performance\n",
    "ensemble_model_filename = 'models/soldprice/ensemble_models/mf_price_zillow.pkl'\n",
    "utils.load_eval_model(filename=ensemble_model_filename, X_train=new_train_features, X_val=new_test_features, y_train=y_train, y_val=y_test, val_set='Test')"
   ]
  },
  {
   "cell_type": "markdown",
   "metadata": {},
   "source": [
    "## Zillow + Redfin"
   ]
  },
  {
   "cell_type": "code",
   "execution_count": 11,
   "metadata": {},
   "outputs": [
    {
     "name": "stdout",
     "output_type": "stream",
     "text": [
      "LinearRegression(copy_X=True, fit_intercept=True, n_jobs=1, normalize=False)\n",
      "----- Training scores -----\n",
      "R2 on log scale:  0.930253658634392\n",
      "MAE on log scale:  0.1456717206921096\n",
      "MAE on original scale:  66506.33034253815\n",
      "----- Test scores -----\n",
      "R2 on log scale:  0.7357555377976674\n",
      "MAE on log scale:  0.2518097315758395\n",
      "MAE on original scale:  97230.56782923614\n"
     ]
    }
   ],
   "source": [
    "# zillow + redfin models\n",
    "train_features = X_train_dict['zillow_redfin']\n",
    "test_features = X_test_dict['zillow_redfin']\n",
    "\n",
    "# model file names\n",
    "ridge = 'models/soldprice/data_models/mf_price_zillow-redfin_ridge.pkl'\n",
    "xgboost = 'models/soldprice/data_models/mf_price_zillow-redfin_XGBoost.pkl'\n",
    "lgbm = 'models/soldprice/data_models/mf_price_zillow-redfin_LGBM.pkl'\n",
    "\n",
    "model_filenames = [ridge, xgboost, lgbm]\n",
    "\n",
    "new_train_features = utils.generate_ensemble_features(model_filenames, train_features)\n",
    "new_test_features = utils.generate_ensemble_features(model_filenames, test_features)\n",
    "\n",
    "# load savced model and evaluate model performance\n",
    "ensemble_model_filename = 'models/soldprice/ensemble_models/mf_price_zillow-redfin.pkl'\n",
    "utils.load_eval_model(filename=ensemble_model_filename, X_train=new_train_features, X_val=new_test_features, y_train=y_train, y_val=y_test, val_set='Test')"
   ]
  },
  {
   "cell_type": "markdown",
   "metadata": {},
   "source": [
    "## Zillow + Redfin / Images"
   ]
  },
  {
   "cell_type": "code",
   "execution_count": 12,
   "metadata": {},
   "outputs": [
    {
     "name": "stdout",
     "output_type": "stream",
     "text": [
      "LinearRegression(copy_X=True, fit_intercept=True, n_jobs=1, normalize=False)\n",
      "----- Training scores -----\n",
      "R2 on log scale:  0.9471486824675418\n",
      "MAE on log scale:  0.11704951196902373\n",
      "MAE on original scale:  56183.38219709972\n",
      "----- Test scores -----\n",
      "R2 on log scale:  0.7239930341074621\n",
      "MAE on log scale:  0.2610282107065534\n",
      "MAE on original scale:  116158.35625683986\n"
     ]
    }
   ],
   "source": [
    "# zillow + redfin models\n",
    "train_features = X_train_dict['zillow_redfin']\n",
    "test_features = X_test_dict['zillow_redfin']\n",
    "\n",
    "# model file names\n",
    "ridge = 'models/soldprice/data_models/mf_price_zillow-redfin_ridge.pkl'\n",
    "xgboost = 'models/soldprice/data_models/mf_price_zillow-redfin_XGBoost.pkl'\n",
    "lgbm = 'models/soldprice/data_models/mf_price_zillow-redfin_LGBM.pkl'\n",
    "\n",
    "model_filenames = [ridge, xgboost, lgbm]\n",
    "\n",
    "X_train_zilred = utils.generate_ensemble_features(model_filenames, train_features)\n",
    "X_test_zilred = utils.generate_ensemble_features(model_filenames, test_features)\n",
    "\n",
    "# image models\n",
    "train_features = X_train_dict['img']\n",
    "test_features = X_test_dict['img']\n",
    "\n",
    "# model file names\n",
    "img_ridge = 'models/soldprice/image_models/mf_price_img_ridge.pkl'\n",
    "img_lgbm = 'models/soldprice/image_models/mf_price_img_LGBM.pkl'\n",
    "img_nn = 'models/soldprice/image_models/mf_price_img_nn.h5'\n",
    "\n",
    "img_model_filenames = [img_ridge, img_lgbm, img_nn]\n",
    "\n",
    "X_train_img = utils.generate_ensemble_features(img_model_filenames, train_features)\n",
    "X_test_img = utils.generate_ensemble_features(img_model_filenames, test_features)\n",
    "\n",
    "new_train_features = pd.concat([X_train_zilred, X_train_img], axis=1)\n",
    "new_test_features = pd.concat([X_test_zilred, X_test_img], axis=1)\n",
    "\n",
    "# load savced model and evaluate model performance\n",
    "ensemble_model_filename = 'models/soldprice/ensemble_models/mf_price_zillow-redfin_img.pkl'\n",
    "utils.load_eval_model(filename=ensemble_model_filename, X_train=new_train_features, X_val=new_test_features, y_train=y_train, y_val=y_test, val_set='Test')"
   ]
  },
  {
   "cell_type": "markdown",
   "metadata": {},
   "source": [
    "## Zillow + Remarks"
   ]
  },
  {
   "cell_type": "code",
   "execution_count": 13,
   "metadata": {},
   "outputs": [
    {
     "name": "stdout",
     "output_type": "stream",
     "text": [
      "LinearRegression(copy_X=True, fit_intercept=True, n_jobs=1, normalize=False)\n",
      "----- Training scores -----\n",
      "R2 on log scale:  0.9564145854782279\n",
      "MAE on log scale:  0.11450561702492648\n",
      "MAE on original scale:  57115.794783186495\n",
      "----- Test scores -----\n",
      "R2 on log scale:  0.8008042256893431\n",
      "MAE on log scale:  0.21934103594190799\n",
      "MAE on original scale:  94264.0503251318\n"
     ]
    }
   ],
   "source": [
    "# zillow  models\n",
    "train_features = X_train_dict['zillow_remarks']\n",
    "test_features = X_test_dict['zillow_remarks']\n",
    "\n",
    "# model file names\n",
    "ridge = 'models/soldprice/data_models/mf_price_zillow-remarks_ridge.pkl'\n",
    "xgboost = 'models/soldprice/data_models/mf_price_zillow-remarks_XGBoost.pkl'\n",
    "lgbm = 'models/soldprice/data_models/mf_price_zillow-remarks_LGBM.pkl'\n",
    "\n",
    "model_filenames = [ridge, xgboost, lgbm]\n",
    "\n",
    "new_train_features = utils.generate_ensemble_features(model_filenames, train_features)\n",
    "new_test_features = utils.generate_ensemble_features(model_filenames, test_features)\n",
    "\n",
    "# load savced model and evaluate model performance\n",
    "ensemble_model_filename = 'models/soldprice/ensemble_models/mf_price_zillow-remarks.pkl'\n",
    "utils.load_eval_model(filename=ensemble_model_filename, X_train=new_train_features, X_val=new_test_features, y_train=y_train, y_val=y_test, val_set='Test')"
   ]
  },
  {
   "cell_type": "markdown",
   "metadata": {},
   "source": [
    "## Zillow + Redfin + Remarks"
   ]
  },
  {
   "cell_type": "code",
   "execution_count": 14,
   "metadata": {
    "scrolled": true
   },
   "outputs": [
    {
     "name": "stdout",
     "output_type": "stream",
     "text": [
      "LinearRegression(copy_X=True, fit_intercept=True, n_jobs=1, normalize=False)\n",
      "----- Training scores -----\n",
      "R2 on log scale:  0.9613549877512337\n",
      "MAE on log scale:  0.10687082950530435\n",
      "MAE on original scale:  53881.29413289305\n",
      "----- Test scores -----\n",
      "R2 on log scale:  0.8034245895854857\n",
      "MAE on log scale:  0.21651884141599156\n",
      "MAE on original scale:  93034.05277888056\n"
     ]
    }
   ],
   "source": [
    "# zillow + redfin models\n",
    "train_features = X_train_dict['zillow_redfin_remarks']\n",
    "test_features = X_test_dict['zillow_redfin_remarks']\n",
    "\n",
    "# model file names\n",
    "ridge = 'models/soldprice/data_models/mf_price_zillow-redfin-remarks_ridge.pkl'\n",
    "xgboost = 'models/soldprice/data_models/mf_price_zillow-redfin-remarks_XGBoost.pkl'\n",
    "lgbm = 'models/soldprice/data_models/mf_price_zillow-redfin-remarks_LGBM.pkl'\n",
    "\n",
    "model_filenames = [ridge, xgboost, lgbm]\n",
    "\n",
    "new_train_features = utils.generate_ensemble_features(model_filenames, train_features)\n",
    "new_test_features = utils.generate_ensemble_features(model_filenames, test_features)\n",
    "\n",
    "# load savced model and evaluate model performance\n",
    "ensemble_model_filename = 'models/soldprice/ensemble_models/mf_price_zillow-redfin-remarks.pkl'\n",
    "utils.load_eval_model(filename=ensemble_model_filename, X_train=new_train_features, X_val=new_test_features, y_train=y_train, y_val=y_test, val_set='Test')"
   ]
  },
  {
   "cell_type": "markdown",
   "metadata": {},
   "source": [
    "## Zillow + Redfin + Remarks / Images"
   ]
  },
  {
   "cell_type": "code",
   "execution_count": 15,
   "metadata": {},
   "outputs": [
    {
     "name": "stdout",
     "output_type": "stream",
     "text": [
      "LinearRegression(copy_X=True, fit_intercept=True, n_jobs=1, normalize=False)\n",
      "----- Training scores -----\n",
      "R2 on log scale:  0.9668761916169364\n",
      "MAE on log scale:  0.09550969021625136\n",
      "MAE on original scale:  47907.29883272742\n",
      "----- Test scores -----\n",
      "R2 on log scale:  0.8000592542274705\n",
      "MAE on log scale:  0.217104449965957\n",
      "MAE on original scale:  100540.5263474181\n"
     ]
    }
   ],
   "source": [
    "# zillow + redfin models\n",
    "train_features = X_train_dict['zillow_redfin_remarks']\n",
    "test_features = X_test_dict['zillow_redfin_remarks']\n",
    "\n",
    "# model file names\n",
    "ridge = 'models/soldprice/data_models/mf_price_zillow-redfin-remarks_ridge.pkl'\n",
    "xgboost = 'models/soldprice/data_models/mf_price_zillow-redfin-remarks_XGBoost.pkl'\n",
    "lgbm = 'models/soldprice/data_models/mf_price_zillow-redfin-remarks_LGBM.pkl'\n",
    "\n",
    "model_filenames = [ridge, xgboost, lgbm]\n",
    "\n",
    "X_train_zilredrmk = utils.generate_ensemble_features(model_filenames, train_features)\n",
    "X_test_zilredrmk = utils.generate_ensemble_features(model_filenames, test_features)\n",
    "\n",
    "# image models\n",
    "train_features = X_train_dict['img']\n",
    "test_features = X_test_dict['img']\n",
    "\n",
    "# model file names\n",
    "img_ridge = 'models/soldprice/image_models/mf_price_img_ridge.pkl'\n",
    "img_lgbm = 'models/soldprice/image_models/mf_price_img_LGBM.pkl'\n",
    "img_nn = 'models/soldprice/image_models/mf_price_img_nn.h5'\n",
    "\n",
    "img_model_filenames = [img_ridge, img_lgbm, img_nn]\n",
    "\n",
    "X_train_img = utils.generate_ensemble_features(img_model_filenames, train_features)\n",
    "X_test_img = utils.generate_ensemble_features(img_model_filenames, test_features)\n",
    "\n",
    "\n",
    "new_train_features = pd.concat([X_train_zilredrmk, X_train_img], axis=1)\n",
    "new_test_features = pd.concat([X_test_zilredrmk, X_test_img], axis=1)\n",
    "\n",
    "# load savced model and evaluate model performance\n",
    "ensemble_model_filename = 'models/soldprice/ensemble_models/mf_price_zillow-redfin-remarks_img.pkl'\n",
    "utils.load_eval_model(filename=ensemble_model_filename, X_train=new_train_features, X_val=new_test_features, y_train=y_train, y_val=y_test, val_set='Test')"
   ]
  },
  {
   "cell_type": "code",
   "execution_count": null,
   "metadata": {},
   "outputs": [],
   "source": []
  }
 ],
 "metadata": {
  "kernelspec": {
   "display_name": "Python 3",
   "language": "python",
   "name": "python3"
  },
  "language_info": {
   "codemirror_mode": {
    "name": "ipython",
    "version": 3
   },
   "file_extension": ".py",
   "mimetype": "text/x-python",
   "name": "python",
   "nbconvert_exporter": "python",
   "pygments_lexer": "ipython3",
   "version": "3.6.4"
  }
 },
 "nbformat": 4,
 "nbformat_minor": 2
}

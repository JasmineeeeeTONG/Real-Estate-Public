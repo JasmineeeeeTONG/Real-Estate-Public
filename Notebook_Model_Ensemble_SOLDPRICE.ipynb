{
 "cells": [
  {
   "cell_type": "code",
   "execution_count": 1,
   "metadata": {},
   "outputs": [
    {
     "name": "stderr",
     "output_type": "stream",
     "text": [
      "/anaconda3/lib/python3.6/site-packages/h5py/__init__.py:36: FutureWarning: Conversion of the second argument of issubdtype from `float` to `np.floating` is deprecated. In future, it will be treated as `np.float64 == np.dtype(float).type`.\n",
      "  from ._conv import register_converters as _register_converters\n",
      "Using TensorFlow backend.\n"
     ]
    }
   ],
   "source": [
    "import time\n",
    "import pandas as pd\n",
    "import numpy as np\n",
    "\n",
    "from lightgbm import LGBMRegressor\n",
    "from xgboost import XGBRegressor\n",
    "from sklearn.linear_model import RidgeCV\n",
    "from sklearn.linear_model import LinearRegression\n",
    "from sklearn.linear_model import LassoCV\n",
    "from sklearn import svm\n",
    "from sklearn.neighbors import KNeighborsRegressor\n",
    "from sklearn.model_selection import GridSearchCV\n",
    "\n",
    "import keras\n",
    "from keras.wrappers.scikit_learn import KerasRegressor\n",
    "from keras.models import Sequential\n",
    "from keras.layers import Dense, Activation\n",
    "from keras.optimizers import SGD, Adam\n",
    "from keras.models import load_model\n",
    "\n",
    "from sklearn.preprocessing import MinMaxScaler\n",
    "from sklearn.model_selection import train_test_split\n",
    "from sklearn.metrics import r2_score\n",
    "from sklearn.metrics import mean_squared_error\n",
    "\n",
    "import pickle\n",
    "import re\n",
    "from sklearn.externals import joblib\n",
    "import warnings\n",
    "warnings.filterwarnings(\"ignore\")\n",
    "\n",
    "import matplotlib.pyplot as plt\n",
    "import seaborn as sns\n",
    "%matplotlib inline\n",
    "\n",
    "import src.utils as utils"
   ]
  },
  {
   "cell_type": "markdown",
   "metadata": {},
   "source": [
    "# Condos"
   ]
  },
  {
   "cell_type": "code",
   "execution_count": 2,
   "metadata": {},
   "outputs": [
    {
     "name": "stdout",
     "output_type": "stream",
     "text": [
      "Number of features from zillow:  10\n",
      "Number of features from redfin:  20\n",
      "Number of features from images:  2048\n",
      "Number of features from remarks:  20\n",
      "Number of training samples:  36842\n",
      "Number of validation samples:  4094\n"
     ]
    }
   ],
   "source": [
    "# Condos\n",
    "data_filename = 'data/features/CON_feats_remarks.pkl'\n",
    "\n",
    "response_col = 'SOLDPRICE'\n",
    "test_size = 0.1\n",
    "random_state = 9001\n",
    "\n",
    "# read in data \n",
    "df = utils.read_preprocess_df(data_filename, response_col=response_col)\n",
    "\n",
    "# test train split\n",
    "X_train_dict, X_val_dict, y_train, y_val = utils.split_normalize_df(df=df, response_col=response_col, test_size=test_size, random_state=random_state)"
   ]
  },
  {
   "cell_type": "markdown",
   "metadata": {},
   "source": [
    "## Zillow "
   ]
  },
  {
   "cell_type": "code",
   "execution_count": 3,
   "metadata": {},
   "outputs": [],
   "source": [
    "# zillow models\n",
    "train_features = X_train_dict['zillow']\n",
    "val_features = X_val_dict['zillow']\n",
    "\n",
    "# model file names\n",
    "ridge = 'models/soldprice/data_models/condo_price_zillow_ridge.pkl'\n",
    "xgboost = 'models/soldprice/data_models/condo_price_zillow_XGBoost.pkl'\n",
    "lgbm = 'models/soldprice/data_models/condo_price_zillow_LGBM.pkl'\n",
    "\n",
    "model_filenames = [ridge, xgboost, lgbm]\n",
    "\n",
    "new_train_features = utils.generate_ensemble_features(model_filenames, train_features)\n",
    "new_val_features = utils.generate_ensemble_features(model_filenames, val_features)"
   ]
  },
  {
   "cell_type": "code",
   "execution_count": 4,
   "metadata": {},
   "outputs": [
    {
     "name": "stdout",
     "output_type": "stream",
     "text": [
      "LinearRegression(copy_X=True, fit_intercept=True, n_jobs=1, normalize=False)\n",
      "----- Training scores -----\n",
      "R2 on log scale:  0.9770709789938143\n",
      "MAE on log scale:  0.08293147045887168\n",
      "MAE on original scale:  39276.541893723486\n",
      "----- Validation scores -----\n",
      "R2 on log scale:  0.9358461493224051\n",
      "MAE on log scale:  0.12716408270035465\n",
      "MAE on original scale:  63049.58397297901\n"
     ]
    }
   ],
   "source": [
    "filename = 'models/soldprice/ensemble_models/condo_price_zillow.pkl'\n",
    "model = LinearRegression()\n",
    "\n",
    "# train and save model\n",
    "utils.train_save_model(model, X=new_train_features, y=y_train, filename=filename)\n",
    "# load savced model and evaluate model performance\n",
    "utils.load_eval_model(filename=filename, X_train=new_train_features, X_val=new_val_features, y_train=y_train, y_val=y_val)"
   ]
  },
  {
   "cell_type": "markdown",
   "metadata": {},
   "source": [
    "## Zillow + Redfin"
   ]
  },
  {
   "cell_type": "code",
   "execution_count": 5,
   "metadata": {},
   "outputs": [],
   "source": [
    "# zillow + redfin models\n",
    "train_features = X_train_dict['zillow_redfin']\n",
    "val_features = X_val_dict['zillow_redfin']\n",
    "\n",
    "# model file names\n",
    "ridge = 'models/soldprice/data_models/condo_price_zillow-redfin_ridge.pkl'\n",
    "xgboost = 'models/soldprice/data_models/condo_price_zillow-redfin_XGBoost.pkl'\n",
    "lgbm = 'models/soldprice/data_models/condo_price_zillow-redfin_LGBM.pkl'\n",
    "\n",
    "model_filenames = [ridge, xgboost, lgbm]\n",
    "\n",
    "new_train_features = utils.generate_ensemble_features(model_filenames, train_features)\n",
    "new_val_features = utils.generate_ensemble_features(model_filenames, val_features)"
   ]
  },
  {
   "cell_type": "code",
   "execution_count": 6,
   "metadata": {},
   "outputs": [
    {
     "name": "stdout",
     "output_type": "stream",
     "text": [
      "LinearRegression(copy_X=True, fit_intercept=True, n_jobs=1, normalize=False)\n",
      "----- Training scores -----\n",
      "R2 on log scale:  0.9872015695369737\n",
      "MAE on log scale:  0.056293575670782\n",
      "MAE on original scale:  26143.74749291712\n",
      "----- Validation scores -----\n",
      "R2 on log scale:  0.9465467733790236\n",
      "MAE on log scale:  0.1139449257351419\n",
      "MAE on original scale:  56211.03081559749\n"
     ]
    }
   ],
   "source": [
    "filename = 'models/soldprice/ensemble_models/condo_price_zillow-redfin.pkl'\n",
    "model = LinearRegression()\n",
    "\n",
    "# train and save model\n",
    "utils.train_save_model(model, X=new_train_features, y=y_train, filename=filename)\n",
    "# load savced model and evaluate model performance\n",
    "utils.load_eval_model(filename=filename, X_train=new_train_features, X_val=new_val_features, y_train=y_train, y_val=y_val)"
   ]
  },
  {
   "cell_type": "markdown",
   "metadata": {},
   "source": [
    "## Zillow + Redfin / Images"
   ]
  },
  {
   "cell_type": "code",
   "execution_count": 7,
   "metadata": {},
   "outputs": [],
   "source": [
    "# zillow + redfin models\n",
    "train_features = X_train_dict['zillow_redfin']\n",
    "val_features = X_val_dict['zillow_redfin']\n",
    "\n",
    "# model file names\n",
    "ridge = 'models/soldprice/data_models/condo_price_zillow-redfin_ridge.pkl'\n",
    "xgboost = 'models/soldprice/data_models/condo_price_zillow-redfin_XGBoost.pkl'\n",
    "lgbm = 'models/soldprice/data_models/condo_price_zillow-redfin_LGBM.pkl'\n",
    "\n",
    "model_filenames = [ridge, xgboost, lgbm]\n",
    "\n",
    "X_train_zilred = utils.generate_ensemble_features(model_filenames, train_features)\n",
    "X_val_zilred = utils.generate_ensemble_features(model_filenames, val_features)\n",
    "\n",
    "# image models\n",
    "train_features = X_train_dict['img']\n",
    "val_features = X_val_dict['img']\n",
    "\n",
    "# model file names\n",
    "img_ridge = 'models/soldprice/image_models/condo_price_img_ridge.pkl'\n",
    "img_lgbm = 'models/soldprice/image_models/condo_price_img_LGBM.pkl'\n",
    "img_nn = 'models/soldprice/image_models/condo_price_img_nn.h5'\n",
    "\n",
    "img_model_filenames = [img_ridge, img_lgbm, img_nn]\n",
    "\n",
    "X_train_img = utils.generate_ensemble_features(img_model_filenames, train_features)\n",
    "X_val_img = utils.generate_ensemble_features(img_model_filenames, val_features)\n",
    "\n",
    "new_train_features = pd.concat([X_train_zilred, X_train_img], axis=1)\n",
    "new_val_features = pd.concat([X_val_zilred, X_val_img], axis=1)"
   ]
  },
  {
   "cell_type": "code",
   "execution_count": 8,
   "metadata": {},
   "outputs": [
    {
     "name": "stdout",
     "output_type": "stream",
     "text": [
      "LinearRegression(copy_X=True, fit_intercept=True, n_jobs=1, normalize=False)\n",
      "----- Training scores -----\n",
      "R2 on log scale:  0.987675306965182\n",
      "MAE on log scale:  0.05472775981973835\n",
      "MAE on original scale:  25826.53708718056\n",
      "----- Validation scores -----\n",
      "R2 on log scale:  0.9487411960406639\n",
      "MAE on log scale:  0.11068116930198636\n",
      "MAE on original scale:  55161.96707491294\n"
     ]
    }
   ],
   "source": [
    "filename = 'models/soldprice/ensemble_models/condo_price_zillow-redfin_img.pkl'\n",
    "model = LinearRegression()\n",
    "\n",
    "# train and save model\n",
    "utils.train_save_model(model, X=new_train_features, y=y_train, filename=filename)\n",
    "# load savced model and evaluate model performance\n",
    "utils.load_eval_model(filename=filename, X_train=new_train_features, X_val=new_val_features, y_train=y_train, y_val=y_val)"
   ]
  },
  {
   "cell_type": "markdown",
   "metadata": {},
   "source": [
    "## Zillow + Remarks"
   ]
  },
  {
   "cell_type": "code",
   "execution_count": 9,
   "metadata": {},
   "outputs": [],
   "source": [
    "# zillow + redfin models\n",
    "train_features = X_train_dict['zillow_remarks']\n",
    "val_features = X_val_dict['zillow_remarks']\n",
    "\n",
    "# model file names\n",
    "ridge = 'models/soldprice/data_models/condo_price_zillow-remarks_ridge.pkl'\n",
    "xgboost = 'models/soldprice/data_models/condo_price_zillow-remarks_XGBoost.pkl'\n",
    "lgbm = 'models/soldprice/data_models/condo_price_zillow-remarks_LGBM.pkl'\n",
    "\n",
    "model_filenames = [ridge, xgboost, lgbm]\n",
    "\n",
    "new_train_features = utils.generate_ensemble_features(model_filenames, train_features)\n",
    "new_val_features = utils.generate_ensemble_features(model_filenames, val_features)"
   ]
  },
  {
   "cell_type": "code",
   "execution_count": 10,
   "metadata": {},
   "outputs": [
    {
     "name": "stdout",
     "output_type": "stream",
     "text": [
      "LinearRegression(copy_X=True, fit_intercept=True, n_jobs=1, normalize=False)\n",
      "----- Training scores -----\n",
      "R2 on log scale:  0.9902656313300511\n",
      "MAE on log scale:  0.04789157698570431\n",
      "MAE on original scale:  22882.34761821519\n",
      "----- Validation scores -----\n",
      "R2 on log scale:  0.9417857172419306\n",
      "MAE on log scale:  0.12553223439604957\n",
      "MAE on original scale:  61789.05129383452\n"
     ]
    }
   ],
   "source": [
    "filename = 'models/soldprice/ensemble_models/condo_price_zillow-remarks.pkl'\n",
    "model = LinearRegression()\n",
    "\n",
    "# train and save model\n",
    "utils.train_save_model(model, X=new_train_features, y=y_train, filename=filename)\n",
    "# load savced model and evaluate model performance\n",
    "utils.load_eval_model(filename=filename, X_train=new_train_features, X_val=new_val_features, y_train=y_train, y_val=y_val)"
   ]
  },
  {
   "cell_type": "markdown",
   "metadata": {},
   "source": [
    "## Zillow + Redfin + Remarks"
   ]
  },
  {
   "cell_type": "code",
   "execution_count": 11,
   "metadata": {},
   "outputs": [],
   "source": [
    "# zillow + redfin models\n",
    "train_features = X_train_dict['zillow_redfin_remarks']\n",
    "val_features = X_val_dict['zillow_redfin_remarks']\n",
    "\n",
    "# model file names\n",
    "ridge = 'models/soldprice/data_models/condo_price_zillow-redfin-remarks_ridge.pkl'\n",
    "xgboost = 'models/soldprice/data_models/condo_price_zillow-redfin-remarks_XGBoost.pkl'\n",
    "lgbm = 'models/soldprice/data_models/condo_price_zillow-redfin-remarks_LGBM.pkl'\n",
    "\n",
    "model_filenames = [ridge, xgboost, lgbm]\n",
    "\n",
    "new_train_features = utils.generate_ensemble_features(model_filenames, train_features)\n",
    "new_val_features = utils.generate_ensemble_features(model_filenames, val_features)"
   ]
  },
  {
   "cell_type": "code",
   "execution_count": 12,
   "metadata": {},
   "outputs": [
    {
     "name": "stdout",
     "output_type": "stream",
     "text": [
      "LinearRegression(copy_X=True, fit_intercept=True, n_jobs=1, normalize=False)\n",
      "----- Training scores -----\n",
      "R2 on log scale:  0.9894383123318782\n",
      "MAE on log scale:  0.05804396351855273\n",
      "MAE on original scale:  27769.000150056254\n",
      "----- Validation scores -----\n",
      "R2 on log scale:  0.9468740564064093\n",
      "MAE on log scale:  0.11765100411973349\n",
      "MAE on original scale:  57442.09678942026\n"
     ]
    }
   ],
   "source": [
    "filename = 'models/soldprice/ensemble_models/condo_price_zillow-redfin-remarks.pkl'\n",
    "model = LinearRegression()\n",
    "\n",
    "# train and save model\n",
    "utils.train_save_model(model, X=new_train_features, y=y_train, filename=filename)\n",
    "# load savced model and evaluate model performance\n",
    "utils.load_eval_model(filename=filename, X_train=new_train_features, X_val=new_val_features, y_train=y_train, y_val=y_val)"
   ]
  },
  {
   "cell_type": "markdown",
   "metadata": {},
   "source": [
    "## Zillow + Redfin + Remarks / Images"
   ]
  },
  {
   "cell_type": "code",
   "execution_count": 13,
   "metadata": {},
   "outputs": [],
   "source": [
    "# zillow + redfin models\n",
    "train_features = X_train_dict['zillow_redfin_remarks']\n",
    "val_features = X_val_dict['zillow_redfin_remarks']\n",
    "\n",
    "# model file names\n",
    "ridge = 'models/soldprice/data_models/condo_price_zillow-redfin-remarks_ridge.pkl'\n",
    "xgboost = 'models/soldprice/data_models/condo_price_zillow-redfin-remarks_XGBoost.pkl'\n",
    "lgbm = 'models/soldprice/data_models/condo_price_zillow-redfin-remarks_LGBM.pkl'\n",
    "\n",
    "model_filenames = [ridge, xgboost, lgbm]\n",
    "\n",
    "X_train_zilredrmk = utils.generate_ensemble_features(model_filenames, train_features)\n",
    "X_val_zilredrmk = utils.generate_ensemble_features(model_filenames, val_features)\n",
    "\n",
    "# image models\n",
    "train_features = X_train_dict['img']\n",
    "val_features = X_val_dict['img']\n",
    "\n",
    "# model file names\n",
    "img_ridge = 'models/soldprice/image_models/condo_price_img_ridge.pkl'\n",
    "img_lgbm = 'models/soldprice/image_models/condo_price_img_LGBM.pkl'\n",
    "img_nn = 'models/soldprice/image_models/condo_price_img_nn.h5'\n",
    "\n",
    "img_model_filenames = [img_ridge, img_lgbm, img_nn]\n",
    "\n",
    "X_train_img = utils.generate_ensemble_features(img_model_filenames, train_features)\n",
    "X_val_img = utils.generate_ensemble_features(img_model_filenames, val_features)\n",
    "\n",
    "\n",
    "new_train_features = pd.concat([X_train_zilredrmk, X_train_img], axis=1)\n",
    "new_val_features = pd.concat([X_val_zilredrmk, X_val_img], axis=1)"
   ]
  },
  {
   "cell_type": "code",
   "execution_count": 14,
   "metadata": {},
   "outputs": [
    {
     "name": "stdout",
     "output_type": "stream",
     "text": [
      "LinearRegression(copy_X=True, fit_intercept=True, n_jobs=1, normalize=False)\n",
      "----- Training scores -----\n",
      "R2 on log scale:  0.9899918233287566\n",
      "MAE on log scale:  0.05631835852917399\n",
      "MAE on original scale:  27492.519217898032\n",
      "----- Validation scores -----\n",
      "R2 on log scale:  0.9480963429251249\n",
      "MAE on log scale:  0.11531666716356166\n",
      "MAE on original scale:  56973.9875373285\n"
     ]
    }
   ],
   "source": [
    "filename = 'models/soldprice/ensemble_models/condo_price_zillow-redfin-remarks_img.pkl'\n",
    "model = LinearRegression()\n",
    "\n",
    "# train and save model\n",
    "utils.train_save_model(model, X=new_train_features, y=y_train, filename=filename)\n",
    "# load savced model and evaluate model performance\n",
    "utils.load_eval_model(filename=filename, X_train=new_train_features, X_val=new_val_features, y_train=y_train, y_val=y_val)"
   ]
  },
  {
   "cell_type": "markdown",
   "metadata": {},
   "source": [
    "# Multi Families"
   ]
  },
  {
   "cell_type": "code",
   "execution_count": 15,
   "metadata": {},
   "outputs": [
    {
     "name": "stdout",
     "output_type": "stream",
     "text": [
      "Number of features from zillow:  10\n",
      "Number of features from redfin:  20\n",
      "Number of features from images:  2048\n",
      "Number of features from remarks:  20\n",
      "Number of training samples:  11965\n",
      "Number of validation samples:  1330\n"
     ]
    }
   ],
   "source": [
    "data_filename = 'data/features/MF_feats_remarks.pkl'\n",
    "response_col = 'SOLDPRICE'\n",
    "test_size = 0.1\n",
    "random_state = 9001\n",
    "\n",
    "# read in data \n",
    "df = utils.read_preprocess_df(data_filename, response_col=response_col)\n",
    "\n",
    "# test train split\n",
    "X_train_dict, X_val_dict, y_train, y_val = utils.split_normalize_df(df=df, response_col=response_col, test_size=test_size, random_state=random_state)"
   ]
  },
  {
   "cell_type": "markdown",
   "metadata": {},
   "source": [
    "## Zillow"
   ]
  },
  {
   "cell_type": "code",
   "execution_count": 16,
   "metadata": {},
   "outputs": [],
   "source": [
    "# zillow models\n",
    "train_features = X_train_dict['zillow']\n",
    "val_features = X_val_dict['zillow']\n",
    "\n",
    "# model file names\n",
    "ridge = 'models/soldprice/data_models/mf_price_zillow_ridge.pkl'\n",
    "xgboost = 'models/soldprice/data_models/mf_price_zillow_XGBoost.pkl'\n",
    "lgbm = 'models/soldprice/data_models/mf_price_zillow_LGBM.pkl'\n",
    "\n",
    "model_filenames = [ridge, xgboost, lgbm]\n",
    "\n",
    "new_train_features = utils.generate_ensemble_features(model_filenames, train_features)\n",
    "new_val_features = utils.generate_ensemble_features(model_filenames, val_features)"
   ]
  },
  {
   "cell_type": "code",
   "execution_count": 17,
   "metadata": {},
   "outputs": [
    {
     "name": "stdout",
     "output_type": "stream",
     "text": [
      "LinearRegression(copy_X=True, fit_intercept=True, n_jobs=1, normalize=False)\n",
      "----- Training scores -----\n",
      "R2 on log scale:  0.9027004422624682\n",
      "MAE on log scale:  0.17135323267619057\n",
      "MAE on original scale:  75952.14815279737\n",
      "----- Validation scores -----\n",
      "R2 on log scale:  0.7818259251270351\n",
      "MAE on log scale:  0.23125811479508848\n",
      "MAE on original scale:  102274.21503579343\n"
     ]
    }
   ],
   "source": [
    "filename = 'models/soldprice/ensemble_models/mf_price_zillow.pkl'\n",
    "model = LinearRegression()\n",
    "\n",
    "# train and save model\n",
    "utils.train_save_model(model, X=new_train_features, y=y_train, filename=filename)\n",
    "# load savced model and evaluate model performance\n",
    "utils.load_eval_model(filename=filename, X_train=new_train_features, X_val=new_val_features, y_train=y_train, y_val=y_val)"
   ]
  },
  {
   "cell_type": "markdown",
   "metadata": {},
   "source": [
    "## Zillow + Redfin"
   ]
  },
  {
   "cell_type": "code",
   "execution_count": 18,
   "metadata": {},
   "outputs": [],
   "source": [
    "# zillow + redfin models\n",
    "train_features = X_train_dict['zillow_redfin']\n",
    "val_features = X_val_dict['zillow_redfin']\n",
    "\n",
    "# model file names\n",
    "ridge = 'models/soldprice/data_models/mf_price_zillow-redfin_ridge.pkl'\n",
    "xgboost = 'models/soldprice/data_models/mf_price_zillow-redfin_XGBoost.pkl'\n",
    "lgbm = 'models/soldprice/data_models/mf_price_zillow-redfin_LGBM.pkl'\n",
    "\n",
    "model_filenames = [ridge, xgboost, lgbm]\n",
    "\n",
    "new_train_features = utils.generate_ensemble_features(model_filenames, train_features)\n",
    "new_val_features = utils.generate_ensemble_features(model_filenames, val_features)"
   ]
  },
  {
   "cell_type": "code",
   "execution_count": 19,
   "metadata": {},
   "outputs": [
    {
     "name": "stdout",
     "output_type": "stream",
     "text": [
      "LinearRegression(copy_X=True, fit_intercept=True, n_jobs=1, normalize=False)\n",
      "----- Training scores -----\n",
      "R2 on log scale:  0.930253658634392\n",
      "MAE on log scale:  0.1456717206921096\n",
      "MAE on original scale:  66506.33034253815\n",
      "----- Validation scores -----\n",
      "R2 on log scale:  0.8065647889361993\n",
      "MAE on log scale:  0.22189878710806116\n",
      "MAE on original scale:  95183.12813496303\n"
     ]
    }
   ],
   "source": [
    "filename = 'models/soldprice/ensemble_models/mf_price_zillow-redfin.pkl'\n",
    "model = LinearRegression()\n",
    "\n",
    "# train and save model\n",
    "utils.train_save_model(model, X=new_train_features, y=y_train, filename=filename)\n",
    "# load savced model and evaluate model performance\n",
    "utils.load_eval_model(filename=filename, X_train=new_train_features, X_val=new_val_features, y_train=y_train, y_val=y_val)"
   ]
  },
  {
   "cell_type": "markdown",
   "metadata": {},
   "source": [
    "## Zillow + Redfin / Images"
   ]
  },
  {
   "cell_type": "code",
   "execution_count": 20,
   "metadata": {},
   "outputs": [],
   "source": [
    "# zillow + redfin models\n",
    "train_features = X_train_dict['zillow_redfin']\n",
    "val_features = X_val_dict['zillow_redfin']\n",
    "\n",
    "# model file names\n",
    "ridge = 'models/soldprice/data_models/mf_price_zillow-redfin_ridge.pkl'\n",
    "xgboost = 'models/soldprice/data_models/mf_price_zillow-redfin_XGBoost.pkl'\n",
    "lgbm = 'models/soldprice/data_models/mf_price_zillow-redfin_LGBM.pkl'\n",
    "\n",
    "model_filenames = [ridge, xgboost, lgbm]\n",
    "\n",
    "X_train_zilred = utils.generate_ensemble_features(model_filenames, train_features)\n",
    "X_val_zilred = utils.generate_ensemble_features(model_filenames, val_features)\n",
    "\n",
    "# image models\n",
    "train_features = X_train_dict['img']\n",
    "val_features = X_val_dict['img']\n",
    "\n",
    "# model file names\n",
    "img_ridge = 'models/soldprice/image_models/mf_price_img_ridge.pkl'\n",
    "img_lgbm = 'models/soldprice/image_models/mf_price_img_LGBM.pkl'\n",
    "img_nn = 'models/soldprice/image_models/mf_price_img_nn.h5'\n",
    "\n",
    "img_model_filenames = [img_ridge, img_lgbm, img_nn]\n",
    "\n",
    "X_train_img = utils.generate_ensemble_features(img_model_filenames, train_features)\n",
    "X_val_img = utils.generate_ensemble_features(img_model_filenames, val_features)\n",
    "\n",
    "new_train_features = pd.concat([X_train_zilred, X_train_img], axis=1)\n",
    "new_val_features = pd.concat([X_val_zilred, X_val_img], axis=1)"
   ]
  },
  {
   "cell_type": "code",
   "execution_count": 21,
   "metadata": {},
   "outputs": [
    {
     "name": "stdout",
     "output_type": "stream",
     "text": [
      "LinearRegression(copy_X=True, fit_intercept=True, n_jobs=1, normalize=False)\n",
      "----- Training scores -----\n",
      "R2 on log scale:  0.9471486824675418\n",
      "MAE on log scale:  0.11704951196902373\n",
      "MAE on original scale:  56183.38219709972\n",
      "----- Validation scores -----\n",
      "R2 on log scale:  0.776545832678107\n",
      "MAE on log scale:  0.23883339857670968\n",
      "MAE on original scale:  110294.26905187263\n"
     ]
    }
   ],
   "source": [
    "filename = 'models/soldprice/ensemble_models/mf_price_zillow-redfin_img.pkl'\n",
    "model = LinearRegression()\n",
    "\n",
    "# train and save model\n",
    "utils.train_save_model(model, X=new_train_features, y=y_train, filename=filename)\n",
    "# load savced model and evaluate model performance\n",
    "utils.load_eval_model(filename=filename, X_train=new_train_features, X_val=new_val_features, y_train=y_train, y_val=y_val)"
   ]
  },
  {
   "cell_type": "markdown",
   "metadata": {},
   "source": [
    "## Zillow + Remarks"
   ]
  },
  {
   "cell_type": "code",
   "execution_count": 22,
   "metadata": {},
   "outputs": [],
   "source": [
    "# zillow models\n",
    "train_features = X_train_dict['zillow_remarks']\n",
    "val_features = X_val_dict['zillow_remarks']\n",
    "\n",
    "# model file names\n",
    "ridge = 'models/soldprice/data_models/mf_price_zillow-remarks_ridge.pkl'\n",
    "xgboost = 'models/soldprice/data_models/mf_price_zillow-remarks_XGBoost.pkl'\n",
    "lgbm = 'models/soldprice/data_models/mf_price_zillow-remarks_LGBM.pkl'\n",
    "\n",
    "model_filenames = [ridge, xgboost, lgbm]\n",
    "\n",
    "new_train_features = utils.generate_ensemble_features(model_filenames, train_features)\n",
    "new_val_features = utils.generate_ensemble_features(model_filenames, val_features)"
   ]
  },
  {
   "cell_type": "code",
   "execution_count": 23,
   "metadata": {},
   "outputs": [
    {
     "name": "stdout",
     "output_type": "stream",
     "text": [
      "LinearRegression(copy_X=True, fit_intercept=True, n_jobs=1, normalize=False)\n",
      "----- Training scores -----\n",
      "R2 on log scale:  0.9564145854782279\n",
      "MAE on log scale:  0.11450561702492648\n",
      "MAE on original scale:  57115.794783186495\n",
      "----- Validation scores -----\n",
      "R2 on log scale:  0.8412633530056879\n",
      "MAE on log scale:  0.2000494989388186\n",
      "MAE on original scale:  95432.94113230876\n"
     ]
    }
   ],
   "source": [
    "filename = 'models/soldprice/ensemble_models/mf_price_zillow-remarks.pkl'\n",
    "model = LinearRegression()\n",
    "\n",
    "# train and save model\n",
    "utils.train_save_model(model, X=new_train_features, y=y_train, filename=filename)\n",
    "# load savced model and evaluate model performance\n",
    "utils.load_eval_model(filename=filename, X_train=new_train_features, X_val=new_val_features, y_train=y_train, y_val=y_val)"
   ]
  },
  {
   "cell_type": "markdown",
   "metadata": {},
   "source": [
    "## Zillow + Redfin + Remarks"
   ]
  },
  {
   "cell_type": "code",
   "execution_count": 24,
   "metadata": {},
   "outputs": [],
   "source": [
    "# zillow + redfin models\n",
    "train_features = X_train_dict['zillow_redfin_remarks']\n",
    "val_features = X_val_dict['zillow_redfin_remarks']\n",
    "\n",
    "# model file names\n",
    "ridge = 'models/soldprice/data_models/mf_price_zillow-redfin-remarks_ridge.pkl'\n",
    "xgboost = 'models/soldprice/data_models/mf_price_zillow-redfin-remarks_XGBoost.pkl'\n",
    "lgbm = 'models/soldprice/data_models/mf_price_zillow-redfin-remarks_LGBM.pkl'\n",
    "\n",
    "model_filenames = [ridge, xgboost, lgbm]\n",
    "\n",
    "new_train_features = utils.generate_ensemble_features(model_filenames, train_features)\n",
    "new_val_features = utils.generate_ensemble_features(model_filenames, val_features)"
   ]
  },
  {
   "cell_type": "code",
   "execution_count": 25,
   "metadata": {},
   "outputs": [
    {
     "name": "stdout",
     "output_type": "stream",
     "text": [
      "LinearRegression(copy_X=True, fit_intercept=True, n_jobs=1, normalize=False)\n",
      "----- Training scores -----\n",
      "R2 on log scale:  0.9613549877512337\n",
      "MAE on log scale:  0.10687082950530435\n",
      "MAE on original scale:  53881.29413289305\n",
      "----- Validation scores -----\n",
      "R2 on log scale:  0.8491355349702072\n",
      "MAE on log scale:  0.19637866786965497\n",
      "MAE on original scale:  93711.03639775746\n"
     ]
    }
   ],
   "source": [
    "filename = 'models/soldprice/ensemble_models/mf_price_zillow-redfin-remarks.pkl'\n",
    "model = LinearRegression()\n",
    "\n",
    "# train and save model\n",
    "utils.train_save_model(model, X=new_train_features, y=y_train, filename=filename)\n",
    "# load savced model and evaluate model performance\n",
    "utils.load_eval_model(filename=filename, X_train=new_train_features, X_val=new_val_features, y_train=y_train, y_val=y_val)"
   ]
  },
  {
   "cell_type": "markdown",
   "metadata": {},
   "source": [
    "## Zillow + Redfin + Remarks / Images"
   ]
  },
  {
   "cell_type": "code",
   "execution_count": 26,
   "metadata": {},
   "outputs": [],
   "source": [
    "# zillow + redfin models\n",
    "train_features = X_train_dict['zillow_redfin_remarks']\n",
    "val_features = X_val_dict['zillow_redfin_remarks']\n",
    "\n",
    "# model file names\n",
    "ridge = 'models/soldprice/data_models/mf_price_zillow-redfin-remarks_ridge.pkl'\n",
    "xgboost = 'models/soldprice/data_models/mf_price_zillow-redfin-remarks_XGBoost.pkl'\n",
    "lgbm = 'models/soldprice/data_models/mf_price_zillow-redfin-remarks_LGBM.pkl'\n",
    "\n",
    "model_filenames = [ridge, xgboost, lgbm]\n",
    "\n",
    "X_train_zilred = utils.generate_ensemble_features(model_filenames, train_features)\n",
    "X_val_zilred = utils.generate_ensemble_features(model_filenames, val_features)\n",
    "\n",
    "# image models\n",
    "train_features = X_train_dict['img']\n",
    "val_features = X_val_dict['img']\n",
    "\n",
    "# model file names\n",
    "img_ridge = 'models/soldprice/image_models/mf_price_img_ridge.pkl'\n",
    "img_lgbm = 'models/soldprice/image_models/mf_price_img_LGBM.pkl'\n",
    "img_nn = 'models/soldprice/image_models/mf_price_img_nn.h5'\n",
    "\n",
    "img_model_filenames = [img_ridge, img_lgbm, img_nn]\n",
    "\n",
    "X_train_img = utils.generate_ensemble_features(img_model_filenames, train_features)\n",
    "X_val_img = utils.generate_ensemble_features(img_model_filenames, val_features)\n",
    "\n",
    "new_train_features = pd.concat([X_train_zilred, X_train_img], axis=1)\n",
    "new_val_features = pd.concat([X_val_zilred, X_val_img], axis=1)"
   ]
  },
  {
   "cell_type": "code",
   "execution_count": 27,
   "metadata": {},
   "outputs": [
    {
     "name": "stdout",
     "output_type": "stream",
     "text": [
      "LinearRegression(copy_X=True, fit_intercept=True, n_jobs=1, normalize=False)\n",
      "----- Training scores -----\n",
      "R2 on log scale:  0.9668761916169364\n",
      "MAE on log scale:  0.09550969021625136\n",
      "MAE on original scale:  47907.29883272742\n",
      "----- Validation scores -----\n",
      "R2 on log scale:  0.8365160441762507\n",
      "MAE on log scale:  0.20393784006537008\n",
      "MAE on original scale:  98759.78435332692\n"
     ]
    }
   ],
   "source": [
    "filename = 'models/soldprice/ensemble_models/mf_price_zillow-redfin-remarks_img.pkl'\n",
    "model = LinearRegression()\n",
    "\n",
    "# train and save model\n",
    "utils.train_save_model(model, X=new_train_features, y=y_train, filename=filename)\n",
    "# load savced model and evaluate model performance\n",
    "utils.load_eval_model(filename=filename, X_train=new_train_features, X_val=new_val_features, y_train=y_train, y_val=y_val)"
   ]
  },
  {
   "cell_type": "code",
   "execution_count": null,
   "metadata": {},
   "outputs": [],
   "source": []
  }
 ],
 "metadata": {
  "kernelspec": {
   "display_name": "Python 3",
   "language": "python",
   "name": "python3"
  },
  "language_info": {
   "codemirror_mode": {
    "name": "ipython",
    "version": 3
   },
   "file_extension": ".py",
   "mimetype": "text/x-python",
   "name": "python",
   "nbconvert_exporter": "python",
   "pygments_lexer": "ipython3",
   "version": "3.6.4"
  }
 },
 "nbformat": 4,
 "nbformat_minor": 2
}

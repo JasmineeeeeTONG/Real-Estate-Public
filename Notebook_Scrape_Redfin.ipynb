{
 "cells": [
  {
   "cell_type": "code",
   "execution_count": 1,
   "metadata": {
    "collapsed": true
   },
   "outputs": [],
   "source": [
    "import os, sys, time\n",
    "import pandas as pd\n",
    "import json\n",
    "import redfin\n",
    "redfin.BASE_INTERVAL = 0.2 # a coefficient multiplied to all the sleep time, see redfin.py"
   ]
  },
  {
   "cell_type": "code",
   "execution_count": 2,
   "metadata": {
    "collapsed": true
   },
   "outputs": [],
   "source": [
    "def scrape_from_list(scraper, mls_list):\n",
    "    N = len(mls_list)\n",
    "    start_time = time.time()\n",
    "    for i, mls in enumerate(mls_list):\n",
    "        mls = str(mls)\n",
    "        try:\n",
    "            print('{}/{}, {}'.format(i+1, N, mls), end=', ')\n",
    "            if mls not in scraper.properties:\n",
    "                # if mls is not in record, scrape\n",
    "                scraper.get_property_info(mls)\n",
    "                scraper.download_images(\"imgs/\", mls)\n",
    "            else:\n",
    "                print('in record')\n",
    "        except Exception as err:\n",
    "            # when errors are caught, restart the browser, \n",
    "            # delete the incomplete info, \n",
    "            # print out the error message\n",
    "            scraper.quit_browser()\n",
    "            scraper.init_browser()\n",
    "            if mls in scraper.properties:\n",
    "                del scraper.properties[mls]\n",
    "            print(str(err).strip('\\'\\\"'))\n",
    "            continue\n",
    "    scraper.quit_browser()\n",
    "    print(\"total time: \", time.time()-start_time)"
   ]
  },
  {
   "cell_type": "code",
   "execution_count": 3,
   "metadata": {
    "scrolled": true
   },
   "outputs": [
    {
     "name": "stdout",
     "output_type": "stream",
     "text": [
      "13603\n"
     ]
    },
    {
     "data": {
      "text/plain": [
       "0    71590427\n",
       "1    71661835\n",
       "2    71695436\n",
       "3    71701476\n",
       "4    71735686\n",
       "Name: MLSNUM, dtype: int64"
      ]
     },
     "execution_count": 3,
     "metadata": {},
     "output_type": "execute_result"
    }
   ],
   "source": [
    "df = pd.read_csv('../merge_sold/MERGE_MF_SOLD_LESS.csv')\n",
    "mls_list = df['MLSNUM']\n",
    "print(len(mls_list))\n",
    "mls_list[:5]"
   ]
  },
  {
   "cell_type": "code",
   "execution_count": 4,
   "metadata": {},
   "outputs": [
    {
     "data": {
      "text/plain": [
       "320"
      ]
     },
     "execution_count": 4,
     "metadata": {},
     "output_type": "execute_result"
    }
   ],
   "source": [
    "scraper = redfin.Redfin()\n",
    "with open('cache_redfin.json', 'r') as file: # this file contains all the data ever scraped\n",
    "    scraper.properties = json.load(file)\n",
    "len(scraper.properties)"
   ]
  },
  {
   "cell_type": "code",
   "execution_count": 6,
   "metadata": {
    "scrolled": false
   },
   "outputs": [
    {
     "name": "stdout",
     "output_type": "stream",
     "text": [
      "1/50, 71935812, in record\n",
      "2/50, 71935881, in record\n",
      "3/50, 71935892, in record\n",
      "4/50, 71936079, in record\n",
      "5/50, 71936126, in record\n",
      "6/50, 71936194, search clicked\n",
      "Downloading 24 of 24 images\n",
      "7/50, 71936314, search clicked\n",
      "Downloading 1 of 1 images\n",
      "8/50, 71936527, search clicked\n",
      "(\"bad handshake: SysCallError(-1, 'Unexpected EOF')\",)\n",
      "9/50, 71936694, search clicked\n",
      "Downloading 30 of 30 images\n",
      "10/50, 71936791, search clicked\n",
      "Downloading 1 of 1 images\n",
      "11/50, 71936830, search clicked\n",
      "Downloading 18 of 18 images\n",
      "12/50, 71936874, search clicked\n",
      "Message: no such element: Unable to locate element: {\"method\":\"class name\",\"selector\":\"street-address\"}\n",
      "  (Session info: chrome=65.0.3325.181)\n",
      "  (Driver info: chromedriver=2.37.544337 (8c0344a12e552148c185f7d5117db1f28d6c9e85),platform=Mac OS X 10.12.6 x86_64)\n",
      "\n",
      "13/50, 71937118, search clicked\n",
      "Downloading 1 of 1 images\n",
      "14/50, 71937223, search clicked\n",
      "Downloading 17 of 17 images\n",
      "15/50, 71937255, search clicked\n",
      "Downloading 6 of 6 images\n",
      "16/50, 71937417, search clicked\n",
      "list index out of range\n",
      "17/50, 71937437, search clicked\n",
      "Downloading 2 of 2 images\n",
      "18/50, 71937668, search clicked\n",
      "Downloading 28 of 28 images\n",
      "19/50, 71937953, search clicked\n",
      "Downloading 30 of 30 images\n",
      "20/50, 71937989, search clicked\n",
      "Downloading 16 of 16 images\n",
      "21/50, 71938104, search clicked\n",
      "Downloading 21 of 21 images\n",
      "22/50, 71938133, search clicked\n",
      "Downloading 4 of 4 images\n",
      "23/50, 71938195, search clicked\n",
      "Downloading 27 of 27 images\n",
      "24/50, 71938209, search clicked\n",
      "Downloading 1 of 1 images\n",
      "25/50, 71938260, search clicked\n",
      "Downloading 7 of 7 images\n",
      "26/50, 71938328, search clicked\n",
      "Downloading 30 of 30 images\n",
      "27/50, 71938575, search clicked\n",
      "Downloading 2 of 2 images\n",
      "28/50, 71938674, search clicked\n",
      "Message: no such element: Unable to locate element: {\"method\":\"class name\",\"selector\":\"street-address\"}\n",
      "  (Session info: chrome=65.0.3325.181)\n",
      "  (Driver info: chromedriver=2.37.544337 (8c0344a12e552148c185f7d5117db1f28d6c9e85),platform=Mac OS X 10.12.6 x86_64)\n",
      "\n",
      "29/50, 71938701, search clicked\n",
      "Downloading 23 of 23 images\n",
      "30/50, 71938876, search clicked\n",
      "Message: no such element: Unable to locate element: {\"method\":\"class name\",\"selector\":\"street-address\"}\n",
      "  (Session info: chrome=65.0.3325.181)\n",
      "  (Driver info: chromedriver=2.37.544337 (8c0344a12e552148c185f7d5117db1f28d6c9e85),platform=Mac OS X 10.12.6 x86_64)\n",
      "\n",
      "31/50, 71939105, search clicked\n",
      "Downloading 25 of 25 images\n",
      "32/50, 71939148, search clicked\n",
      "Downloading 12 of 12 images\n",
      "33/50, 71939268, search clicked\n",
      "Downloading 1 of 1 images\n",
      "34/50, 71939507, search clicked\n",
      "Downloading 2 of 2 images\n",
      "35/50, 71939689, search clicked\n",
      "Downloading 1 of 1 images\n",
      "36/50, 71939713, search clicked\n",
      "Downloading 16 of 16 images\n",
      "37/50, 71939797, search clicked\n",
      "Downloading 4 of 4 images\n",
      "38/50, 71939933, search clicked\n",
      "Downloading 24 of 24 images\n",
      "39/50, 71940313, Message: invalid element state\n",
      "  (Session info: chrome=65.0.3325.181)\n",
      "  (Driver info: chromedriver=2.37.544337 (8c0344a12e552148c185f7d5117db1f28d6c9e85),platform=Mac OS X 10.12.6 x86_64)\n",
      "\n",
      "40/50, 71940392, search clicked\n",
      "Downloading 16 of 16 images\n",
      "41/50, 71940600, search clicked\n",
      "Downloading 12 of 12 images\n",
      "42/50, 71941280, search clicked\n",
      "(\"bad handshake: SysCallError(-1, 'Unexpected EOF')\",)\n",
      "43/50, 71941770, search clicked\n",
      "Downloading 26 of 26 images\n",
      "44/50, 71941801, search clicked\n",
      "Message: no such element: Unable to locate element: {\"method\":\"class name\",\"selector\":\"img-card\"}\n",
      "  (Session info: chrome=65.0.3325.181)\n",
      "  (Driver info: chromedriver=2.37.544337 (8c0344a12e552148c185f7d5117db1f28d6c9e85),platform=Mac OS X 10.12.6 x86_64)\n",
      "\n",
      "45/50, 71941980, search clicked\n",
      "Downloading 27 of 27 images\n",
      "46/50, 71943144, search clicked\n",
      "Downloading 6 of 6 images\n",
      "47/50, 71945230, search clicked\n",
      "Downloading 14 of 14 images\n",
      "48/50, 71947261, search clicked\n",
      "Downloading 5 of 5 images\n",
      "49/50, 71950254, search clicked\n",
      "Downloading 1 of 1 images\n",
      "50/50, 71953888, search clicked\n",
      "Downloading 1 of 1 images\n",
      "total time:  911.1478989124298\n"
     ]
    }
   ],
   "source": [
    "scrape_from_list(scraper, mls_list[400:450])"
   ]
  },
  {
   "cell_type": "code",
   "execution_count": 7,
   "metadata": {},
   "outputs": [
    {
     "data": {
      "text/plain": [
       "362"
      ]
     },
     "execution_count": 7,
     "metadata": {},
     "output_type": "execute_result"
    }
   ],
   "source": [
    "scraper.quit_browser()\n",
    "with open('cache_redfin.json', 'w') as file:\n",
    "    json.dump(scraper.properties, file)\n",
    "len(scraper.properties)"
   ]
  },
  {
   "cell_type": "code",
   "execution_count": null,
   "metadata": {
    "collapsed": true
   },
   "outputs": [],
   "source": []
  }
 ],
 "metadata": {
  "kernelspec": {
   "display_name": "Python 3",
   "language": "python",
   "name": "python3"
  },
  "language_info": {
   "codemirror_mode": {
    "name": "ipython",
    "version": 3
   },
   "file_extension": ".py",
   "mimetype": "text/x-python",
   "name": "python",
   "nbconvert_exporter": "python",
   "pygments_lexer": "ipython3",
   "version": "3.6.1"
  }
 },
 "nbformat": 4,
 "nbformat_minor": 2
}

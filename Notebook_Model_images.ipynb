{
 "cells": [
  {
   "cell_type": "code",
   "execution_count": 7,
   "metadata": {},
   "outputs": [],
   "source": [
    "import time\n",
    "import pandas as pd\n",
    "import numpy as np\n",
    "\n",
    "from lightgbm import LGBMRegressor\n",
    "from xgboost import XGBRegressor\n",
    "from sklearn.linear_model import RidgeCV\n",
    "from sklearn.linear_model import LassoCV\n",
    "from sklearn import svm\n",
    "from sklearn.neighbors import KNeighborsRegressor\n",
    "from sklearn.model_selection import GridSearchCV\n",
    "\n",
    "import keras\n",
    "from keras.wrappers.scikit_learn import KerasRegressor\n",
    "from keras.models import Sequential\n",
    "from keras.layers import Dense, Activation\n",
    "from keras.optimizers import SGD, Adam\n",
    "from keras.models import load_model\n",
    "\n",
    "from sklearn.preprocessing import MinMaxScaler\n",
    "from sklearn.model_selection import train_test_split\n",
    "from sklearn.metrics import r2_score\n",
    "from sklearn.metrics import mean_squared_error\n",
    "\n",
    "import pickle\n",
    "from sklearn.externals import joblib\n",
    "import warnings\n",
    "warnings.filterwarnings(\"ignore\")\n",
    "\n",
    "import matplotlib.pyplot as plt\n",
    "import seaborn as sns\n",
    "%matplotlib inline\n",
    "\n",
    "import src.utils as utils"
   ]
  },
  {
   "cell_type": "code",
   "execution_count": 2,
   "metadata": {},
   "outputs": [],
   "source": [
    "# NN structure\n",
    "def feedforward_NN(x_train, optimizer, n_nodes, n_layers):\n",
    "    # initialize model\n",
    "    model = Sequential()\n",
    "    \n",
    "    # add first layer\n",
    "    model.add(Dense(n_nodes, input_dim=x_train.shape[1], activation='relu'))\n",
    "    \n",
    "    # add subsequent layers\n",
    "    for layer in range(n_layers-1):\n",
    "        model.add(Dense(n_nodes, activation='relu'))\n",
    "    \n",
    "    # add final layer\n",
    "    model.add(Dense(1, activation='linear')) \n",
    "    \n",
    "    # compile the model using optimizer\n",
    "    model.compile(loss='mean_squared_error',\n",
    "                  optimizer=optimizer,\n",
    "                  metrics=['mse'])\n",
    "    return model"
   ]
  },
  {
   "cell_type": "markdown",
   "metadata": {},
   "source": [
    "# Condos"
   ]
  },
  {
   "cell_type": "code",
   "execution_count": 3,
   "metadata": {},
   "outputs": [],
   "source": [
    "data_filename = 'data/features/CON_feats_remarks.pkl'"
   ]
  },
  {
   "cell_type": "markdown",
   "metadata": {},
   "source": [
    "### Test-Train Split, Response = 'SOLDPRICE'"
   ]
  },
  {
   "cell_type": "code",
   "execution_count": null,
   "metadata": {},
   "outputs": [],
   "source": [
    "response_col = 'SOLDPRICE'\n",
    "test_size = 0.1\n",
    "random_state = 9001\n",
    "\n",
    "# read in data \n",
    "df = utils.read_preprocess_df(data_filename, response_col=response_col)\n",
    "\n",
    "# test train split\n",
    "X_train_dict, X_val_dict, y_train, y_val = utils.split_normalize_df(df=df, response_col=response_col, test_size=test_size, random_state=random_state)"
   ]
  },
  {
   "cell_type": "markdown",
   "metadata": {},
   "source": [
    "### Train models"
   ]
  },
  {
   "cell_type": "code",
   "execution_count": null,
   "metadata": {},
   "outputs": [],
   "source": [
    "train_features = X_train_dict['img']\n",
    "val_features = X_val_dict['img']"
   ]
  },
  {
   "cell_type": "code",
   "execution_count": null,
   "metadata": {},
   "outputs": [],
   "source": [
    "# Ridge\n",
    "filename = 'models/soldprice/image_models/condo_price_img_ridge.pkl'\n",
    "\n",
    "# print(\"Ridge model: \")\n",
    "# t0 = time.time()\n",
    "\n",
    "# # train and save model\n",
    "# model = RidgeCV(alphas=(3.5, 4, 4.5, 5, 5.5))\n",
    "# utils.train_save_model(model, X=train_features, y=y_train, filename=filename)\n",
    "# print(\"training time: \", time.time()-t0)\n",
    "\n",
    "# load savced model and evaluate model performance\n",
    "utils.load_eval_model(filename=filename, X_train=train_features, X_val=val_features, y_train=y_train, y_val=y_val)"
   ]
  },
  {
   "cell_type": "code",
   "execution_count": null,
   "metadata": {},
   "outputs": [],
   "source": [
    "# light gbm\n",
    "filename = 'models/soldprice/image_models/condo_price_img_LGBM.pkl'\n",
    "\n",
    "params = { \n",
    "          'reg_lambda':[10, 100, 1000]\n",
    "        \n",
    "         }\n",
    "\n",
    "print(\"Light GBM model: \")\n",
    "t0 = time.time()\n",
    "\n",
    "# model\n",
    "model = model = LGBMRegressor(random_state=9001, n_estimators=512)\n",
    "grid = GridSearchCV(model, params, verbose=1, n_jobs=-1)\n",
    "\n",
    "# train and save model\n",
    "utils.train_save_model(grid, X=train_features, y=y_train, filename=filename)\n",
    "print(\"training time: \", time.time()-t0)\n",
    "\n",
    "# load savced model and evaluate model performance\n",
    "utils.load_eval_model(filename=filename, X_train=train_features, X_val=val_features, y_train=y_train, y_val=y_val)"
   ]
  },
  {
   "cell_type": "code",
   "execution_count": null,
   "metadata": {},
   "outputs": [],
   "source": [
    "# Feedforward NN\n",
    "N_NODES = 120\n",
    "N_LAYERS = 20\n",
    "\n",
    "OPTIMIZER = Adam(lr=0.001)   \n",
    "EPOCHS = 100\n",
    "BATCH_SIZE = 200\n",
    "\n",
    "filename = 'models/soldprice/image_models/condo_price_img_nn.h5'\n",
    "\n",
    "# # train and save model\n",
    "# model = KerasRegressor(build_fn=feedforward_NN, x_train=train_features, optimizer=OPTIMIZER, n_nodes=N_NODES, n_layers=N_LAYERS, epochs=EPOCHS, batch_size=BATCH_SIZE, verbose=1)\n",
    "# utils.train_save_model(model, X=train_features, y=y_train, filename=filename)\n",
    "\n",
    "# load savced model and evaluate model performance\n",
    "utils.load_eval_model(filename=filename, X_train=train_features, X_val=val_features, y_train=y_train, y_val=y_val)"
   ]
  },
  {
   "cell_type": "markdown",
   "metadata": {},
   "source": [
    "### Test-Train Split, Response = 'DOM'"
   ]
  },
  {
   "cell_type": "code",
   "execution_count": 4,
   "metadata": {},
   "outputs": [
    {
     "name": "stdout",
     "output_type": "stream",
     "text": [
      "Number of features from zillow:  10\n",
      "Number of features from redfin:  20\n",
      "Number of features from images:  2048\n",
      "Number of features from remarks:  20\n",
      "Number of training samples:  36842\n",
      "Number of validation samples:  4094\n"
     ]
    }
   ],
   "source": [
    "response_col = 'DOM'\n",
    "test_size = 0.1\n",
    "random_state = 9001\n",
    "\n",
    "# read in data \n",
    "df = utils.read_preprocess_df(data_filename, response_col=response_col)\n",
    "\n",
    "# test train split\n",
    "X_train_dict, X_val_dict, y_train, y_val = utils.split_normalize_df(df=df, response_col=response_col, test_size=test_size, random_state=random_state)"
   ]
  },
  {
   "cell_type": "markdown",
   "metadata": {},
   "source": [
    "### Train models"
   ]
  },
  {
   "cell_type": "code",
   "execution_count": 5,
   "metadata": {},
   "outputs": [],
   "source": [
    "train_features = X_train_dict['img']\n",
    "val_features = X_val_dict['img']"
   ]
  },
  {
   "cell_type": "code",
   "execution_count": 6,
   "metadata": {},
   "outputs": [
    {
     "name": "stdout",
     "output_type": "stream",
     "text": [
      "Ridge model: \n",
      "training time:  29.37293791770935\n",
      "best alpha:  20.0\n",
      "----- Training scores -----\n",
      "R2 on log scale:  0.14320155577778837\n",
      "MAE on log scale:  0.1919140371289637\n",
      "MAE on original $ scale:  0.6846854531590018\n",
      "----- Validation scores -----\n",
      "R2 on log scale:  0.0971237362055688\n",
      "MAE on log scale:  0.20030665613906531\n",
      "MAE on original $ scale:  0.7139421106196474\n"
     ]
    }
   ],
   "source": [
    "# Ridge\n",
    "filename = 'models/dom/image_models/condo_dom_img_ridge.pkl'\n",
    "\n",
    "print(\"Ridge model: \")\n",
    "t0 = time.time()\n",
    "\n",
    "# train and save model\n",
    "model = RidgeCV(alphas=(4.5, 5, 5.5, 10, 20, 25))\n",
    "utils.train_save_model(model, X=train_features, y=y_train, filename=filename)\n",
    "print(\"training time: \", time.time()-t0)\n",
    "\n",
    "# load savced model and evaluate model performance\n",
    "utils.load_eval_model(filename=filename, X_train=train_features, X_val=val_features, y_train=y_train, y_val=y_val)"
   ]
  },
  {
   "cell_type": "code",
   "execution_count": 9,
   "metadata": {},
   "outputs": [
    {
     "name": "stdout",
     "output_type": "stream",
     "text": [
      "Lasso model: \n",
      "training time:  275.7376449108124\n",
      "LassoCV(alphas=None, copy_X=True, cv=None, eps=0.001, fit_intercept=True,\n",
      "    max_iter=1000, n_alphas=100, n_jobs=1, normalize=False, positive=False,\n",
      "    precompute='auto', random_state=None, selection='cyclic', tol=0.0001,\n",
      "    verbose=False)\n",
      "----- Training scores -----\n",
      "R2 on log scale:  0.12720233802827308\n",
      "MAE on log scale:  0.19353605273144017\n",
      "MAE on original $ scale:  0.690344213061593\n",
      "----- Validation scores -----\n",
      "R2 on log scale:  0.09106463196950354\n",
      "MAE on log scale:  0.20078574946578254\n",
      "MAE on original $ scale:  0.7153442592520158\n"
     ]
    }
   ],
   "source": [
    "# lasso\n",
    "filename = 'models/dom/image_models/condo_dom_img_lasso.pkl'\n",
    "\n",
    "print(\"Lasso model: \")\n",
    "t0 = time.time()\n",
    "\n",
    "# train and save model\n",
    "model = LassoCV()\n",
    "utils.train_save_model(model, X=train_features, y=y_train, filename=filename)\n",
    "print(\"training time: \", time.time()-t0)\n",
    "\n",
    "# load savced model and evaluate model performance\n",
    "utils.load_eval_model(filename=filename, X_train=train_features, X_val=val_features, y_train=y_train, y_val=y_val)"
   ]
  },
  {
   "cell_type": "code",
   "execution_count": 10,
   "metadata": {},
   "outputs": [
    {
     "name": "stdout",
     "output_type": "stream",
     "text": [
      "Light GBM model: \n",
      "LGBMRegressor(boosting_type='gbdt', class_weight=None, colsample_bytree=1.0,\n",
      "       learning_rate=0.1, max_depth=-1, min_child_samples=20,\n",
      "       min_child_weight=0.001, min_split_gain=0.0, n_estimators=512,\n",
      "       n_jobs=-1, num_leaves=31, objective=None, random_state=9001,\n",
      "       reg_alpha=0.0, reg_lambda=1000, silent=True, subsample=1.0,\n",
      "       subsample_for_bin=200000, subsample_freq=1)\n",
      "----- Training scores -----\n",
      "R2 on log scale:  0.5631033943357304\n",
      "MAE on log scale:  0.13450057205378732\n",
      "MAE on original $ scale:  0.48159449139378085\n",
      "----- Validation scores -----\n",
      "R2 on log scale:  0.12991383787019128\n",
      "MAE on log scale:  0.1965076918007279\n",
      "MAE on original $ scale:  0.7005690933015403\n"
     ]
    }
   ],
   "source": [
    "# light gbm\n",
    "filename = 'models/dom/image_models/condo_dom_img_LGBM.pkl'\n",
    "\n",
    "params = {\n",
    "          'reg_lambda':[1000, 1e4, 1e5]\n",
    "         }\n",
    "\n",
    "print(\"Light GBM model: \")\n",
    "# t0 = time.time()\n",
    "\n",
    "# # model\n",
    "# model = model = LGBMRegressor(random_state=9001, n_estimators=512)\n",
    "# grid = GridSearchCV(model, params, verbose=1, n_jobs=-1)\n",
    "\n",
    "# # train and save model\n",
    "# utils.train_save_model(grid, X=train_features, y=y_train, filename=filename)\n",
    "# print(\"training time: \", time.time()-t0)\n",
    "\n",
    "# load savced model and evaluate model performance\n",
    "utils.load_eval_model(filename=filename, X_train=train_features, X_val=val_features, y_train=y_train, y_val=y_val)"
   ]
  },
  {
   "cell_type": "code",
   "execution_count": 14,
   "metadata": {},
   "outputs": [
    {
     "name": "stdout",
     "output_type": "stream",
     "text": [
      "Epoch 1/100\n",
      "36842/36842 [==============================] - 7s 184us/step - loss: 0.1689 - mean_squared_error: 0.1689\n",
      "Epoch 2/100\n",
      "36842/36842 [==============================] - 5s 134us/step - loss: 0.0694 - mean_squared_error: 0.0694\n",
      "Epoch 3/100\n",
      "36842/36842 [==============================] - 5s 133us/step - loss: 0.0697 - mean_squared_error: 0.0697\n",
      "Epoch 4/100\n",
      "36842/36842 [==============================] - 5s 134us/step - loss: 0.0687 - mean_squared_error: 0.0687\n",
      "Epoch 5/100\n",
      "36842/36842 [==============================] - 5s 135us/step - loss: 0.0686 - mean_squared_error: 0.0686\n",
      "Epoch 6/100\n",
      "36842/36842 [==============================] - 5s 135us/step - loss: 0.0685 - mean_squared_error: 0.0685\n",
      "Epoch 7/100\n",
      "36842/36842 [==============================] - 5s 135us/step - loss: 0.0679 - mean_squared_error: 0.0679\n",
      "Epoch 8/100\n",
      "36842/36842 [==============================] - 5s 138us/step - loss: 0.0677 - mean_squared_error: 0.0677\n",
      "Epoch 9/100\n",
      "36842/36842 [==============================] - 5s 135us/step - loss: 0.0672 - mean_squared_error: 0.0672\n",
      "Epoch 10/100\n",
      "36842/36842 [==============================] - 5s 134us/step - loss: 0.0672 - mean_squared_error: 0.0672\n",
      "Epoch 11/100\n",
      "36842/36842 [==============================] - 5s 135us/step - loss: 0.0681 - mean_squared_error: 0.0681\n",
      "Epoch 12/100\n",
      "36842/36842 [==============================] - 5s 135us/step - loss: 0.0675 - mean_squared_error: 0.0675\n",
      "Epoch 13/100\n",
      "36842/36842 [==============================] - 5s 135us/step - loss: 0.0676 - mean_squared_error: 0.0676\n",
      "Epoch 14/100\n",
      "36842/36842 [==============================] - 5s 136us/step - loss: 0.0670 - mean_squared_error: 0.0670\n",
      "Epoch 15/100\n",
      "36842/36842 [==============================] - 5s 135us/step - loss: 0.0667 - mean_squared_error: 0.0667\n",
      "Epoch 16/100\n",
      "36842/36842 [==============================] - 5s 141us/step - loss: 0.0664 - mean_squared_error: 0.0664\n",
      "Epoch 17/100\n",
      "36842/36842 [==============================] - 5s 137us/step - loss: 0.0671 - mean_squared_error: 0.0671\n",
      "Epoch 18/100\n",
      "36842/36842 [==============================] - 5s 129us/step - loss: 0.0671 - mean_squared_error: 0.0671\n",
      "Epoch 19/100\n",
      "36842/36842 [==============================] - 5s 128us/step - loss: 0.0663 - mean_squared_error: 0.0663\n",
      "Epoch 20/100\n",
      "36842/36842 [==============================] - 5s 130us/step - loss: 0.0664 - mean_squared_error: 0.0664\n",
      "Epoch 21/100\n",
      "36842/36842 [==============================] - 5s 123us/step - loss: 0.0664 - mean_squared_error: 0.0664\n",
      "Epoch 22/100\n",
      "36842/36842 [==============================] - 5s 136us/step - loss: 0.0658 - mean_squared_error: 0.0658\n",
      "Epoch 23/100\n",
      "36842/36842 [==============================] - 6s 150us/step - loss: 0.0662 - mean_squared_error: 0.0662\n",
      "Epoch 24/100\n",
      "36842/36842 [==============================] - 5s 143us/step - loss: 0.0664 - mean_squared_error: 0.0664\n",
      "Epoch 25/100\n",
      "36842/36842 [==============================] - 5s 133us/step - loss: 0.0658 - mean_squared_error: 0.0658\n",
      "Epoch 26/100\n",
      "36842/36842 [==============================] - 7s 193us/step - loss: 0.0656 - mean_squared_error: 0.0656\n",
      "Epoch 27/100\n",
      "36842/36842 [==============================] - 5s 141us/step - loss: 0.0646 - mean_squared_error: 0.0646\n",
      "Epoch 28/100\n",
      "36842/36842 [==============================] - 5s 134us/step - loss: 0.0659 - mean_squared_error: 0.0659\n",
      "Epoch 29/100\n",
      "36842/36842 [==============================] - 5s 134us/step - loss: 0.0659 - mean_squared_error: 0.0659\n",
      "Epoch 30/100\n",
      "36842/36842 [==============================] - 5s 134us/step - loss: 0.0662 - mean_squared_error: 0.0662\n",
      "Epoch 31/100\n",
      "36842/36842 [==============================] - 5s 134us/step - loss: 0.0651 - mean_squared_error: 0.0651\n",
      "Epoch 32/100\n",
      "36842/36842 [==============================] - 5s 136us/step - loss: 0.0647 - mean_squared_error: 0.0647\n",
      "Epoch 33/100\n",
      "36842/36842 [==============================] - 5s 133us/step - loss: 0.0654 - mean_squared_error: 0.0654\n",
      "Epoch 34/100\n",
      "36842/36842 [==============================] - 5s 135us/step - loss: 0.0646 - mean_squared_error: 0.0646\n",
      "Epoch 35/100\n",
      "36842/36842 [==============================] - 5s 134us/step - loss: 0.0651 - mean_squared_error: 0.0651\n",
      "Epoch 36/100\n",
      "36842/36842 [==============================] - 5s 133us/step - loss: 0.0657 - mean_squared_error: 0.0657\n",
      "Epoch 37/100\n",
      "36842/36842 [==============================] - 5s 134us/step - loss: 0.0651 - mean_squared_error: 0.0651\n",
      "Epoch 38/100\n",
      "36842/36842 [==============================] - 5s 134us/step - loss: 0.0654 - mean_squared_error: 0.0654\n",
      "Epoch 39/100\n",
      "36842/36842 [==============================] - 5s 134us/step - loss: 0.0658 - mean_squared_error: 0.0658\n",
      "Epoch 40/100\n",
      "36842/36842 [==============================] - 5s 135us/step - loss: 0.0645 - mean_squared_error: 0.0645\n",
      "Epoch 41/100\n",
      "36842/36842 [==============================] - 5s 135us/step - loss: 0.0649 - mean_squared_error: 0.0649\n",
      "Epoch 42/100\n",
      "36842/36842 [==============================] - 5s 135us/step - loss: 0.0646 - mean_squared_error: 0.0646\n",
      "Epoch 43/100\n",
      "36842/36842 [==============================] - 5s 135us/step - loss: 0.0643 - mean_squared_error: 0.0643\n",
      "Epoch 44/100\n",
      "36842/36842 [==============================] - 5s 135us/step - loss: 0.0649 - mean_squared_error: 0.0649\n",
      "Epoch 45/100\n",
      "36842/36842 [==============================] - 5s 133us/step - loss: 0.0645 - mean_squared_error: 0.0645\n",
      "Epoch 46/100\n",
      "36842/36842 [==============================] - 5s 135us/step - loss: 0.0639 - mean_squared_error: 0.0639\n",
      "Epoch 47/100\n",
      "36842/36842 [==============================] - 5s 134us/step - loss: 0.0644 - mean_squared_error: 0.0644\n",
      "Epoch 48/100\n",
      "36842/36842 [==============================] - 5s 133us/step - loss: 0.0640 - mean_squared_error: 0.0640\n",
      "Epoch 49/100\n",
      "36842/36842 [==============================] - 5s 135us/step - loss: 0.0647 - mean_squared_error: 0.0647\n",
      "Epoch 50/100\n",
      "36842/36842 [==============================] - 5s 136us/step - loss: 0.0645 - mean_squared_error: 0.0645\n",
      "Epoch 51/100\n",
      "36842/36842 [==============================] - 5s 136us/step - loss: 0.0639 - mean_squared_error: 0.0639\n",
      "Epoch 52/100\n",
      "36842/36842 [==============================] - 5s 135us/step - loss: 0.0636 - mean_squared_error: 0.0636\n",
      "Epoch 53/100\n",
      "36842/36842 [==============================] - 5s 135us/step - loss: 0.0636 - mean_squared_error: 0.0636\n",
      "Epoch 54/100\n",
      "36842/36842 [==============================] - 5s 135us/step - loss: 0.0638 - mean_squared_error: 0.0638\n",
      "Epoch 55/100\n",
      "36842/36842 [==============================] - 5s 135us/step - loss: 0.0639 - mean_squared_error: 0.0639\n",
      "Epoch 56/100\n",
      "36842/36842 [==============================] - 5s 136us/step - loss: 0.0643 - mean_squared_error: 0.0643\n",
      "Epoch 57/100\n",
      "36842/36842 [==============================] - 5s 135us/step - loss: 0.0636 - mean_squared_error: 0.0636\n",
      "Epoch 58/100\n",
      "36842/36842 [==============================] - 5s 134us/step - loss: 0.0633 - mean_squared_error: 0.0633\n",
      "Epoch 59/100\n",
      "36842/36842 [==============================] - 5s 135us/step - loss: 0.0638 - mean_squared_error: 0.0638\n",
      "Epoch 60/100\n",
      "36842/36842 [==============================] - 5s 135us/step - loss: 0.0642 - mean_squared_error: 0.0642\n",
      "Epoch 61/100\n",
      "36842/36842 [==============================] - 5s 135us/step - loss: 0.0648 - mean_squared_error: 0.0648\n",
      "Epoch 62/100\n",
      "36842/36842 [==============================] - 5s 134us/step - loss: 0.0635 - mean_squared_error: 0.0635\n",
      "Epoch 63/100\n",
      "36842/36842 [==============================] - 5s 134us/step - loss: 0.0630 - mean_squared_error: 0.0630\n",
      "Epoch 64/100\n",
      "36842/36842 [==============================] - 5s 133us/step - loss: 0.0643 - mean_squared_error: 0.0643\n",
      "Epoch 65/100\n",
      "36842/36842 [==============================] - 4s 110us/step - loss: 0.0636 - mean_squared_error: 0.0636\n",
      "Epoch 66/100\n",
      "36842/36842 [==============================] - 4s 109us/step - loss: 0.0640 - mean_squared_error: 0.0640\n",
      "Epoch 67/100\n",
      "36842/36842 [==============================] - 5s 142us/step - loss: 0.0639 - mean_squared_error: 0.0639\n",
      "Epoch 68/100\n",
      "36842/36842 [==============================] - 5s 140us/step - loss: 0.0629 - mean_squared_error: 0.0629\n",
      "Epoch 69/100\n",
      "36842/36842 [==============================] - 5s 134us/step - loss: 0.0638 - mean_squared_error: 0.0638\n",
      "Epoch 70/100\n",
      "36842/36842 [==============================] - 5s 129us/step - loss: 0.0631 - mean_squared_error: 0.0631\n",
      "Epoch 71/100\n",
      "36842/36842 [==============================] - 5s 131us/step - loss: 0.0629 - mean_squared_error: 0.0629\n",
      "Epoch 72/100\n",
      "36842/36842 [==============================] - 5s 131us/step - loss: 0.0625 - mean_squared_error: 0.0625\n",
      "Epoch 73/100\n",
      "36842/36842 [==============================] - 5s 133us/step - loss: 0.0628 - mean_squared_error: 0.0628\n",
      "Epoch 74/100\n",
      "36842/36842 [==============================] - 5s 135us/step - loss: 0.0632 - mean_squared_error: 0.0632\n",
      "Epoch 75/100\n",
      "36842/36842 [==============================] - 5s 131us/step - loss: 0.0632 - mean_squared_error: 0.0632\n",
      "Epoch 76/100\n",
      "36842/36842 [==============================] - 5s 131us/step - loss: 0.0625 - mean_squared_error: 0.0625\n",
      "Epoch 77/100\n",
      "36842/36842 [==============================] - 5s 131us/step - loss: 0.0627 - mean_squared_error: 0.0627\n",
      "Epoch 78/100\n",
      "36842/36842 [==============================] - 5s 131us/step - loss: 0.0626 - mean_squared_error: 0.0626\n",
      "Epoch 79/100\n",
      "36842/36842 [==============================] - 5s 132us/step - loss: 0.0628 - mean_squared_error: 0.0628\n",
      "Epoch 80/100\n",
      "36842/36842 [==============================] - 5s 130us/step - loss: 0.0629 - mean_squared_error: 0.0629\n",
      "Epoch 81/100\n",
      "36842/36842 [==============================] - 5s 131us/step - loss: 0.0623 - mean_squared_error: 0.0623\n",
      "Epoch 82/100\n",
      "36842/36842 [==============================] - 5s 133us/step - loss: 0.0627 - mean_squared_error: 0.0627\n",
      "Epoch 83/100\n",
      "36842/36842 [==============================] - 6s 154us/step - loss: 0.0622 - mean_squared_error: 0.0622\n",
      "Epoch 84/100\n",
      "36842/36842 [==============================] - 6s 153us/step - loss: 0.0627 - mean_squared_error: 0.0627\n",
      "Epoch 85/100\n",
      "36842/36842 [==============================] - 6s 155us/step - loss: 0.0631 - mean_squared_error: 0.0631\n",
      "Epoch 86/100\n",
      "36842/36842 [==============================] - 5s 145us/step - loss: 0.0626 - mean_squared_error: 0.0626\n",
      "Epoch 87/100\n",
      "36842/36842 [==============================] - 5s 133us/step - loss: 0.0624 - mean_squared_error: 0.0624\n",
      "Epoch 88/100\n",
      "36842/36842 [==============================] - 5s 133us/step - loss: 0.0630 - mean_squared_error: 0.0630\n",
      "Epoch 89/100\n",
      "36842/36842 [==============================] - 5s 135us/step - loss: 0.0624 - mean_squared_error: 0.0624\n",
      "Epoch 90/100\n",
      "36842/36842 [==============================] - 5s 135us/step - loss: 0.0622 - mean_squared_error: 0.0622\n",
      "Epoch 91/100\n",
      "36842/36842 [==============================] - 5s 135us/step - loss: 0.0619 - mean_squared_error: 0.0619\n",
      "Epoch 92/100\n",
      "36842/36842 [==============================] - 5s 136us/step - loss: 0.0623 - mean_squared_error: 0.0623\n",
      "Epoch 93/100\n",
      "36842/36842 [==============================] - 5s 135us/step - loss: 0.0617 - mean_squared_error: 0.0617\n",
      "Epoch 94/100\n",
      "36842/36842 [==============================] - 5s 141us/step - loss: 0.0618 - mean_squared_error: 0.0618\n",
      "Epoch 95/100\n",
      "36842/36842 [==============================] - 5s 135us/step - loss: 0.0627 - mean_squared_error: 0.0627\n",
      "Epoch 96/100\n",
      "36842/36842 [==============================] - 5s 133us/step - loss: 0.0620 - mean_squared_error: 0.0620\n",
      "Epoch 97/100\n",
      "36842/36842 [==============================] - 5s 133us/step - loss: 0.0620 - mean_squared_error: 0.0620\n",
      "Epoch 98/100\n",
      "36842/36842 [==============================] - 5s 134us/step - loss: 0.0626 - mean_squared_error: 0.0626\n",
      "Epoch 99/100\n",
      "36842/36842 [==============================] - 5s 133us/step - loss: 0.0618 - mean_squared_error: 0.0618\n",
      "Epoch 100/100\n",
      "36842/36842 [==============================] - 5s 132us/step - loss: 0.0617 - mean_squared_error: 0.0617\n",
      "shape of train:  (36842,)\n",
      "shape of val:  (4094,)\n",
      "----- Training scores -----\n",
      "R2 on log scale:  0.1215150601595224\n",
      "MAE on log scale:  0.19375553070947715\n",
      "MAE on original $ scale:  0.6915536421581661\n",
      "----- Validation scores -----\n",
      "R2 on log scale:  0.09237960548394886\n",
      "MAE on log scale:  0.20031515658347868\n",
      "MAE on original $ scale:  0.7143250835210575\n"
     ]
    }
   ],
   "source": [
    "# Feedforward NN\n",
    "N_NODES = 145\n",
    "N_LAYERS = 20\n",
    "\n",
    "OPTIMIZER = Adam(lr=0.001)   \n",
    "EPOCHS = 100\n",
    "BATCH_SIZE = 300\n",
    "\n",
    "filename = 'models/dom/image_models/condo_dom_img_nn.h5'\n",
    "\n",
    "# # train and save model\n",
    "# model = KerasRegressor(build_fn=feedforward_NN, x_train=train_features, optimizer=OPTIMIZER, n_nodes=N_NODES, n_layers=N_LAYERS, epochs=EPOCHS, batch_size=BATCH_SIZE, verbose=1)\n",
    "# utils.train_save_model(model, X=train_features, y=y_train, filename=filename)\n",
    "\n",
    "# load savced model and evaluate model performance\n",
    "utils.load_eval_model(filename=filename, X_train=train_features, X_val=val_features, y_train=y_train, y_val=y_val)"
   ]
  },
  {
   "cell_type": "markdown",
   "metadata": {},
   "source": [
    "# Multi Families"
   ]
  },
  {
   "cell_type": "code",
   "execution_count": 15,
   "metadata": {},
   "outputs": [],
   "source": [
    "data_filename = 'data/features/MF_feats_remarks.pkl'"
   ]
  },
  {
   "cell_type": "markdown",
   "metadata": {},
   "source": [
    "### Test-Train Split, Response = 'SOLDPRICE'"
   ]
  },
  {
   "cell_type": "code",
   "execution_count": 16,
   "metadata": {},
   "outputs": [
    {
     "name": "stdout",
     "output_type": "stream",
     "text": [
      "Number of features from zillow:  10\n",
      "Number of features from redfin:  20\n",
      "Number of features from images:  2048\n",
      "Number of features from remarks:  20\n",
      "Number of training samples:  11965\n",
      "Number of validation samples:  1330\n"
     ]
    }
   ],
   "source": [
    "response_col = 'SOLDPRICE'\n",
    "test_size = 0.1\n",
    "random_state = 9001\n",
    "\n",
    "# read in data \n",
    "df = utils.read_preprocess_df(data_filename, response_col=response_col)\n",
    "\n",
    "# test train split\n",
    "X_train_dict, X_val_dict, y_train, y_val = utils.split_normalize_df(df=df, response_col=response_col, test_size=test_size, random_state=random_state)"
   ]
  },
  {
   "cell_type": "markdown",
   "metadata": {},
   "source": [
    "### Train models"
   ]
  },
  {
   "cell_type": "code",
   "execution_count": 17,
   "metadata": {},
   "outputs": [],
   "source": [
    "train_features = X_train_dict['img']\n",
    "val_features = X_val_dict['img']"
   ]
  },
  {
   "cell_type": "code",
   "execution_count": 18,
   "metadata": {},
   "outputs": [
    {
     "name": "stdout",
     "output_type": "stream",
     "text": [
      "Ridge model: \n",
      "best alpha:  20.0\n",
      "----- Training scores -----\n",
      "R2 on log scale:  0.41401523541386875\n",
      "MAE on log scale:  0.414405297184377\n",
      "MAE on original $ scale:  194441.8784148266\n",
      "----- Validation scores -----\n",
      "R2 on log scale:  0.38669631875483423\n",
      "MAE on log scale:  0.42945810322678607\n",
      "MAE on original $ scale:  203165.10866322572\n"
     ]
    }
   ],
   "source": [
    "# Ridge\n",
    "filename = 'models/soldprice/image_models/mf_price_img_ridge.pkl'\n",
    "\n",
    "print(\"Ridge model: \")\n",
    "# t0 = time.time()\n",
    "\n",
    "# # train and save model\n",
    "# model = RidgeCV(alphas=(4.5, 5, 5.5, 10, 20, 25))\n",
    "# utils.train_save_model(model, X=train_features, y=y_train, filename=filename)\n",
    "# print(\"training time: \", time.time()-t0)\n",
    "\n",
    "# load savced model and evaluate model performance\n",
    "utils.load_eval_model(filename=filename, X_train=train_features, X_val=val_features, y_train=y_train, y_val=y_val)"
   ]
  },
  {
   "cell_type": "code",
   "execution_count": 19,
   "metadata": {},
   "outputs": [
    {
     "name": "stdout",
     "output_type": "stream",
     "text": [
      "Light GBM model: \n",
      "LGBMRegressor(boosting_type='gbdt', class_weight=None, colsample_bytree=1.0,\n",
      "       learning_rate=0.1, max_depth=-1, min_child_samples=20,\n",
      "       min_child_weight=0.001, min_split_gain=0.0, n_estimators=512,\n",
      "       n_jobs=-1, num_leaves=31, objective=None, random_state=9001,\n",
      "       reg_alpha=0.0, reg_lambda=100, silent=True, subsample=1.0,\n",
      "       subsample_for_bin=200000, subsample_freq=1)\n",
      "----- Training scores -----\n",
      "R2 on log scale:  0.8503615778854379\n",
      "MAE on log scale:  0.14116345178186565\n",
      "MAE on original $ scale:  62808.18661965218\n",
      "----- Validation scores -----\n",
      "R2 on log scale:  0.39949081145584464\n",
      "MAE on log scale:  0.4267294369743406\n",
      "MAE on original $ scale:  198912.14925032566\n"
     ]
    }
   ],
   "source": [
    "# light gbm\n",
    "filename = 'models/soldprice/image_models/mf_price_img_LGBM.pkl'\n",
    "\n",
    "params = {\n",
    "        'learning_rate':[0.01, 0.1, 1]\n",
    "         }\n",
    "\n",
    "print(\"Light GBM model: \")\n",
    "# t0 = time.time()\n",
    "# \n",
    "# # model\n",
    "# model = model = LGBMRegressor(random_state=9001, n_estimators=512, reg_lambda=100)\n",
    "# grid = GridSearchCV(model, params, verbose=1, n_jobs=-1)\n",
    "\n",
    "# # train and save model\n",
    "# utils.train_save_model(grid, X=train_features, y=y_train, filename=filename)\n",
    "# print(\"training time: \", time.time()-t0)\n",
    "\n",
    "# load savced model and evaluate model performance\n",
    "utils.load_eval_model(filename=filename, X_train=train_features, X_val=val_features, y_train=y_train, y_val=y_val)"
   ]
  },
  {
   "cell_type": "code",
   "execution_count": 20,
   "metadata": {},
   "outputs": [
    {
     "name": "stdout",
     "output_type": "stream",
     "text": [
      "shape of train:  (11965,)\n",
      "shape of val:  (1330,)\n",
      "----- Training scores -----\n",
      "R2 on log scale:  0.39075461943543166\n",
      "MAE on log scale:  0.4237634170406626\n",
      "MAE on original $ scale:  197713.70467368368\n",
      "----- Validation scores -----\n",
      "R2 on log scale:  0.3951855944311339\n",
      "MAE on log scale:  0.4281450322056187\n",
      "MAE on original $ scale:  202488.7017269737\n"
     ]
    }
   ],
   "source": [
    "# Feedforward NN\n",
    "N_NODES = 145\n",
    "N_LAYERS = 20\n",
    "\n",
    "OPTIMIZER = Adam(lr=0.001)   \n",
    "EPOCHS = 100\n",
    "BATCH_SIZE = 200\n",
    "\n",
    "filename = 'models/soldprice/image_models/mf_price_img_nn.h5'\n",
    "\n",
    "# # train and save model\n",
    "# model = KerasRegressor(build_fn=feedforward_NN, x_train=train_features, optimizer=OPTIMIZER, n_nodes=N_NODES, n_layers=N_LAYERS, epochs=EPOCHS, batch_size=BATCH_SIZE, verbose=1)\n",
    "# utils.train_save_model(model, X=train_features, y=y_train, filename=filename)\n",
    "\n",
    "# load savced model and evaluate model performance\n",
    "utils.load_eval_model(filename=filename, X_train=train_features, X_val=val_features, y_train=y_train, y_val=y_val)"
   ]
  },
  {
   "cell_type": "markdown",
   "metadata": {},
   "source": [
    "### Test-Train Split, Response = 'DOM'"
   ]
  },
  {
   "cell_type": "code",
   "execution_count": 21,
   "metadata": {},
   "outputs": [
    {
     "name": "stdout",
     "output_type": "stream",
     "text": [
      "Number of features from zillow:  10\n",
      "Number of features from redfin:  20\n",
      "Number of features from images:  2048\n",
      "Number of features from remarks:  20\n",
      "Number of training samples:  11965\n",
      "Number of validation samples:  1330\n"
     ]
    }
   ],
   "source": [
    "response_col = 'DOM'\n",
    "test_size = 0.1\n",
    "random_state = 9001\n",
    "\n",
    "# read in data \n",
    "df = utils.read_preprocess_df(data_filename, response_col=response_col)\n",
    "\n",
    "# test train split\n",
    "X_train_dict, X_val_dict, y_train, y_val = utils.split_normalize_df(df=df, response_col=response_col, test_size=test_size, random_state=random_state)"
   ]
  },
  {
   "cell_type": "markdown",
   "metadata": {},
   "source": [
    "### Train models"
   ]
  },
  {
   "cell_type": "code",
   "execution_count": 22,
   "metadata": {},
   "outputs": [],
   "source": [
    "train_features = X_train_dict['img']\n",
    "val_features = X_val_dict['img']"
   ]
  },
  {
   "cell_type": "code",
   "execution_count": 23,
   "metadata": {},
   "outputs": [
    {
     "name": "stdout",
     "output_type": "stream",
     "text": [
      "Ridge model: \n",
      "best alpha:  50.0\n",
      "----- Training scores -----\n",
      "R2 on log scale:  0.09843796546838024\n",
      "MAE on log scale:  0.1986521625546102\n",
      "MAE on original $ scale:  0.7291329521563765\n",
      "----- Validation scores -----\n",
      "R2 on log scale:  0.05074708509346437\n",
      "MAE on log scale:  0.20419429927232965\n",
      "MAE on original $ scale:  0.7500393569246421\n"
     ]
    }
   ],
   "source": [
    "# Ridge\n",
    "filename = 'models/dom/image_models/mf_dom_img_ridge.pkl'\n",
    "\n",
    "print(\"Ridge model: \")\n",
    "# t0 = time.time()\n",
    "\n",
    "# # train and save model\n",
    "# model = RidgeCV(alphas=(5, 5.5, 10, 20, 25, 30, 50, 100, 150))\n",
    "# utils.train_save_model(model, X=train_features, y=y_train, filename=filename)\n",
    "# print(\"training time: \", time.time()-t0)\n",
    "\n",
    "# load savced model and evaluate model performance\n",
    "utils.load_eval_model(filename=filename, X_train=train_features, X_val=val_features, y_train=y_train, y_val=y_val)"
   ]
  },
  {
   "cell_type": "code",
   "execution_count": 26,
   "metadata": {},
   "outputs": [
    {
     "name": "stdout",
     "output_type": "stream",
     "text": [
      "Light GBM model: \n",
      "Fitting 3 folds for each of 9 candidates, totalling 27 fits\n"
     ]
    },
    {
     "name": "stderr",
     "output_type": "stream",
     "text": [
      "[Parallel(n_jobs=-1)]: Done  27 out of  27 | elapsed:  5.6min finished\n"
     ]
    },
    {
     "name": "stdout",
     "output_type": "stream",
     "text": [
      "training time:  2750.7265799045563\n",
      "LGBMRegressor(boosting_type='gbdt', class_weight=None, colsample_bytree=1.0,\n",
      "       learning_rate=0.1, max_depth=-1, min_child_samples=20,\n",
      "       min_child_weight=0.001, min_split_gain=0.0, n_estimators=512,\n",
      "       n_jobs=-1, num_leaves=31, objective=None, random_state=9001,\n",
      "       reg_alpha=10, reg_lambda=1000.0, silent=True, subsample=1.0,\n",
      "       subsample_for_bin=200000, subsample_freq=1)\n",
      "----- Training scores -----\n",
      "R2 on log scale:  0.5670559080172752\n",
      "MAE on log scale:  0.13137585572099392\n",
      "MAE on original $ scale:  0.4855709954208372\n",
      "----- Validation scores -----\n",
      "R2 on log scale:  0.04323318992655367\n",
      "MAE on log scale:  0.2054394034240479\n",
      "MAE on original $ scale:  0.7540275479524075\n"
     ]
    }
   ],
   "source": [
    "# light gbm\n",
    "filename = 'models/dom/image_models/mf_dom_img_LGBM.pkl'\n",
    "\n",
    "params = {\n",
    "          'reg_alpha':[10, 1e2, 1e3],\n",
    "        'reg_lambda':[10, 1e2, 1e3]\n",
    "         }\n",
    "\n",
    "print(\"Light GBM model: \")\n",
    "# t0 = time.time()\n",
    "\n",
    "# model\n",
    "model = model = LGBMRegressor(random_state=9001, n_estimators=512)\n",
    "grid = GridSearchCV(model, params, verbose=1, n_jobs=-1)\n",
    "\n",
    "# train and save model\n",
    "utils.train_save_model(grid, X=train_features, y=y_train, filename=filename)\n",
    "print(\"training time: \", time.time()-t0)\n",
    "\n",
    "# load savced model and evaluate model performance\n",
    "utils.load_eval_model(filename=filename, X_train=train_features, X_val=val_features, y_train=y_train, y_val=y_val)"
   ]
  },
  {
   "cell_type": "code",
   "execution_count": 25,
   "metadata": {},
   "outputs": [
    {
     "name": "stdout",
     "output_type": "stream",
     "text": [
      "shape of train:  (11965,)\n",
      "shape of val:  (1330,)\n",
      "----- Training scores -----\n",
      "R2 on log scale:  0.06732925036810178\n",
      "MAE on log scale:  0.202069160767427\n",
      "MAE on original $ scale:  0.741487546101561\n",
      "----- Validation scores -----\n",
      "R2 on log scale:  0.040814402828049046\n",
      "MAE on log scale:  0.204944852432692\n",
      "MAE on original $ scale:  0.7527548644458774\n"
     ]
    }
   ],
   "source": [
    "# Feedforward NN\n",
    "N_NODES = 145\n",
    "N_LAYERS = 20\n",
    "\n",
    "OPTIMIZER = Adam(lr=0.001)   \n",
    "EPOCHS = 100\n",
    "BATCH_SIZE = 200\n",
    "\n",
    "filename = 'models/dom/image_models/mf_dom_img_nn.h5'\n",
    "\n",
    "# # train and save model\n",
    "# model = KerasRegressor(build_fn=feedforward_NN, x_train=train_features, optimizer=OPTIMIZER, n_nodes=N_NODES, n_layers=N_LAYERS, epochs=EPOCHS, batch_size=BATCH_SIZE, verbose=1)\n",
    "# utils.train_save_model(model, X=train_features, y=y_train, filename=filename)\n",
    "\n",
    "# load savced model and evaluate model performance\n",
    "utils.load_eval_model(filename=filename, X_train=train_features, X_val=val_features, y_train=y_train, y_val=y_val)"
   ]
  },
  {
   "cell_type": "code",
   "execution_count": null,
   "metadata": {},
   "outputs": [],
   "source": []
  },
  {
   "cell_type": "code",
   "execution_count": null,
   "metadata": {},
   "outputs": [],
   "source": []
  }
 ],
 "metadata": {
  "kernelspec": {
   "display_name": "Python 3",
   "language": "python",
   "name": "python3"
  },
  "language_info": {
   "codemirror_mode": {
    "name": "ipython",
    "version": 3
   },
   "file_extension": ".py",
   "mimetype": "text/x-python",
   "name": "python",
   "nbconvert_exporter": "python",
   "pygments_lexer": "ipython3",
   "version": "3.6.4"
  }
 },
 "nbformat": 4,
 "nbformat_minor": 2
}

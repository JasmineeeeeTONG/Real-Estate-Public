{
 "cells": [
  {
   "cell_type": "code",
   "execution_count": 1,
   "metadata": {},
   "outputs": [
    {
     "name": "stderr",
     "output_type": "stream",
     "text": [
      "Using TensorFlow backend.\n"
     ]
    }
   ],
   "source": [
    "import time\n",
    "import pandas as pd\n",
    "import numpy as np\n",
    "\n",
    "from lightgbm import LGBMRegressor\n",
    "from xgboost import XGBRegressor\n",
    "from sklearn.linear_model import RidgeCV\n",
    "from sklearn import svm\n",
    "from sklearn.model_selection import GridSearchCV\n",
    "\n",
    "import pickle\n",
    "from sklearn.externals import joblib\n",
    "import warnings\n",
    "warnings.filterwarnings(\"ignore\")\n",
    "\n",
    "import src.utils as utils"
   ]
  },
  {
   "cell_type": "markdown",
   "metadata": {},
   "source": [
    "# Condos"
   ]
  },
  {
   "cell_type": "code",
   "execution_count": 12,
   "metadata": {},
   "outputs": [],
   "source": [
    "data_filename = 'data/features/CON_feats_remarks.pkl'"
   ]
  },
  {
   "cell_type": "markdown",
   "metadata": {},
   "source": [
    "### Test-Train Split, Response = 'SOLDPRICE'"
   ]
  },
  {
   "cell_type": "code",
   "execution_count": 13,
   "metadata": {},
   "outputs": [
    {
     "name": "stdout",
     "output_type": "stream",
     "text": [
      "Number of features from zillow:  10\n",
      "Number of features from redfin:  20\n",
      "Number of features from images:  2048\n",
      "Number of features from remarks:  20\n",
      "Number of training samples:  36842\n",
      "Number of validation samples:  4094\n"
     ]
    }
   ],
   "source": [
    "response_col = 'SOLDPRICE'\n",
    "test_size = 0.1\n",
    "random_state = 9001\n",
    "\n",
    "# read in data \n",
    "df = utils.read_preprocess_df(data_filename, response_col=response_col)\n",
    "\n",
    "# test train split\n",
    "X_train_dict, X_val_dict, y_train, y_val = utils.split_normalize_df(df=df, response_col=response_col, test_size=test_size, random_state=random_state)"
   ]
  },
  {
   "cell_type": "markdown",
   "metadata": {},
   "source": [
    "### Train models"
   ]
  },
  {
   "cell_type": "code",
   "execution_count": 14,
   "metadata": {},
   "outputs": [],
   "source": [
    "train_features = X_train_dict['zillow_remarks']\n",
    "val_features = X_val_dict['zillow_remarks']"
   ]
  },
  {
   "cell_type": "code",
   "execution_count": 15,
   "metadata": {},
   "outputs": [
    {
     "name": "stdout",
     "output_type": "stream",
     "text": [
      "Ridge model: \n",
      "training time:  0.15759015083312988\n",
      "best alpha:  2.0\n",
      "----- Training scores -----\n",
      "R2 on log scale:  0.6705712283553439\n",
      "MAE on log scale:  0.3078468628727439\n",
      "MAE on original $ scale:  153936.71136244186\n",
      "----- Validation scores -----\n",
      "R2 on log scale:  0.6864780959299577\n",
      "MAE on log scale:  0.30140393307309715\n",
      "MAE on original $ scale:  154081.03146970808\n"
     ]
    }
   ],
   "source": [
    "# Ridge\n",
    "filename = 'models/soldprice/data_models/condo_price_zillow-remarks_ridge.pkl'\n",
    "\n",
    "print(\"Ridge model: \")\n",
    "t0 = time.time()\n",
    "\n",
    "# train and save model\n",
    "model = RidgeCV(alphas=(1, 1.5, 2, 2.5, 3))\n",
    "utils.train_save_model(model, X=train_features, y=y_train, filename=filename)\n",
    "print(\"training time: \", time.time()-t0)\n",
    "\n",
    "# load savced model and evaluate model performance\n",
    "utils.load_eval_model(filename=filename, X_train=train_features, X_val=val_features, y_train=y_train, y_val=y_val)"
   ]
  },
  {
   "cell_type": "code",
   "execution_count": 16,
   "metadata": {},
   "outputs": [
    {
     "name": "stdout",
     "output_type": "stream",
     "text": [
      "XGBoost model: \n",
      "Fitting 3 folds for each of 64 candidates, totalling 192 fits\n"
     ]
    },
    {
     "name": "stderr",
     "output_type": "stream",
     "text": [
      "[Parallel(n_jobs=-1)]: Done  34 tasks      | elapsed:  3.7min\n",
      "[Parallel(n_jobs=-1)]: Done 192 out of 192 | elapsed: 18.3min finished\n"
     ]
    },
    {
     "name": "stdout",
     "output_type": "stream",
     "text": [
      "training time:  1139.8139328956604\n",
      "XGBRegressor(base_score=0.5, booster='gbtree', colsample_bylevel=1,\n",
      "       colsample_bytree=1, gamma=0.1, learning_rate=0.1, max_delta_step=0,\n",
      "       max_depth=25, min_child_weight=1, missing=nan, n_estimators=100,\n",
      "       n_jobs=1, nthread=None, objective='reg:linear', random_seed=9001,\n",
      "       random_state=0, reg_alpha=1, reg_lambda=1, scale_pos_weight=1,\n",
      "       seed=None, silent=True, subsample=1)\n",
      "----- Training scores -----\n",
      "R2 on log scale:  0.9771803247712602\n",
      "MAE on log scale:  0.08189391623228845\n",
      "MAE on original $ scale:  39509.99570418232\n",
      "----- Validation scores -----\n",
      "R2 on log scale:  0.9395334183956024\n",
      "MAE on log scale:  0.1269122734582407\n",
      "MAE on original $ scale:  62236.18614504459\n"
     ]
    }
   ],
   "source": [
    "# XGBoost\n",
    "filename = 'models/soldprice/data_models/condo_price_zillow-remarks_XGBoost.pkl'\n",
    "params = {\n",
    "    'max_depth':range(21,28,2),\n",
    "    'gamma':[0, 0.1, 0.2, 0.3],\n",
    "    'reg_alpha':[0, 0.1, 1, 10]\n",
    "}\n",
    "\n",
    "print(\"XGBoost model: \")\n",
    "t0 = time.time()\n",
    "\n",
    "# model\n",
    "model = XGBRegressor(random_seed=9001)\n",
    "grid = GridSearchCV(model, params, verbose=1, n_jobs=-1)\n",
    "\n",
    "# train and save model\n",
    "utils.train_save_model(grid, X=train_features, y=y_train, filename=filename)\n",
    "print(\"training time: \", time.time()-t0)\n",
    "\n",
    "# load savced model and evaluate model performance\n",
    "utils.load_eval_model(filename=filename, X_train=train_features, X_val=val_features, y_train=y_train, y_val=y_val)"
   ]
  },
  {
   "cell_type": "code",
   "execution_count": 19,
   "metadata": {},
   "outputs": [
    {
     "name": "stdout",
     "output_type": "stream",
     "text": [
      "Light GBM model: \n",
      "Fitting 3 folds for each of 108 candidates, totalling 324 fits\n"
     ]
    },
    {
     "name": "stderr",
     "output_type": "stream",
     "text": [
      "[Parallel(n_jobs=-1)]: Done  34 tasks      | elapsed:  7.6min\n",
      "[Parallel(n_jobs=-1)]: Done 184 tasks      | elapsed: 46.0min\n",
      "[Parallel(n_jobs=-1)]: Done 324 out of 324 | elapsed: 79.9min finished\n"
     ]
    },
    {
     "name": "stdout",
     "output_type": "stream",
     "text": [
      "training time:  4799.0780737400055\n",
      "LGBMRegressor(boosting_type='gbdt', class_weight=None, colsample_bytree=1.0,\n",
      "       learning_rate=0.1, max_depth=16, min_child_samples=20,\n",
      "       min_child_weight=0.001, min_split_gain=0.0, n_estimators=512,\n",
      "       n_jobs=-1, num_leaves=100, objective=None, random_state=9001,\n",
      "       reg_alpha=0.0, reg_lambda=0.0, silent=True, subsample=1.0,\n",
      "       subsample_for_bin=200000, subsample_freq=1)\n",
      "----- Training scores -----\n",
      "R2 on log scale:  0.9895552173922343\n",
      "MAE on log scale:  0.04976102906136195\n",
      "MAE on original $ scale:  23754.32347306006\n",
      "----- Validation scores -----\n",
      "R2 on log scale:  0.9439960222083035\n",
      "MAE on log scale:  0.12278620320321153\n",
      "MAE on original $ scale:  60610.97039935996\n"
     ]
    }
   ],
   "source": [
    "# Light GBM\n",
    "filename = 'models/soldprice/data_models/condo_price_zillow-remarks_LGBM.pkl'\n",
    "params = {'num_leaves': [30, 100, 200], \n",
    "          'max_depth':[-1, 16, 32, 64], \n",
    "          'learning_rate':[0.01, 0.1, 1], \n",
    "          'n_estimators':[128, 256, 512]\n",
    "         }\n",
    "\n",
    "print(\"Light GBM model: \")\n",
    "t0 = time.time()\n",
    "\n",
    "# model\n",
    "model = model = LGBMRegressor(random_state=9001)\n",
    "grid = GridSearchCV(model, params, verbose=1, n_jobs=-1)\n",
    "\n",
    "# train and save model\n",
    "utils.train_save_model(grid, X=train_features, y=y_train, filename=filename)\n",
    "print(\"training time: \", time.time()-t0)\n",
    "\n",
    "# load savced model and evaluate model performance\n",
    "utils.load_eval_model(filename=filename, X_train=train_features, X_val=val_features, y_train=y_train, y_val=y_val)"
   ]
  },
  {
   "cell_type": "markdown",
   "metadata": {},
   "source": [
    "### Test-Train Split, Response = 'DOM'"
   ]
  },
  {
   "cell_type": "code",
   "execution_count": 20,
   "metadata": {},
   "outputs": [
    {
     "name": "stdout",
     "output_type": "stream",
     "text": [
      "Number of features from zillow:  10\n",
      "Number of features from redfin:  20\n",
      "Number of features from images:  2048\n",
      "Number of features from remarks:  20\n",
      "Number of training samples:  36842\n",
      "Number of validation samples:  4094\n"
     ]
    }
   ],
   "source": [
    "response_col = 'DOM'\n",
    "test_size = 0.1\n",
    "random_state = 9001\n",
    "\n",
    "# read in data \n",
    "df = utils.read_preprocess_df(data_filename, response_col=response_col)\n",
    "\n",
    "# test train split\n",
    "X_train_dict, X_val_dict, y_train, y_val = utils.split_normalize_df(df=df, response_col=response_col, test_size=test_size, random_state=random_state)"
   ]
  },
  {
   "cell_type": "markdown",
   "metadata": {},
   "source": [
    "### Train models"
   ]
  },
  {
   "cell_type": "code",
   "execution_count": 21,
   "metadata": {},
   "outputs": [],
   "source": [
    "train_features = X_train_dict['zillow_remarks']\n",
    "val_features = X_val_dict['zillow_remarks']"
   ]
  },
  {
   "cell_type": "code",
   "execution_count": 32,
   "metadata": {},
   "outputs": [
    {
     "name": "stdout",
     "output_type": "stream",
     "text": [
      "Ridge model: \n",
      "training time:  0.18402409553527832\n",
      "best alpha:  1.5\n",
      "----- Training scores -----\n",
      "R2 on log scale:  0.06900401921636756\n",
      "MAE on log scale:  0.1988136406183637\n",
      "MAE on original $ scale:  0.7082016501478575\n",
      "----- Validation scores -----\n",
      "R2 on log scale:  0.06020260159779933\n",
      "MAE on log scale:  0.2038915604531875\n",
      "MAE on original $ scale:  0.7253309398254354\n"
     ]
    }
   ],
   "source": [
    "# Ridge\n",
    "filename = 'models/dom/data_models/condo_dom_zillow-remarks_ridge.pkl'\n",
    "\n",
    "print(\"Ridge model: \")\n",
    "# t0 = time.time()\n",
    "\n",
    "# # train and save model\n",
    "# model = RidgeCV(alphas=(1, 1.5, 2, 2.5, 3, 3.5, 4, 4.5, 5, 5.5))\n",
    "# utils.train_save_model(model, X=train_features, y=y_train, filename=filename)\n",
    "# print(\"training time: \", time.time()-t0)\n",
    "\n",
    "# load savced model and evaluate model performance\n",
    "utils.load_eval_model(filename=filename, X_train=train_features, X_val=val_features, y_train=y_train, y_val=y_val)"
   ]
  },
  {
   "cell_type": "code",
   "execution_count": 30,
   "metadata": {},
   "outputs": [
    {
     "name": "stdout",
     "output_type": "stream",
     "text": [
      "XGBoost model: \n",
      "Fitting 3 folds for each of 36 candidates, totalling 108 fits\n"
     ]
    },
    {
     "name": "stderr",
     "output_type": "stream",
     "text": [
      "[Parallel(n_jobs=-1)]: Done  34 tasks      | elapsed:  3.5min\n",
      "[Parallel(n_jobs=-1)]: Done 108 out of 108 | elapsed: 15.0min finished\n"
     ]
    },
    {
     "name": "stdout",
     "output_type": "stream",
     "text": [
      "training time:  952.4606530666351\n",
      "XGBRegressor(base_score=0.5, booster='gbtree', colsample_bylevel=1,\n",
      "       colsample_bytree=1, gamma=0.1, learning_rate=0.1, max_delta_step=0,\n",
      "       max_depth=11, min_child_weight=1, missing=nan, n_estimators=256,\n",
      "       n_jobs=1, nthread=None, objective='reg:linear', random_seed=9001,\n",
      "       random_state=0, reg_alpha=10.0, reg_lambda=1, scale_pos_weight=1,\n",
      "       seed=None, silent=True, subsample=1)\n",
      "----- Training scores -----\n",
      "R2 on log scale:  0.44451199115986195\n",
      "MAE on log scale:  0.1535530765408908\n",
      "MAE on original $ scale:  0.5466891659291848\n",
      "----- Validation scores -----\n",
      "R2 on log scale:  0.1818231394125681\n",
      "MAE on log scale:  0.18938881288405754\n",
      "MAE on original $ scale:  0.6737049686241011\n"
     ]
    }
   ],
   "source": [
    "# XGBoost\n",
    "filename = 'models/dom/data_models/condo_dom_zillow-remarks_XGBoost.pkl'\n",
    "params = {\n",
    "    'max_depth':[9, 11, 13, 15],\n",
    "    'n_estimators':[128, 256, 512],\n",
    "    'reg_alpha':[0, 1e1, 1e2],\n",
    "}\n",
    "\n",
    "print(\"XGBoost model: \")\n",
    "# t0 = time.time()\n",
    "\n",
    "# # model\n",
    "# model = XGBRegressor(random_seed=9001, gamma=0.1)\n",
    "# grid = GridSearchCV(model, params, verbose=1, n_jobs=-1)\n",
    "\n",
    "# # train and save model\n",
    "# utils.train_save_model(grid, X=train_features, y=y_train, filename=filename)\n",
    "# print(\"training time: \", time.time()-t0)\n",
    "\n",
    "# load savced model and evaluate model performance\n",
    "utils.load_eval_model(filename=filename, X_train=train_features, X_val=val_features, y_train=y_train, y_val=y_val)"
   ]
  },
  {
   "cell_type": "code",
   "execution_count": 25,
   "metadata": {},
   "outputs": [
    {
     "name": "stdout",
     "output_type": "stream",
     "text": [
      "Light GBM model: \n",
      "Fitting 3 folds for each of 27 candidates, totalling 81 fits\n"
     ]
    },
    {
     "name": "stderr",
     "output_type": "stream",
     "text": [
      "[Parallel(n_jobs=-1)]: Done  34 tasks      | elapsed:  1.7min\n",
      "[Parallel(n_jobs=-1)]: Done  81 out of  81 | elapsed:  8.5min finished\n"
     ]
    },
    {
     "name": "stdout",
     "output_type": "stream",
     "text": [
      "training time:  508.57879877090454\n",
      "LGBMRegressor(boosting_type='gbdt', class_weight=None, colsample_bytree=1.0,\n",
      "       learning_rate=0.1, max_depth=-1, min_child_samples=20,\n",
      "       min_child_weight=0.001, min_split_gain=0.0, n_estimators=256,\n",
      "       n_jobs=-1, num_leaves=30, objective=None, random_state=9001,\n",
      "       reg_alpha=0.0, reg_lambda=1, silent=True, subsample=1.0,\n",
      "       subsample_for_bin=200000, subsample_freq=1)\n",
      "----- Training scores -----\n",
      "R2 on log scale:  0.4038676230451548\n",
      "MAE on log scale:  0.1594986525650244\n",
      "MAE on original $ scale:  0.5667214106786268\n",
      "----- Validation scores -----\n",
      "R2 on log scale:  0.18477574153877074\n",
      "MAE on log scale:  0.18936397267693889\n",
      "MAE on original $ scale:  0.6737052929500423\n"
     ]
    }
   ],
   "source": [
    "# Light GBM\n",
    "filename = 'models/dom/data_models/condo_dom_zillow-remarks_LGBM.pkl'\n",
    "params = {'num_leaves': [15, 30, 100], \n",
    "          'reg_lambda':[0, 1, 1.5], \n",
    "          'n_estimators':[128, 256, 512]\n",
    "         }\n",
    "\n",
    "print(\"Light GBM model: \")\n",
    "# t0 = time.time()\n",
    "\n",
    "# # model\n",
    "# model = model = LGBMRegressor(random_state=9001)\n",
    "# grid = GridSearchCV(model, params, verbose=1, n_jobs=-1)\n",
    "\n",
    "# # train and save model\n",
    "# utils.train_save_model(grid, X=train_features, y=y_train, filename=filename)\n",
    "# print(\"training time: \", time.time()-t0)\n",
    "\n",
    "# load savced model and evaluate model performance\n",
    "utils.load_eval_model(filename=filename, X_train=train_features, X_val=val_features, y_train=y_train, y_val=y_val)"
   ]
  },
  {
   "cell_type": "markdown",
   "metadata": {},
   "source": [
    "# Multi Families"
   ]
  },
  {
   "cell_type": "code",
   "execution_count": 2,
   "metadata": {},
   "outputs": [],
   "source": [
    "data_filename = 'data/features/MF_feats_remarks.pkl'"
   ]
  },
  {
   "cell_type": "markdown",
   "metadata": {},
   "source": [
    "### Test-Train Split, Response = 'SOLDPRICE'"
   ]
  },
  {
   "cell_type": "code",
   "execution_count": 3,
   "metadata": {},
   "outputs": [
    {
     "name": "stdout",
     "output_type": "stream",
     "text": [
      "Number of features from zillow:  10\n",
      "Number of features from redfin:  20\n",
      "Number of features from images:  2048\n",
      "Number of features from remarks:  20\n",
      "Number of training samples:  11965\n",
      "Number of validation samples:  1330\n"
     ]
    }
   ],
   "source": [
    "response_col = 'SOLDPRICE'\n",
    "test_size = 0.1\n",
    "random_state = 9001\n",
    "\n",
    "# read in data \n",
    "df = utils.read_preprocess_df(data_filename, response_col=response_col)\n",
    "\n",
    "# test train split\n",
    "X_train_dict, X_val_dict, y_train, y_val = utils.split_normalize_df(df=df, response_col=response_col, test_size=test_size, random_state=random_state)"
   ]
  },
  {
   "cell_type": "markdown",
   "metadata": {},
   "source": [
    "### Train models"
   ]
  },
  {
   "cell_type": "code",
   "execution_count": 4,
   "metadata": {},
   "outputs": [],
   "source": [
    "train_features = X_train_dict['zillow_remarks']\n",
    "val_features = X_val_dict['zillow_remarks']"
   ]
  },
  {
   "cell_type": "code",
   "execution_count": 5,
   "metadata": {},
   "outputs": [
    {
     "name": "stdout",
     "output_type": "stream",
     "text": [
      "Ridge model: \n",
      "best alpha:  2.0\n",
      "----- Training scores -----\n",
      "R2 on log scale:  0.5022367730434779\n",
      "MAE on log scale:  0.3779949827210046\n",
      "MAE on original $ scale:  267389.53535967384\n",
      "----- Validation scores -----\n",
      "R2 on log scale:  0.508103454920327\n",
      "MAE on log scale:  0.3812680345591399\n",
      "MAE on original $ scale:  184963.9127876768\n"
     ]
    }
   ],
   "source": [
    "# Ridge\n",
    "filename = 'models/soldprice/data_models/mf_price_zillow-remarks_ridge.pkl'\n",
    "\n",
    "print(\"Ridge model: \")\n",
    "# t0 = time.time()\n",
    "\n",
    "# # train and save model\n",
    "# model = RidgeCV(alphas=(1.5, 2, 2.5, 3, 3.5, 4, 4.5, 5, 5.5))\n",
    "# utils.train_save_model(model, X=train_features, y=y_train, filename=filename)\n",
    "# print(\"training time: \", time.time()-t0)\n",
    "\n",
    "# load savced model and evaluate model performance\n",
    "utils.load_eval_model(filename=filename, X_train=train_features, X_val=val_features, y_train=y_train, y_val=y_val)"
   ]
  },
  {
   "cell_type": "code",
   "execution_count": 6,
   "metadata": {},
   "outputs": [
    {
     "name": "stdout",
     "output_type": "stream",
     "text": [
      "XGBoost model: \n",
      "XGBRegressor(base_score=0.5, booster='gbtree', colsample_bylevel=1,\n",
      "       colsample_bytree=1, gamma=0.2, learning_rate=0.1, max_delta_step=0,\n",
      "       max_depth=15, min_child_weight=1, missing=nan, n_estimators=1024,\n",
      "       n_jobs=1, nthread=None, objective='reg:linear', random_seed=9001,\n",
      "       random_state=0, reg_alpha=0, reg_lambda=100, scale_pos_weight=1,\n",
      "       seed=None, silent=True, subsample=1)\n",
      "----- Training scores -----\n",
      "R2 on log scale:  0.9505125076788117\n",
      "MAE on log scale:  0.11508254165735947\n",
      "MAE on original $ scale:  58425.09039159831\n",
      "----- Validation scores -----\n",
      "R2 on log scale:  0.8570005583944709\n",
      "MAE on log scale:  0.18749794501050573\n",
      "MAE on original $ scale:  91700.97600740132\n"
     ]
    }
   ],
   "source": [
    "# XGBoost\n",
    "filename = 'models/soldprice/data_models/mf_price_zillow-remarks_XGBoost.pkl'\n",
    "params = {\n",
    "    'max_depth':range(11,19,2),\n",
    "    'reg_lambda':[10, 100, 1000],\n",
    "    'n_estimators':[256, 512, 1024],\n",
    "    'gamma': [0.1, 0.2, 0.3]\n",
    "}\n",
    "\n",
    "print(\"XGBoost model: \")\n",
    "# t0 = time.time()\n",
    "\n",
    "# # model\n",
    "# model = XGBRegressor(random_seed=9001)\n",
    "# grid = GridSearchCV(model, params, verbose=1, n_jobs=-1)\n",
    "\n",
    "# # train and save model\n",
    "# utils.train_save_model(grid, X=train_features, y=y_train, filename=filename)\n",
    "# print(\"training time: \", time.time()-t0)\n",
    "\n",
    "# load savced model and evaluate model performance\n",
    "utils.load_eval_model(filename=filename, X_train=train_features, X_val=val_features, y_train=y_train, y_val=y_val)"
   ]
  },
  {
   "cell_type": "code",
   "execution_count": 7,
   "metadata": {},
   "outputs": [
    {
     "name": "stdout",
     "output_type": "stream",
     "text": [
      "Light GBM model: \n",
      "LGBMRegressor(boosting_type='gbdt', class_weight=None, colsample_bytree=1.0,\n",
      "       learning_rate=0.1, max_depth=-1, min_child_samples=20,\n",
      "       min_child_weight=0.001, min_split_gain=0.0, n_estimators=256,\n",
      "       n_jobs=-1, num_leaves=30, objective=None, random_state=9001,\n",
      "       reg_alpha=0.0, reg_lambda=100, silent=True, subsample=1.0,\n",
      "       subsample_for_bin=200000, subsample_freq=1)\n",
      "----- Training scores -----\n",
      "R2 on log scale:  0.9197747384894404\n",
      "MAE on log scale:  0.13467552790882598\n",
      "MAE on original $ scale:  68230.39772788587\n",
      "----- Validation scores -----\n",
      "R2 on log scale:  0.8605809576883381\n",
      "MAE on log scale:  0.18687709526328\n",
      "MAE on original $ scale:  93666.54603681735\n"
     ]
    }
   ],
   "source": [
    "# Light GBM\n",
    "filename = 'models/soldprice/data_models/mf_price_zillow-remarks_LGBM.pkl'\n",
    "params = {'num_leaves': [15, 30, 100], \n",
    "          'n_estimators':[128, 256, 512],\n",
    "          'reg_lambda': [10, 100, 500]\n",
    "         }\n",
    "\n",
    "print(\"Light GBM model: \")\n",
    "# t0 = time.time()\n",
    "\n",
    "# # model\n",
    "# model = model = LGBMRegressor(random_state=9001)\n",
    "# grid = GridSearchCV(model, params, verbose=1, n_jobs=-1)\n",
    "\n",
    "# # train and save model\n",
    "# utils.train_save_model(grid, X=train_features, y=y_train, filename=filename)\n",
    "# print(\"training time: \", time.time()-t0)\n",
    "\n",
    "# load savced model and evaluate model performance\n",
    "utils.load_eval_model(filename=filename, X_train=train_features, X_val=val_features, y_train=y_train, y_val=y_val)"
   ]
  },
  {
   "cell_type": "markdown",
   "metadata": {},
   "source": [
    "### Test-Train Split, Response = 'DOM'"
   ]
  },
  {
   "cell_type": "code",
   "execution_count": 8,
   "metadata": {},
   "outputs": [
    {
     "name": "stdout",
     "output_type": "stream",
     "text": [
      "Number of features from zillow:  10\n",
      "Number of features from redfin:  20\n",
      "Number of features from images:  2048\n",
      "Number of features from remarks:  20\n",
      "Number of training samples:  11965\n",
      "Number of validation samples:  1330\n"
     ]
    }
   ],
   "source": [
    "response_col = 'DOM'\n",
    "test_size = 0.1\n",
    "random_state = 9001\n",
    "\n",
    "# read in data \n",
    "df = utils.read_preprocess_df(data_filename, response_col=response_col)\n",
    "\n",
    "# test train split\n",
    "X_train_dict, X_val_dict, y_train, y_val = utils.split_normalize_df(df=df, response_col=response_col, test_size=test_size, random_state=random_state)"
   ]
  },
  {
   "cell_type": "markdown",
   "metadata": {},
   "source": [
    "### Train models"
   ]
  },
  {
   "cell_type": "code",
   "execution_count": 9,
   "metadata": {},
   "outputs": [
    {
     "name": "stdout",
     "output_type": "stream",
     "text": [
      "Ridge model: \n",
      "best alpha:  1.5\n",
      "----- Training scores -----\n",
      "R2 on log scale:  0.05102712155595335\n",
      "MAE on log scale:  0.20273738433744393\n",
      "MAE on original $ scale:  0.7442335973806892\n",
      "----- Validation scores -----\n",
      "R2 on log scale:  0.05741820025684541\n",
      "MAE on log scale:  0.20381250432600204\n",
      "MAE on original $ scale:  0.7487210419393997\n"
     ]
    }
   ],
   "source": [
    "# Ridge\n",
    "filename = 'models/dom/data_models/mf_dom_zillow-remarks_ridge.pkl'\n",
    "\n",
    "print(\"Ridge model: \")\n",
    "# t0 = time.time()\n",
    "\n",
    "# # train and save model\n",
    "# model = RidgeCV(alphas=(1, 1.5, 2, 2.5, 3, 3.5, 4, 4.5, 5, 5.5))\n",
    "# utils.train_save_model(model, X=train_features, y=y_train, filename=filename)\n",
    "# print(\"training time: \", time.time()-t0)\n",
    "\n",
    "# load savced model and evaluate model performance\n",
    "utils.load_eval_model(filename=filename, X_train=train_features, X_val=val_features, y_train=y_train, y_val=y_val)"
   ]
  },
  {
   "cell_type": "code",
   "execution_count": 10,
   "metadata": {},
   "outputs": [
    {
     "name": "stdout",
     "output_type": "stream",
     "text": [
      "XGBoost model: \n",
      "XGBRegressor(base_score=0.5, booster='gbtree', colsample_bylevel=1,\n",
      "       colsample_bytree=1, gamma=0.2, learning_rate=0.1, max_delta_step=0,\n",
      "       max_depth=9, min_child_weight=1, missing=nan, n_estimators=256,\n",
      "       n_jobs=1, nthread=None, objective='reg:linear', random_seed=9001,\n",
      "       random_state=0, reg_alpha=0, reg_lambda=1000.0, scale_pos_weight=1,\n",
      "       seed=None, silent=True, subsample=1)\n",
      "----- Training scores -----\n",
      "R2 on log scale:  0.181442749951906\n",
      "MAE on log scale:  0.188024205563013\n",
      "MAE on original $ scale:  0.6905133609703671\n",
      "----- Validation scores -----\n",
      "R2 on log scale:  0.10943112872434158\n",
      "MAE on log scale:  0.1977497892944632\n",
      "MAE on original $ scale:  0.7263210134623477\n"
     ]
    }
   ],
   "source": [
    "# XGBoost\n",
    "filename = 'models/dom/data_models/mf_dom_zillow-remarks_XGBoost.pkl'\n",
    "params = {\n",
    "    'max_depth':[7, 9, 11, 13],\n",
    "    'reg_lambda':[1e2, 1e3, 1e4],\n",
    "    'n_estimators':[128, 256, 512],\n",
    "    'gamma': [0.1, 0.2, 0.3]\n",
    "}\n",
    "\n",
    "print(\"XGBoost model: \")\n",
    "# t0 = time.time()\n",
    "\n",
    "# # model\n",
    "# model = XGBRegressor(random_seed=9001)\n",
    "# grid = GridSearchCV(model, params, verbose=1, n_jobs=-1)\n",
    "\n",
    "# # train and save model\n",
    "# utils.train_save_model(grid, X=train_features, y=y_train, filename=filename)\n",
    "# print(\"training time: \", time.time()-t0)\n",
    "\n",
    "# load savced model and evaluate model performance\n",
    "utils.load_eval_model(filename=filename, X_train=train_features, X_val=val_features, y_train=y_train, y_val=y_val)"
   ]
  },
  {
   "cell_type": "code",
   "execution_count": 11,
   "metadata": {},
   "outputs": [
    {
     "name": "stdout",
     "output_type": "stream",
     "text": [
      "Light GBM model: \n",
      "LGBMRegressor(boosting_type='gbdt', class_weight=None, colsample_bytree=1.0,\n",
      "       learning_rate=0.1, max_depth=8, min_child_samples=20,\n",
      "       min_child_weight=0.001, min_split_gain=0.0, n_estimators=64,\n",
      "       n_jobs=-1, num_leaves=15, objective=None, random_state=9001,\n",
      "       reg_alpha=0.0, reg_lambda=100, silent=True, subsample=1.0,\n",
      "       subsample_for_bin=200000, subsample_freq=1)\n",
      "----- Training scores -----\n",
      "R2 on log scale:  0.1755450084919049\n",
      "MAE on log scale:  0.18877253264569727\n",
      "MAE on original $ scale:  0.692890830578461\n",
      "----- Validation scores -----\n",
      "R2 on log scale:  0.1077989487199289\n",
      "MAE on log scale:  0.19831213696285724\n",
      "MAE on original $ scale:  0.7284938625887678\n"
     ]
    }
   ],
   "source": [
    "# Light GBM\n",
    "filename = 'models/dom/data_models/mf_dom_zillow-remarks_LGBM.pkl'\n",
    "params = {'num_leaves': [5, 15, 30], \n",
    "          'max_depth': [-1, 4, 8, 16],\n",
    "          'n_estimators':[16, 32, 64, 128],\n",
    "          'reg_lambda': [10, 100, 1000]\n",
    "         }\n",
    "\n",
    "print(\"Light GBM model: \")\n",
    "# t0 = time.time()\n",
    "\n",
    "# # model\n",
    "# model = model = LGBMRegressor(random_state=9001)\n",
    "# grid = GridSearchCV(model, params, verbose=1, n_jobs=-1)\n",
    "\n",
    "# # train and save model\n",
    "# utils.train_save_model(grid, X=train_features, y=y_train, filename=filename)\n",
    "# print(\"training time: \", time.time()-t0)\n",
    "\n",
    "# load savced model and evaluate model performance\n",
    "utils.load_eval_model(filename=filename, X_train=train_features, X_val=val_features, y_train=y_train, y_val=y_val)"
   ]
  },
  {
   "cell_type": "code",
   "execution_count": null,
   "metadata": {},
   "outputs": [],
   "source": []
  },
  {
   "cell_type": "code",
   "execution_count": null,
   "metadata": {},
   "outputs": [],
   "source": []
  }
 ],
 "metadata": {
  "kernelspec": {
   "display_name": "Python 3",
   "language": "python",
   "name": "python3"
  },
  "language_info": {
   "codemirror_mode": {
    "name": "ipython",
    "version": 3
   },
   "file_extension": ".py",
   "mimetype": "text/x-python",
   "name": "python",
   "nbconvert_exporter": "python",
   "pygments_lexer": "ipython3",
   "version": "3.6.4"
  }
 },
 "nbformat": 4,
 "nbformat_minor": 2
}
